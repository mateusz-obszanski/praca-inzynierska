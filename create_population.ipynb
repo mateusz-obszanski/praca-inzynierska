{
 "cells": [
  {
   "cell_type": "code",
   "execution_count": 12,
   "id": "d8feffe5-c860-4b22-8d54-676eb9e09133",
   "metadata": {},
   "outputs": [],
   "source": [
    "from enum import Enum, auto\n",
    "from dataclasses import fields\n",
    "import ipywidgets as wgt\n",
    "from IPython import display\n",
    "from pathlib import Path\n",
    "import json\n",
    "from typing import Any\n",
    "from datetime import datetime\n",
    "\n",
    "import numpy as np"
   ]
  },
  {
   "cell_type": "code",
   "execution_count": 1,
   "id": "f1bd57c3",
   "metadata": {},
   "outputs": [],
   "source": [
    "from libs.environment.cost_calculators import *\n",
    "from libs.optimizers.algorithms.genetic.operators.mutations import *\n",
    "from libs.optimizers.algorithms.genetic.operators.crossovers import *\n",
    "from libs.optimizers.algorithms.genetic.operators.fixers import *\n",
    "from libs.optimizers.algorithms.genetic.population import Population\n",
    "from libs.optimizers.algorithms.genetic.population.generators import *\n",
    "from libs.optimizers.algorithms.genetic.population.parent_selectors import *\n",
    "from libs.optimizers.algorithms.genetic.population.population_selectors import *\n",
    "from libs.optimizers.algorithms.genetic.operators.fixers import *\n",
    "from libs.solution.initial_solution_creators.heuristic import *\n",
    "from libs.solution.initial_solution_creators.random import *"
   ]
  },
  {
   "cell_type": "markdown",
   "id": "b08204c0",
   "metadata": {},
   "source": [
    "## TSP"
   ]
  },
  {
   "cell_type": "code",
   "execution_count": 3,
   "id": "4f7ffc88",
   "metadata": {},
   "outputs": [],
   "source": [
    "RND_SEED = 0\n",
    "rng = np.random.default_rng(seed=RND_SEED)"
   ]
  },
  {
   "cell_type": "code",
   "execution_count": 9,
   "id": "7bb853c5",
   "metadata": {},
   "outputs": [],
   "source": [
    "class CreatorType(Enum):\n",
    "    HEURISTIC = auto()\n",
    "    RANDOM = auto()\n",
    "\n",
    "\n",
    "def generate_initial_population(\n",
    "    size: int,\n",
    "    cost_mx: np.ndarray,\n",
    "    prob_of_swap: float,\n",
    "    creator_t: CreatorType = CreatorType.RANDOM,\n",
    "    initial_vx: int = 0,\n",
    "):\n",
    "    \"\"\"\n",
    "    If `creator_t` is `HEURISTIC`, generates one solution and its mutated copies.\n",
    "    If `creator_t` is `RANDOM`, generates `n` random solutions.\n",
    "    \"\"\"\n",
    "    if creator_t == CreatorType.HEURISTIC:\n",
    "        initial_solution = create_tsp_solution_nearest_neighbour(cost_mx, initial_vx)\n",
    "        mutated_solutions = (\n",
    "            mutate_swap(initial_solution, p=prob_of_swap, rng=rng)[0]\n",
    "            for _ in range(size - 1)\n",
    "        )\n",
    "        return [initial_solution, *mutated_solutions]\n",
    "\n",
    "    return [create_tsp_solution_random(cost_mx, initial_vx, rng) for _ in range(size)]"
   ]
  },
  {
   "cell_type": "code",
   "execution_count": null,
   "id": "7b3b1299",
   "metadata": {},
   "outputs": [],
   "source": [
    "ENV_LOAD_DIR = Path(\"./data/environments\")\n",
    "loaded_data: list[dict[str, Any]] = [{}]\n",
    "file_to_load_name_wgt = wgt.Text(\n",
    "    description=\"file to load\", placeholder=\"type json filename\"\n",
    ")\n",
    "load_data_btn = wgt.Button(description=\"load data\")\n",
    "\n",
    "\n",
    "def load_data_cb(_):\n",
    "    load_path = ENV_LOAD_DIR / file_to_load_name_wgt.value\n",
    "    if not load_path.exists():\n",
    "        raise FileNotFoundError(str(load_path))\n",
    "    with load_path.open(\"r\") as f:\n",
    "        loaded_data[0] = json.load(f)\n",
    "\n",
    "load_data_btn.on_click(load_data_cb)\n",
    "display(file_to_load_name_wgt)\n",
    "display(load_data_btn)"
   ]
  },
  {
   "cell_type": "code",
   "execution_count": null,
   "id": "b4603d9e",
   "metadata": {},
   "outputs": [],
   "source": [
    "SAVE_DIR = Path(\"./data/populations/tsp\")\n",
    "SAVE_PATH_TIME_FMT = \"%Y-%m-%d_%H-%M-%S\"\n",
    "\n",
    "cost_mx = loaded_data[0][\"travel_time\"]\n",
    "initial_vx_wgt = wgt.BoundedIntText(description=\"initial vertex\", value=0, min=0, max=cost_mx.shape[0]-1)\n",
    "pop_size_wgt = wgt.BoundedIntText(description=\"population size\", min=0, max=100)\n",
    "prob_of_swap_wgt = wgt.BoundedFloatText(description=\"swap prob\", value=0.1, min=0, max=1)\n",
    "creator_t_wgt = wgt.Dropdown(description=\"creator\", value=CreatorType.RANDOM, options=[(e.name, e) for e in CreatorType])\n",
    "generate_btn = wgt.Button(description=\"generate population\")\n",
    "\n",
    "generated_population = [[]]\n",
    "initial_costs = [[]]\n",
    "\n",
    "def create_population_cb(_):\n",
    "    \"\"\"\n",
    "    Generates population and saves it.\n",
    "    \"\"\"\n",
    "    initial_vx = initial_vx_wgt.value\n",
    "    new_pop = generate_initial_population(\n",
    "        size=pop_size_wgt.value,\n",
    "        cost_mx=cost_mx,\n",
    "        creator_t=creator_t_wgt.value,\n",
    "        prob_of_swap=prob_of_swap_wgt.value,\n",
    "        initial_vx=initial_vx,\n",
    "    )\n",
    "    fixed_pop_and_fix_results = [fix_tsp(c, cost_mx, initial_vx) for c in new_pop]\n",
    "    fixed_pop = [x[0] for x in fixed_pop_and_fix_results]\n",
    "    fix_results = [x[1] for x in fixed_pop_and_fix_results]\n",
    "    fix_results_parsed = [{\"no_of_errors\": fr.no_of_errors, \"fix_status\": fr.fix_status.name} for fr in fix_results]\n",
    "    fixed_pop_costs = [calculate_total_cost(cost_tsp_gen(s, cost_mx, initial_vx)) for s in fixed_pop]\n",
    "    generated_population[0] = fixed_pop\n",
    "    initial_costs[0] = fixed_pop_costs\n",
    "    now_str = datetime.now().strftime(SAVE_PATH_TIME_FMT)\n",
    "    save_path = SAVE_DIR / f\"population_tsp_{now_str}.json\"\n",
    "    with save_path.open(\"w\") as f:\n",
    "        json.dump({\"population\": fixed_pop, \"costs\": fixed_pop_costs, \"fix_results\": fix_results_parsed}, f)\n",
    "\n",
    "\n",
    "tsp_gen_widgets = wgt.VBox(children=[\n",
    "    initial_vx_wgt, pop_size_wgt, prob_of_swap_wgt, creator_t_wgt\n",
    "])\n",
    "\n",
    "generate_btn.on_click(create_population_cb)\n",
    "\n",
    "display(tsp_gen_widgets)\n",
    "display(generate_btn)"
   ]
  },
  {
   "cell_type": "code",
   "execution_count": null,
   "id": "11352299",
   "metadata": {},
   "outputs": [],
   "source": []
  },
  {
   "cell_type": "markdown",
   "id": "78eb36d1",
   "metadata": {},
   "source": [
    "## TODOs\n",
    "\n",
    "- MTSP - jak wyżej\n",
    "- MVMTSP - jak wyżej, inne mutatory, liczyć koszt na podst. wizyt w wierzchołkach\n",
    "- IRP - inne mutatory, koszt na podst. zostawianego towaru, który odnawia się\n",
    "  po wizycie w depocie (optymalizacja - powrót do depota najkrótszą drogą (Dijkstra)\n",
    "  po zużyciu towaru)\n",
    "- jupyterowy kreator configów\n",
    "- scheduler dla eksperymentów"
   ]
  }
 ],
 "metadata": {
  "kernelspec": {
   "display_name": "Python 3 (ipykernel)",
   "language": "python",
   "name": "python3"
  },
  "language_info": {
   "codemirror_mode": {
    "name": "ipython",
    "version": 3
   },
   "file_extension": ".py",
   "mimetype": "text/x-python",
   "name": "python",
   "nbconvert_exporter": "python",
   "pygments_lexer": "ipython3",
   "version": "3.9.9"
  }
 },
 "nbformat": 4,
 "nbformat_minor": 5
}
