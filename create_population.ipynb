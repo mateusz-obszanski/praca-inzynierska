{
 "cells": [
  {
   "cell_type": "code",
   "execution_count": 11,
   "id": "d8feffe5-c860-4b22-8d54-676eb9e09133",
   "metadata": {},
   "outputs": [],
   "source": [
    "from enum import Enum, auto\n",
    "from dataclasses import fields, dataclass, field\n",
    "import ipywidgets as wgt\n",
    "from IPython.display import display\n",
    "from pathlib import Path\n",
    "import json\n",
    "from typing import Any\n",
    "from datetime import datetime\n",
    "import io\n",
    "from traceback import format_exc\n",
    "\n",
    "import numpy as np"
   ]
  },
  {
   "cell_type": "code",
   "execution_count": 18,
   "id": "f1bd57c3",
   "metadata": {},
   "outputs": [],
   "source": [
    "from libs.optimizers.algorithms.genetic.operators.fixers import *\n",
    "from libs.solution.initial_solution_creators.heuristic import *\n",
    "from libs.solution.initial_solution_creators.random import *\n",
    "from libs.utils.matrix import extend_cost_mx"
   ]
  },
  {
   "cell_type": "markdown",
   "id": "b08204c0",
   "metadata": {},
   "source": [
    "## TSP"
   ]
  },
  {
   "cell_type": "code",
   "execution_count": 13,
   "id": "4f7ffc88",
   "metadata": {},
   "outputs": [],
   "source": [
    "RND_SEED = 0\n",
    "rng = np.random.default_rng(seed=RND_SEED)"
   ]
  },
  {
   "cell_type": "code",
   "execution_count": 19,
   "id": "87187e32-112f-4a34-b73a-0d0d92afcd04",
   "metadata": {},
   "outputs": [],
   "source": [
    "@dataclass\n",
    "class CbDataStore:\n",
    "    data: dict[str, Any] = field(default_factory=dict)\n",
    "    io_buff: io.StringIO = field(default_factory=io.StringIO)\n",
    "\n",
    "\n",
    "class ExpT(Enum):\n",
    "    TSP = auto()\n",
    "    VRP = auto()\n",
    "    VRPP = auto()\n",
    "    IRP = auto()\n",
    "    UNSPECIFIED = auto()"
   ]
  },
  {
   "cell_type": "code",
   "execution_count": 22,
   "id": "d4ed3a8d-372c-4d16-8f12-8048bbddaec7",
   "metadata": {},
   "outputs": [],
   "source": [
    "def generate_initial_population(\n",
    "    size: int,\n",
    "    cost_mx: np.ndarray,\n",
    "    exp_t: ExpT,\n",
    "    drone_n: int,\n",
    "    vehicle_volume: float,\n",
    "):\n",
    "    quantity_lists = None\n",
    "    if exp_t == ExpT.TSP:\n",
    "        drone_n = 1\n",
    "        vx_seqs = [\n",
    "            create_tsp_sol_rand(cost_mx, initial_vx, rng)[0] for _ in range(size)\n",
    "        ]\n",
    "    else:\n",
    "        ext_cost_mx = extend_cost_mx(cost_mx, copy_n=drone_n, to_copy_ix=0)\n",
    "        ini_and_dummy_vxs = {*range(drone_n)}\n",
    "        if exp_t in [ExpT.VRP, ExpT.VRPP]:\n",
    "            vx_seqs = [\n",
    "                create_vrp_sol_rand(\n",
    "                    ext_cost_mx,\n",
    "                    initial_ix=0,\n",
    "                    rng=rng,\n",
    "                    ini_and_dummy_vxs=ini_and_dummy_vxs,\n",
    "                )[0]\n",
    "                for _ in range(size)\n",
    "            ]\n",
    "        elif exp_t == ExpT.IRP:\n",
    "            vx_seqs, quantity_lists = zip(\n",
    "                *(\n",
    "                    create_irp_sol_rand(\n",
    "                        ext_cost_mx,\n",
    "                        initial_ix=0,\n",
    "                        rng=rng,\n",
    "                        ini_and_dummy_vxs=ini_and_dummy_vxs,\n",
    "                        vehicle_volume=vehicle_volume,\n",
    "                    )[:-1]\n",
    "                )\n",
    "            )\n",
    "        else:\n",
    "            raise ValueError(f\"`exp_t` not handlable: {exp_t}\")\n",
    "    if quantity_lists is None:\n",
    "        quantity_lists = [None for _ in vx_seqs]\n",
    "    return {\n",
    "        \"exp_t\": exp_t,\n",
    "        \"drone_n\": drone_n,\n",
    "        \"ini_and_nummy_vxs\": list(ini_and_dummy_vxs),\n",
    "        \"initial_vx\": 0,\n",
    "        \"population\": [\n",
    "            {\"vx_seq\": vs, \"quantities\": q} for vs, q in zip(vx_seqs, quantity_lists)\n",
    "        ],\n",
    "    }"
   ]
  },
  {
   "cell_type": "code",
   "execution_count": 24,
   "id": "1ef6462c-26af-410e-985c-b6ceddc160b7",
   "metadata": {},
   "outputs": [
    {
     "data": {
      "application/vnd.jupyter.widget-view+json": {
       "model_id": "c13008f7c8b949e28513634bf7e69aa3",
       "version_major": 2,
       "version_minor": 0
      },
      "text/plain": [
       "Text(value='', description='file to load', placeholder='type json filename')"
      ]
     },
     "metadata": {},
     "output_type": "display_data"
    },
    {
     "data": {
      "application/vnd.jupyter.widget-view+json": {
       "model_id": "11d7ea96600f4beeb53e2e9f605b96a2",
       "version_major": 2,
       "version_minor": 0
      },
      "text/plain": [
       "Button(description='load data', style=ButtonStyle())"
      ]
     },
     "metadata": {},
     "output_type": "display_data"
    }
   ],
   "source": [
    "ENV_LOAD_DIR = Path(\"./data/environments\")\n",
    "gen_btn = wgt.Button(description=\"generate missing populations\")\n",
    "data_store = CbDataStore()\n",
    "\n",
    "\n",
    "def gen_pop_cb(_):\n",
    "    try:\n",
    "        if not ENV_LOAD_DIR.exists():\n",
    "            raise FileNotFoundError(str(load_path))\n",
    "        for fpath in (p for p in ENV_LOAD_DIR.iterdir() if p.is_file()):\n",
    "            with fpath.open(\"r\") as f:\n",
    "                data = json.load(f)\n",
    "            gen_set = data[\"generation_setup\"]\n",
    "            for k in (\n",
    "                \"coords\",\n",
    "                \"distance\",\n",
    "                \"distance_disabled\",\n",
    "                \"wind\",\n",
    "                \"effective_speed\",\n",
    "                \"travel_time\",\n",
    "            ):\n",
    "                data[k] = np.array(data[k])\n",
    "            loaded_data[0] = data\n",
    "    except Exception as e:\n",
    "        data_store.io_buff.write(f\"Exception: {type(e)} - {e}\\n{format_exc()}\")\n",
    "\n",
    "\n",
    "load_data_btn.on_click(gen_pop_cb)"
   ]
  },
  {
   "cell_type": "code",
   "execution_count": 4,
   "id": "7bb853c5",
   "metadata": {},
   "outputs": [],
   "source": [
    "# class CreatorType(Enum):\n",
    "#     HEURISTIC = auto()\n",
    "#     RANDOM = auto()\n",
    "\n",
    "\n",
    "# def generate_initial_population(\n",
    "#     size: int,\n",
    "#     cost_mx: np.ndarray,\n",
    "#     prob_of_swap: float,\n",
    "#     creator_t: CreatorType,\n",
    "#     initial_vx: int,\n",
    "# ):\n",
    "#     \"\"\"\n",
    "#     If `creator_t` is `HEURISTIC`, generates one solution and its mutated copies.\n",
    "#     If `creator_t` is `RANDOM`, generates `n` random solutions.\n",
    "#     \"\"\"\n",
    "#     if creator_t == CreatorType.HEURISTIC:\n",
    "#         initial_solution = create_tsp_solution_nearest_neighbour(cost_mx, initial_vx)\n",
    "#         mutated_solutions = (\n",
    "#             mutate_swap(initial_solution, p=prob_of_swap, rng=rng)[0]\n",
    "#             for _ in range(size - 1)\n",
    "#         )\n",
    "#         return [initial_solution, *mutated_solutions]\n",
    "\n",
    "#     return [create_tsp_solution_random(cost_mx, initial_vx, rng) for _ in range(size)]"
   ]
  },
  {
   "cell_type": "code",
   "execution_count": 5,
   "id": "7b3b1299",
   "metadata": {},
   "outputs": [
    {
     "data": {
      "application/vnd.jupyter.widget-view+json": {
       "model_id": "c13008f7c8b949e28513634bf7e69aa3",
       "version_major": 2,
       "version_minor": 0
      },
      "text/plain": [
       "Text(value='', description='file to load', placeholder='type json filename')"
      ]
     },
     "metadata": {},
     "output_type": "display_data"
    },
    {
     "data": {
      "application/vnd.jupyter.widget-view+json": {
       "model_id": "11d7ea96600f4beeb53e2e9f605b96a2",
       "version_major": 2,
       "version_minor": 0
      },
      "text/plain": [
       "Button(description='load data', style=ButtonStyle())"
      ]
     },
     "metadata": {},
     "output_type": "display_data"
    }
   ],
   "source": [
    "# ENV_LOAD_DIR = Path(\"./data/environments\")\n",
    "# loaded_data: list[dict[str, Any]] = [{}]\n",
    "# file_to_load_name_wgt = wgt.Text(\n",
    "#     description=\"file to load\", placeholder=\"type json filename\"\n",
    "# )\n",
    "# load_data_btn = wgt.Button(description=\"load data\")\n",
    "\n",
    "# str_buff = io.StringIO()\n",
    "\n",
    "\n",
    "# def load_data_cb(_):\n",
    "#     try:\n",
    "#         load_path = ENV_LOAD_DIR / file_to_load_name_wgt.value\n",
    "#         if not load_path.exists():\n",
    "#             raise FileNotFoundError(str(load_path))\n",
    "#         with load_path.open(\"r\") as f:\n",
    "#             data = json.load(f)\n",
    "#         for k in (\n",
    "#             \"coords\",\n",
    "#             \"distance\",\n",
    "#             \"distance_disabled\",\n",
    "#             \"wind\",\n",
    "#             \"effective_speed\",\n",
    "#             \"travel_time\",\n",
    "#         ):\n",
    "#             data[k] = np.array(data[k])\n",
    "#         loaded_data[0] = data\n",
    "#     except Exception as e:\n",
    "#         str_buff.write(f\"Exception: {type(e)} - {e}\\n{format_exc()}\")\n",
    "\n",
    "\n",
    "# load_data_btn.on_click(load_data_cb)\n",
    "# display(file_to_load_name_wgt)\n",
    "# display(load_data_btn)"
   ]
  },
  {
   "cell_type": "code",
   "execution_count": null,
   "id": "4f237d0d-3ad7-4f9b-8e8a-34946038075b",
   "metadata": {},
   "outputs": [],
   "source": [
    "str_buff.seek(0)\n",
    "print(str_buff.read())"
   ]
  },
  {
   "cell_type": "code",
   "execution_count": 6,
   "id": "b4603d9e",
   "metadata": {},
   "outputs": [
    {
     "ename": "KeyError",
     "evalue": "'travel_time'",
     "output_type": "error",
     "traceback": [
      "\u001b[1;31m---------------------------------------------------------------------------\u001b[0m",
      "\u001b[1;31mKeyError\u001b[0m                                  Traceback (most recent call last)",
      "\u001b[1;32m~\\AppData\\Local\\Temp/ipykernel_15348/3934789405.py\u001b[0m in \u001b[0;36m<module>\u001b[1;34m\u001b[0m\n\u001b[0;32m      2\u001b[0m \u001b[0mSAVE_PATH_TIME_FMT\u001b[0m \u001b[1;33m=\u001b[0m \u001b[1;34m\"%Y-%m-%d_%H-%M-%S\"\u001b[0m\u001b[1;33m\u001b[0m\u001b[1;33m\u001b[0m\u001b[0m\n\u001b[0;32m      3\u001b[0m \u001b[1;33m\u001b[0m\u001b[0m\n\u001b[1;32m----> 4\u001b[1;33m \u001b[0mcost_mx\u001b[0m \u001b[1;33m=\u001b[0m \u001b[0mloaded_data\u001b[0m\u001b[1;33m[\u001b[0m\u001b[1;36m0\u001b[0m\u001b[1;33m]\u001b[0m\u001b[1;33m[\u001b[0m\u001b[1;34m\"travel_time\"\u001b[0m\u001b[1;33m]\u001b[0m\u001b[1;33m\u001b[0m\u001b[1;33m\u001b[0m\u001b[0m\n\u001b[0m\u001b[0;32m      5\u001b[0m \u001b[1;33m\u001b[0m\u001b[0m\n\u001b[0;32m      6\u001b[0m \u001b[0mgenerated_population\u001b[0m \u001b[1;33m=\u001b[0m \u001b[1;33m[\u001b[0m\u001b[1;33m[\u001b[0m\u001b[1;33m]\u001b[0m\u001b[1;33m]\u001b[0m\u001b[1;33m\u001b[0m\u001b[1;33m\u001b[0m\u001b[0m\n",
      "\u001b[1;31mKeyError\u001b[0m: 'travel_time'"
     ]
    }
   ],
   "source": [
    "SAVE_DIR = Path(\"./data/populations/tsp\")\n",
    "SAVE_PATH_TIME_FMT = \"%Y-%m-%d_%H-%M-%S\"\n",
    "\n",
    "cost_mx = loaded_data[0][\"travel_time\"]\n",
    "\n",
    "generated_population = [[]]\n",
    "initial_costs = [[]]\n",
    "\n",
    "widgets = {\n",
    "    \"initial_vx\": wgt.BoundedIntText(value=0, min=0, max=cost_mx.shape[0] - 1),\n",
    "    \"size\": wgt.BoundedIntText(value=2, min=2, max=100, step=2),\n",
    "    \"prob_of_swap\": wgt.BoundedFloatText(value=0.1, min=0, max=1, step=0.05),\n",
    "    \"creator_t\": wgt.Dropdown(\n",
    "        value=CreatorType.RANDOM, options=[(e.name, e) for e in CreatorType]\n",
    "    ),\n",
    "}\n",
    "LABEL_WIDTH = \"150px\"\n",
    "descriptions = {\n",
    "    \"initial_vx\": \"initial vertex\",\n",
    "    \"size\": \"population size\",\n",
    "    \"prob_of_swap\": \"prob of vertex swap\",\n",
    "    \"creator_t\": \"creation method\",\n",
    "}\n",
    "pop_gen_wgts = wgt.VBox(\n",
    "    [\n",
    "        wgt.HBox(\n",
    "            children=[\n",
    "                wgt.Label(  # type: ignore\n",
    "                    descriptions[widget_key], layout=wgt.Layout(width=LABEL_WIDTH)  # type: ignore\n",
    "                ),\n",
    "                widgets[widget_key],\n",
    "            ]\n",
    "        )\n",
    "        for widget_key in widgets\n",
    "    ]\n",
    ")\n",
    "\n",
    "str_buff = io.StringIO()\n",
    "\n",
    "\n",
    "def create_population_cb(_):\n",
    "    \"\"\"\n",
    "    Generates population and saves it.\n",
    "    \"\"\"\n",
    "    try:\n",
    "        widget_vals = {k: w.value for k, w in widgets.items()}\n",
    "        initial_vx = widget_vals[\"initial_vx\"]\n",
    "        new_pop = generate_initial_population(cost_mx=cost_mx, **widget_vals)\n",
    "        fixed_pop_and_fix_results = [fix_tsp(c, cost_mx, initial_vx) for c in new_pop]\n",
    "        fixed_pop = [x[0] for x in fixed_pop_and_fix_results]\n",
    "        fix_results = [x[1] for x in fixed_pop_and_fix_results]\n",
    "        fix_results_parsed = [\n",
    "            {\"no_of_errors\": fr.no_of_errors, \"fix_status\": fr.fix_status.name}\n",
    "            for fr in fix_results\n",
    "        ]\n",
    "        fixed_pop_costs = [\n",
    "            calculate_total_cost(cost_tsp_gen(s, cost_mx, initial_vx))\n",
    "            for s in fixed_pop\n",
    "        ]\n",
    "        generated_population[0] = fixed_pop\n",
    "        initial_costs[0] = fixed_pop_costs\n",
    "        now_str = datetime.now().strftime(SAVE_PATH_TIME_FMT)\n",
    "        save_path = SAVE_DIR / f\"population_tsp_{now_str}.json\"\n",
    "        with save_path.open(\"w\") as f:\n",
    "            json.dump(\n",
    "                {\n",
    "                    \"population\": fixed_pop,\n",
    "                    \"costs\": fixed_pop_costs,\n",
    "                    \"fix_results\": fix_results_parsed,\n",
    "                },\n",
    "                f,\n",
    "            )\n",
    "    except Exception as e:\n",
    "        str_buff.write(f\"Exception: {type(e)} - {e}\\n{format_exc()}\")\n",
    "\n",
    "\n",
    "generate_btn = wgt.Button(description=\"generate population\")\n",
    "generate_btn.on_click(create_population_cb)\n",
    "\n",
    "display(pop_gen_wgts)\n",
    "display(generate_btn)"
   ]
  },
  {
   "cell_type": "code",
   "execution_count": 31,
   "id": "f8766005-78ca-473d-9930-db83fa943f0f",
   "metadata": {},
   "outputs": [
    {
     "name": "stdout",
     "output_type": "stream",
     "text": [
      "[]\n",
      "\n"
     ]
    }
   ],
   "source": [
    "str_buff.seek(0)\n",
    "print(str_buff.read())"
   ]
  },
  {
   "cell_type": "code",
   "execution_count": 43,
   "id": "4dabaf8d-5eb5-4464-9324-fad77c91ada1",
   "metadata": {},
   "outputs": [
    {
     "data": {
      "text/plain": [
       "[[[0, 7, 8, 5, 6, 4, 3, 1, 2],\n",
       "  [0, 2, 4, 1, 6, 8, 3, 7, 5],\n",
       "  [0, 3, 6, 7, 2, 8, 4, 1, 5],\n",
       "  [0, 5, 3, 7, 6, 2, 1, 8, 4],\n",
       "  [0, 3, 6, 8, 7, 5, 1, 2, 4],\n",
       "  [0, 4, 1, 6, 5, 3, 8, 7, 2],\n",
       "  [0, 3, 8, 7, 2, 4, 5, 1, 6],\n",
       "  [0, 1, 2, 5, 8, 3, 6, 7, 4],\n",
       "  [0, 8, 6, 7, 4, 1, 2, 5, 3],\n",
       "  [0, 6, 7, 2, 4, 5, 3, 1, 8]]]"
      ]
     },
     "execution_count": 43,
     "metadata": {},
     "output_type": "execute_result"
    }
   ],
   "source": [
    "generated_population"
   ]
  },
  {
   "cell_type": "markdown",
   "id": "78eb36d1",
   "metadata": {},
   "source": [
    "## TODOs\n",
    "\n",
    "- MTSP - jak wyżej\n",
    "- MVMTSP - jak wyżej, inne mutatory, liczyć koszt na podst. wizyt w wierzchołkach\n",
    "- IRP - inne mutatory, koszt na podst. zostawianego towaru, który odnawia się\n",
    "  po wizycie w depocie (optymalizacja - powrót do depota najkrótszą drogą (Dijkstra)\n",
    "  po zużyciu towaru)\n",
    "- jupyterowy kreator configów\n",
    "- scheduler dla eksperymentów"
   ]
  }
 ],
 "metadata": {
  "kernelspec": {
   "display_name": "Python 3 (ipykernel)",
   "language": "python",
   "name": "python3"
  },
  "language_info": {
   "codemirror_mode": {
    "name": "ipython",
    "version": 3
   },
   "file_extension": ".py",
   "mimetype": "text/x-python",
   "name": "python",
   "nbconvert_exporter": "python",
   "pygments_lexer": "ipython3",
   "version": "3.9.9"
  }
 },
 "nbformat": 4,
 "nbformat_minor": 5
}
