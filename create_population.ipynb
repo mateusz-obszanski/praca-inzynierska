{
 "cells": [
  {
   "cell_type": "code",
   "execution_count": 1,
   "id": "d8feffe5-c860-4b22-8d54-676eb9e09133",
   "metadata": {},
   "outputs": [],
   "source": [
    "from enum import Enum, auto\n",
    "from dataclasses import fields\n",
    "import ipywidgets as wgt\n",
    "from IPython.display import display\n",
    "from pathlib import Path\n",
    "import json\n",
    "from typing import Any\n",
    "from datetime import datetime\n",
    "import io\n",
    "from traceback import format_exc\n",
    "\n",
    "import numpy as np"
   ]
  },
  {
   "cell_type": "code",
   "execution_count": 2,
   "id": "f1bd57c3",
   "metadata": {},
   "outputs": [],
   "source": [
    "from libs.environment.cost_calculators import *\n",
    "from libs.optimizers.algorithms.genetic.operators.mutations import *\n",
    "from libs.optimizers.algorithms.genetic.operators.crossovers import *\n",
    "from libs.optimizers.algorithms.genetic.operators.fixers import *\n",
    "from libs.optimizers.algorithms.genetic.population import Population\n",
    "from libs.optimizers.algorithms.genetic.population.parent_selectors import *\n",
    "from libs.optimizers.algorithms.genetic.population.population_selectors import *\n",
    "from libs.optimizers.algorithms.genetic.operators.fixers import *\n",
    "from libs.solution.initial_solution_creators.heuristic import *\n",
    "from libs.solution.initial_solution_creators.random import *"
   ]
  },
  {
   "cell_type": "markdown",
   "id": "b08204c0",
   "metadata": {},
   "source": [
    "## TSP"
   ]
  },
  {
   "cell_type": "code",
   "execution_count": 3,
   "id": "4f7ffc88",
   "metadata": {},
   "outputs": [],
   "source": [
    "RND_SEED = 0\n",
    "rng = np.random.default_rng(seed=RND_SEED)"
   ]
  },
  {
   "cell_type": "code",
   "execution_count": 5,
   "id": "7bb853c5",
   "metadata": {},
   "outputs": [],
   "source": [
    "class CreatorType(Enum):\n",
    "    HEURISTIC = auto()\n",
    "    RANDOM = auto()\n",
    "\n",
    "\n",
    "def generate_initial_population(\n",
    "    size: int,\n",
    "    cost_mx: np.ndarray,\n",
    "    prob_of_swap: float,\n",
    "    creator_t: CreatorType,\n",
    "    initial_vx: int,\n",
    "):\n",
    "    \"\"\"\n",
    "    If `creator_t` is `HEURISTIC`, generates one solution and its mutated copies.\n",
    "    If `creator_t` is `RANDOM`, generates `n` random solutions.\n",
    "    \"\"\"\n",
    "    if creator_t == CreatorType.HEURISTIC:\n",
    "        initial_solution = create_tsp_solution_nearest_neighbour(cost_mx, initial_vx)\n",
    "        mutated_solutions = (\n",
    "            mutate_swap(initial_solution, p=prob_of_swap, rng=rng)[0]\n",
    "            for _ in range(size - 1)\n",
    "        )\n",
    "        return [initial_solution, *mutated_solutions]\n",
    "\n",
    "    return [create_tsp_solution_random(cost_mx, initial_vx, rng) for _ in range(size)]"
   ]
  },
  {
   "cell_type": "code",
   "execution_count": 6,
   "id": "7b3b1299",
   "metadata": {},
   "outputs": [
    {
     "data": {
      "application/vnd.jupyter.widget-view+json": {
       "model_id": "1d159e300d4049d0b88bfe3b5cd49030",
       "version_major": 2,
       "version_minor": 0
      },
      "text/plain": [
       "Text(value='', description='file to load', placeholder='type json filename')"
      ]
     },
     "metadata": {},
     "output_type": "display_data"
    },
    {
     "data": {
      "application/vnd.jupyter.widget-view+json": {
       "model_id": "9e24e47f8a6743aa80d4006f27026b77",
       "version_major": 2,
       "version_minor": 0
      },
      "text/plain": [
       "Button(description='load data', style=ButtonStyle())"
      ]
     },
     "metadata": {},
     "output_type": "display_data"
    }
   ],
   "source": [
    "ENV_LOAD_DIR = Path(\"./data/environments\")\n",
    "loaded_data: list[dict[str, Any]] = [{}]\n",
    "file_to_load_name_wgt = wgt.Text(\n",
    "    description=\"file to load\", placeholder=\"type json filename\"\n",
    ")\n",
    "load_data_btn = wgt.Button(description=\"load data\")\n",
    "\n",
    "str_buff = io.StringIO()\n",
    "\n",
    "\n",
    "def load_data_cb(_):\n",
    "    try:\n",
    "        load_path = ENV_LOAD_DIR / file_to_load_name_wgt.value\n",
    "        if not load_path.exists():\n",
    "            raise FileNotFoundError(str(load_path))\n",
    "        with load_path.open(\"r\") as f:\n",
    "            data = json.load(f)\n",
    "        for k in (\n",
    "            \"coords\",\n",
    "            \"distance\",\n",
    "            \"distance_disabled\",\n",
    "            \"wind\",\n",
    "            \"effective_speed\",\n",
    "            \"travel_time\",\n",
    "        ):\n",
    "            data[k] = np.array(data[k])\n",
    "        loaded_data[0] = data\n",
    "    except Exception as e:\n",
    "        str_buff.write(f\"Exception: {type(e)} - {e}\\n{format_exc()}\")\n",
    "\n",
    "\n",
    "load_data_btn.on_click(load_data_cb)\n",
    "display(file_to_load_name_wgt)\n",
    "display(load_data_btn)"
   ]
  },
  {
   "cell_type": "code",
   "execution_count": null,
   "id": "4f237d0d-3ad7-4f9b-8e8a-34946038075b",
   "metadata": {},
   "outputs": [],
   "source": [
    "str_buff.seek(0)\n",
    "print(str_buff.read())"
   ]
  },
  {
   "cell_type": "code",
   "execution_count": 39,
   "id": "b4603d9e",
   "metadata": {},
   "outputs": [
    {
     "data": {
      "application/vnd.jupyter.widget-view+json": {
       "model_id": "4bed2856f7464ec2855ffce909e06826",
       "version_major": 2,
       "version_minor": 0
      },
      "text/plain": [
       "VBox(children=(HBox(children=(Label(value='initial vertex', layout=Layout(width='150px')), BoundedIntText(valu…"
      ]
     },
     "metadata": {},
     "output_type": "display_data"
    },
    {
     "data": {
      "application/vnd.jupyter.widget-view+json": {
       "model_id": "78456583c8ba4a2b9cb3edfc722ad83d",
       "version_major": 2,
       "version_minor": 0
      },
      "text/plain": [
       "Button(description='generate population', style=ButtonStyle())"
      ]
     },
     "metadata": {},
     "output_type": "display_data"
    }
   ],
   "source": [
    "SAVE_DIR = Path(\"./data/populations/tsp\")\n",
    "SAVE_PATH_TIME_FMT = \"%Y-%m-%d_%H-%M-%S\"\n",
    "\n",
    "cost_mx = loaded_data[0][\"travel_time\"]\n",
    "\n",
    "generated_population = [[]]\n",
    "initial_costs = [[]]\n",
    "\n",
    "widgets = {\n",
    "    \"initial_vx\": wgt.BoundedIntText(value=0, min=0, max=cost_mx.shape[0] - 1),\n",
    "    \"size\": wgt.BoundedIntText(value=2, min=2, max=100, step=2),\n",
    "    \"prob_of_swap\": wgt.BoundedFloatText(value=0.1, min=0, max=1, step=0.05),\n",
    "    \"creator_t\": wgt.Dropdown(\n",
    "        value=CreatorType.RANDOM, options=[(e.name, e) for e in CreatorType]\n",
    "    ),\n",
    "}\n",
    "LABEL_WIDTH = \"150px\"\n",
    "descriptions = {\n",
    "    \"initial_vx\": \"initial vertex\",\n",
    "    \"size\": \"population size\",\n",
    "    \"prob_of_swap\": \"prob of vertex swap\",\n",
    "    \"creator_t\": \"creation method\",\n",
    "}\n",
    "pop_gen_wgts = wgt.VBox(\n",
    "    [\n",
    "        wgt.HBox(\n",
    "            children=[\n",
    "                wgt.Label(  # type: ignore\n",
    "                    descriptions[widget_key], layout=wgt.Layout(width=LABEL_WIDTH)  # type: ignore\n",
    "                ),\n",
    "                widgets[widget_key],\n",
    "            ]\n",
    "        )\n",
    "        for widget_key in widgets\n",
    "    ]\n",
    ")\n",
    "\n",
    "str_buff = io.StringIO()\n",
    "\n",
    "\n",
    "def create_population_cb(_):\n",
    "    \"\"\"\n",
    "    Generates population and saves it.\n",
    "    \"\"\"\n",
    "    try:\n",
    "        widget_vals = {k: w.value for k, w in widgets.items()}\n",
    "        initial_vx = widget_vals[\"initial_vx\"]\n",
    "        new_pop = generate_initial_population(cost_mx=cost_mx, **widget_vals)\n",
    "        fixed_pop_and_fix_results = [fix_tsp(c, cost_mx, initial_vx) for c in new_pop]\n",
    "        fixed_pop = [x[0] for x in fixed_pop_and_fix_results]\n",
    "        fix_results = [x[1] for x in fixed_pop_and_fix_results]\n",
    "        fix_results_parsed = [\n",
    "            {\"no_of_errors\": fr.no_of_errors, \"fix_status\": fr.fix_status.name}\n",
    "            for fr in fix_results\n",
    "        ]\n",
    "        fixed_pop_costs = [\n",
    "            calculate_total_cost(cost_tsp_gen(s, cost_mx, initial_vx))\n",
    "            for s in fixed_pop\n",
    "        ]\n",
    "        generated_population[0] = fixed_pop\n",
    "        initial_costs[0] = fixed_pop_costs\n",
    "        now_str = datetime.now().strftime(SAVE_PATH_TIME_FMT)\n",
    "        save_path = SAVE_DIR / f\"population_tsp_{now_str}.json\"\n",
    "        with save_path.open(\"w\") as f:\n",
    "            json.dump(\n",
    "                {\n",
    "                    \"population\": fixed_pop,\n",
    "                    \"costs\": fixed_pop_costs,\n",
    "                    \"fix_results\": fix_results_parsed,\n",
    "                },\n",
    "                f,\n",
    "            )\n",
    "    except Exception as e:\n",
    "        str_buff.write(f\"Exception: {type(e)} - {e}\\n{format_exc()}\")\n",
    "\n",
    "\n",
    "generate_btn = wgt.Button(description=\"generate population\")\n",
    "generate_btn.on_click(create_population_cb)\n",
    "\n",
    "display(pop_gen_wgts)\n",
    "display(generate_btn)"
   ]
  },
  {
   "cell_type": "code",
   "execution_count": 31,
   "id": "f8766005-78ca-473d-9930-db83fa943f0f",
   "metadata": {},
   "outputs": [
    {
     "name": "stdout",
     "output_type": "stream",
     "text": [
      "[]\n",
      "\n"
     ]
    }
   ],
   "source": [
    "str_buff.seek(0)\n",
    "print(str_buff.read())"
   ]
  },
  {
   "cell_type": "code",
   "execution_count": 43,
   "id": "4dabaf8d-5eb5-4464-9324-fad77c91ada1",
   "metadata": {},
   "outputs": [
    {
     "data": {
      "text/plain": [
       "[[[0, 7, 8, 5, 6, 4, 3, 1, 2],\n",
       "  [0, 2, 4, 1, 6, 8, 3, 7, 5],\n",
       "  [0, 3, 6, 7, 2, 8, 4, 1, 5],\n",
       "  [0, 5, 3, 7, 6, 2, 1, 8, 4],\n",
       "  [0, 3, 6, 8, 7, 5, 1, 2, 4],\n",
       "  [0, 4, 1, 6, 5, 3, 8, 7, 2],\n",
       "  [0, 3, 8, 7, 2, 4, 5, 1, 6],\n",
       "  [0, 1, 2, 5, 8, 3, 6, 7, 4],\n",
       "  [0, 8, 6, 7, 4, 1, 2, 5, 3],\n",
       "  [0, 6, 7, 2, 4, 5, 3, 1, 8]]]"
      ]
     },
     "execution_count": 43,
     "metadata": {},
     "output_type": "execute_result"
    }
   ],
   "source": [
    "generated_population"
   ]
  },
  {
   "cell_type": "markdown",
   "id": "78eb36d1",
   "metadata": {},
   "source": [
    "## TODOs\n",
    "\n",
    "- MTSP - jak wyżej\n",
    "- MVMTSP - jak wyżej, inne mutatory, liczyć koszt na podst. wizyt w wierzchołkach\n",
    "- IRP - inne mutatory, koszt na podst. zostawianego towaru, który odnawia się\n",
    "  po wizycie w depocie (optymalizacja - powrót do depota najkrótszą drogą (Dijkstra)\n",
    "  po zużyciu towaru)\n",
    "- jupyterowy kreator configów\n",
    "- scheduler dla eksperymentów"
   ]
  }
 ],
 "metadata": {
  "kernelspec": {
   "display_name": "Python 3 (ipykernel)",
   "language": "python",
   "name": "python3"
  },
  "language_info": {
   "codemirror_mode": {
    "name": "ipython",
    "version": 3
   },
   "file_extension": ".py",
   "mimetype": "text/x-python",
   "name": "python",
   "nbconvert_exporter": "python",
   "pygments_lexer": "ipython3",
   "version": "3.9.9"
  }
 },
 "nbformat": 4,
 "nbformat_minor": 5
}
