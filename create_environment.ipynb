{
 "cells": [
  {
   "cell_type": "code",
   "execution_count": 1,
   "id": "c4dde0b3-4589-4036-955d-79ebfaaafd84",
   "metadata": {},
   "outputs": [],
   "source": [
    "import typing as tp\n",
    "import enum as en\n",
    "import numpy as np\n",
    "import itertools as it\n",
    "import more_itertools as mit\n",
    "import matplotlib.pyplot as plt\n",
    "import pandas as pd\n",
    "import seaborn as sns\n",
    "import copy as cp\n",
    "import dataclasses as dc\n",
    "import datetime as dt\n",
    "import time\n",
    "import ipywidgets as wgt\n",
    "import json\n",
    "import io\n",
    "from traceback import format_exc\n",
    "from pathlib import Path\n",
    "from IPython.display import display"
   ]
  },
  {
   "cell_type": "code",
   "execution_count": 2,
   "id": "5482212e-923c-4a69-99cd-66e83b66d243",
   "metadata": {},
   "outputs": [],
   "source": [
    "from libs.environment.utils import *\n",
    "from libs.optimizers.algorithms.genetic.operators.mutations import *\n",
    "from libs.optimizers.algorithms.genetic.operators.crossovers import *\n",
    "from libs.optimizers.algorithms.genetic.operators.fixers import *\n",
    "from libs.optimizers.algorithms.genetic.population import Population\n",
    "from libs.optimizers.algorithms.genetic.population.generators import *\n",
    "from libs.optimizers.algorithms.genetic.population.parent_selectors import *\n",
    "from libs.optimizers.algorithms.genetic.population.population_selectors import *\n",
    "from libs.optimizers.algorithms.genetic.operators.fixers import *"
   ]
  },
  {
   "cell_type": "markdown",
   "id": "64b55d7d",
   "metadata": {},
   "source": [
    "# TODOs\n",
    "\n",
    "- plotting\n",
    "- saving plots\n",
    "- saving data to files\n",
    "- widgets\n",
    "- the same for population generation"
   ]
  },
  {
   "cell_type": "code",
   "execution_count": 3,
   "id": "2e025765",
   "metadata": {},
   "outputs": [],
   "source": [
    "RND_SEED = 0\n",
    "rng = np.random.default_rng(seed=0)"
   ]
  },
  {
   "cell_type": "code",
   "execution_count": 4,
   "id": "dad143e5",
   "metadata": {},
   "outputs": [],
   "source": [
    "class CoordsCreation(en.Enum):\n",
    "    GRID = en.auto()\n",
    "    RANDOM = en.auto()\n",
    "\n",
    "\n",
    "def generate_environment(\n",
    "    grid_size: int,\n",
    "    speed: float = 2.5,\n",
    "    max_wind_speed: float = 2,\n",
    "    transition_prohibition_p: float = 0.05,\n",
    "    point_distance_std_dev: float = 0.1,\n",
    "    coords_creation: CoordsCreation = CoordsCreation.GRID,\n",
    "    max_x: int = 10,\n",
    "    max_y: int = 10,\n",
    "    rng: np.random.Generator = rng,\n",
    ") -> tuple[\n",
    "    np.ndarray,\n",
    "    np.ndarray,\n",
    "    np.ndarray,\n",
    "    np.ndarray,\n",
    "    np.ndarray,\n",
    "    np.ndarray,\n",
    "    np.random.Generator,\n",
    "]:\n",
    "    if coords_creation == CoordsCreation.RANDOM:\n",
    "        coords, rng = coords_random(grid_size, rng, max_x=max_x, max_y=max_y)\n",
    "    else:\n",
    "        coords = coords_grid(grid_size)\n",
    "    distances, rng = point_distances(coords, rng, std_dev=point_distance_std_dev)\n",
    "    # disable_edges\n",
    "    permitted_distances, rng = insert_at_random_indices(\n",
    "        -1, distances, rng, insertion_p=transition_prohibition_p\n",
    "    )\n",
    "    wind, rng = wind_random(\n",
    "        side_size=permitted_distances.shape[0], rng=rng, max_velocity=max_wind_speed\n",
    "    )\n",
    "    eff_speed = effective_speed(speed, wind)\n",
    "    travel_t = travel_times(permitted_distances, eff_speed)\n",
    "    return coords, distances, permitted_distances, wind, eff_speed, travel_t, rng\n",
    "\n",
    "\n",
    "def plot_environment_generation_results(\n",
    "    coords: np.ndarray,\n",
    "    distances: np.ndarray,\n",
    "    permitted_distances: np.ndarray,\n",
    "    wind: np.ndarray,\n",
    "    eff_speed: np.ndarray,\n",
    "    travel_t: np.ndarray,\n",
    "    cmap: str = \"magma\",\n",
    "    figsize: tuple[int, int] = (15, 6),\n",
    "):\n",
    "    mean_distance = distances.mean()\n",
    "    coords_df = pd.DataFrame({\"x\": coords[:, 0], \"y\": coords[:, 1]})\n",
    "\n",
    "    fig_spatial, (ax1, ax2, ax3) = plt.subplots(ncols=3, figsize=figsize)  # type: ignore\n",
    "    fig_time, (ax4, ax5, ax6) = plt.subplots(ncols=3, figsize=figsize)  # type: ignore\n",
    "\n",
    "    sns.scatterplot(x=coords_df.x, y=coords_df.y, ax=ax1)\n",
    "    ax1.set_title(\"Coordinates\")\n",
    "    sns.heatmap(distances, ax=ax2, cmap=cmap)\n",
    "    ax2.set_title(f\"Distance matrix (mean: {mean_distance:.2})\")\n",
    "    sns.heatmap(permitted_distances, ax=ax3, cmap=cmap)\n",
    "    ax3.set_title(\"Distance matrix with disabled edges\")\n",
    "    sns.heatmap(wind, ax=ax4, cmap=cmap)\n",
    "    ax4.set_title(\"Wind speed matrix\")\n",
    "    sns.heatmap(eff_speed, ax=ax5, cmap=cmap)\n",
    "    ax5.set_title(\"Effective speed matrix\")\n",
    "    sns.heatmap(travel_t, ax=ax6, cmap=cmap)\n",
    "    ax6.set_title(\"Travel time matrix\")\n",
    "\n",
    "    fig_spatial.show()\n",
    "    fig_time.show()\n",
    "\n",
    "    return fig_spatial, fig_time, (ax1, ax2, ax3), (ax4, ax5, ax6)"
   ]
  },
  {
   "cell_type": "code",
   "execution_count": 5,
   "id": "9871650b",
   "metadata": {},
   "outputs": [],
   "source": [
    "# (\n",
    "#     coords,\n",
    "#     distances,\n",
    "#     permitted_distances,\n",
    "#     wind,\n",
    "#     eff_speed,\n",
    "#     travel_t,\n",
    "#     rng,\n",
    "# ) = generate_environment(\n",
    "#     grid_size=3,\n",
    "#     speed=2.5,\n",
    "#     max_wind_speed=2,\n",
    "#     transition_prohibition_p=0.1,\n",
    "#     point_distance_std_dev=0.1,\n",
    "#     coords_creation=CoordsCreation.GRID,\n",
    "#     max_x=10,\n",
    "#     max_y=10,\n",
    "#     rng=rng,\n",
    "# )"
   ]
  },
  {
   "cell_type": "code",
   "execution_count": 6,
   "id": "fa7345e9",
   "metadata": {},
   "outputs": [],
   "source": [
    "# fig1, fig2, ax1, axs2 = plot_environment_generation_results(\n",
    "#     coords,\n",
    "#     distances,\n",
    "#     permitted_distances,\n",
    "#     wind,\n",
    "#     eff_speed,\n",
    "#     travel_t,\n",
    "#     cmap=\"magma\",\n",
    "# )"
   ]
  },
  {
   "cell_type": "code",
   "execution_count": 7,
   "id": "691a6172-58ab-41e6-a7b2-731daf6b0970",
   "metadata": {},
   "outputs": [],
   "source": [
    "%matplotlib qt\n",
    "GRID_MAX = 10\n",
    "SPEED_MAX = GRID_MAX * 2 ** (1 / 2)\n",
    "SPEED_RESOLUTION = 10\n",
    "SPEED_STEP = SPEED_MAX / SPEED_RESOLUTION\n",
    "widgets = {\n",
    "    \"grid_size\": wgt.BoundedIntText(value=3, min=2, max=GRID_MAX),\n",
    "    \"speed\": wgt.BoundedFloatText(value=2.5, min=0.1, max=SPEED_MAX, step=SPEED_STEP),\n",
    "    \"max_wind_speed\": wgt.BoundedFloatText(value=2, min=0, max=2 * SPEED_MAX),\n",
    "    \"transition_prohibition_p\": wgt.BoundedFloatText(\n",
    "        value=0.05, min=0, max=1, step=0.05\n",
    "    ),\n",
    "    \"point_distance_std_dev\": wgt.BoundedFloatText(value=0.1, min=0, max=1, step=0.01),\n",
    "    \"coords_creation\": wgt.Dropdown(\n",
    "        value=CoordsCreation.GRID, options=[(e.name, e) for e in CoordsCreation]\n",
    "    ),\n",
    "}\n",
    "LABEL_WIDTH = \"100px\"\n",
    "descriptions = {\n",
    "    \"grid_size\": \"grid size\",\n",
    "    \"speed\": \"vehicle speed\",\n",
    "    \"max_wind_speed\": \"max wind\",\n",
    "    \"transition_prohibition_p\": \"disabling chance\",\n",
    "    \"point_distance_std_dev\": \"distance stddev\",\n",
    "    \"coords_creation\": \"coords type\",\n",
    "}\n",
    "env_setup_wgts = wgt.VBox(\n",
    "    [\n",
    "        wgt.HBox(  # type: ignore\n",
    "            [\n",
    "                wgt.Label(  # type: ignore\n",
    "                    descriptions[widget_key], layout=wgt.Layout(width=LABEL_WIDTH)  # type: ignore\n",
    "                ),\n",
    "                widgets[widget_key],\n",
    "            ]\n",
    "        )\n",
    "        for widget_key in widgets\n",
    "    ]\n",
    ")\n",
    "\n",
    "figs_and_axes = {\"figs\": [], \"axes\": []}\n",
    "generation_setup = [None]\n",
    "generation_data = {\n",
    "    \"coords\": [],\n",
    "    \"distance\": [],\n",
    "    \"distance_disabled\": [],\n",
    "    \"wind\": [],\n",
    "    \"effective_speed\": [],\n",
    "    \"travel_time\": [],\n",
    "}\n",
    "\n",
    "str_buff = io.StringIO()\n",
    "\n",
    "\n",
    "def generate_cb(_):\n",
    "    try:\n",
    "        generation_setup[0] = {  # type: ignore\n",
    "            wgt_name: widget.value for wgt_name, widget in widgets.items()\n",
    "        }\n",
    "        data = generate_environment(**generation_setup[0])\n",
    "        for k, v in zip(generation_data.keys(), data[:-1]):\n",
    "            generation_data[k] = v.tolist()\n",
    "        fig1, fig2, axs1, axs2 = plot_environment_generation_results(*data[:-1])\n",
    "        figs_and_axes[\"figs\"] = [fig1, fig2]\n",
    "        figs_and_axes[\"axes\"] = [axs1, axs2]\n",
    "    except Exception as e:\n",
    "        str_buff.write(f\"Exception: {type(e)} - {e}\\n{format_exc()}\")\n",
    "\n",
    "\n",
    "SAVE_PATH_TIME_FMT = \"%Y-%m-%d_%H-%M-%S\"\n",
    "SAVE_DIR = Path(\"./data/environments\")\n",
    "\n",
    "\n",
    "def save_cb(_):\n",
    "    try:\n",
    "        time_str = dt.datetime.now().strftime(SAVE_PATH_TIME_FMT)\n",
    "        save_path_mxs = SAVE_DIR / f\"matrices_{time_str}.json\"\n",
    "        for k, v in list(generation_setup[0].items()):  # type: ignore\n",
    "            if isinstance(v, en.Enum):\n",
    "                generation_setup[0][k] = v.name  # type: ignore\n",
    "        with save_path_mxs.open(\"w\") as f:\n",
    "            json.dump({\"generation_setup\": generation_setup, **generation_data}, f)\n",
    "    except Exception as e:\n",
    "        str_buff.write(f\"Exception: {type(e)} - {e}\\n{format_exc()}\")\n",
    "\n",
    "\n",
    "generate_btn = wgt.Button(description=\"generate and plot\")\n",
    "save_btn = wgt.Button(description=\"save\")\n",
    "\"\"\"Saves data matrices, plots and pickles figures for further use.\"\"\"\n",
    "\n",
    "generate_btn.on_click(generate_cb)\n",
    "save_btn.on_click(save_cb)"
   ]
  },
  {
   "cell_type": "code",
   "execution_count": 8,
   "id": "89ea4966-7e8a-4972-a220-c316e1afae5e",
   "metadata": {},
   "outputs": [
    {
     "data": {
      "application/vnd.jupyter.widget-view+json": {
       "model_id": "044dcb151ca744008474310823671132",
       "version_major": 2,
       "version_minor": 0
      },
      "text/plain": [
       "VBox(children=(HBox(children=(Label(value='grid size', layout=Layout(width='100px')), BoundedIntText(value=3, …"
      ]
     },
     "metadata": {},
     "output_type": "display_data"
    },
    {
     "data": {
      "application/vnd.jupyter.widget-view+json": {
       "model_id": "d7fc9914571a4897805a4658620583e0",
       "version_major": 2,
       "version_minor": 0
      },
      "text/plain": [
       "Button(description='generate and plot', style=ButtonStyle())"
      ]
     },
     "metadata": {},
     "output_type": "display_data"
    },
    {
     "data": {
      "application/vnd.jupyter.widget-view+json": {
       "model_id": "ea3029a68da24539a41e6ce02f2fd737",
       "version_major": 2,
       "version_minor": 0
      },
      "text/plain": [
       "Button(description='save', style=ButtonStyle())"
      ]
     },
     "metadata": {},
     "output_type": "display_data"
    }
   ],
   "source": [
    "display(env_setup_wgts)\n",
    "display(generate_btn)\n",
    "display(save_btn)"
   ]
  },
  {
   "cell_type": "code",
   "execution_count": 9,
   "id": "9996c435-9a6c-4cea-b0c1-30ab9f71a94b",
   "metadata": {},
   "outputs": [
    {
     "name": "stdout",
     "output_type": "stream",
     "text": [
      "errors: ``\n"
     ]
    }
   ],
   "source": [
    "str_buff.seek(0)\n",
    "print(f\"errors: `{str_buff.read()}`\")"
   ]
  },
  {
   "cell_type": "code",
   "execution_count": 10,
   "id": "f4bdc76b-0ab9-47b9-b5ee-7b04507390cc",
   "metadata": {},
   "outputs": [
    {
     "data": {
      "application/vnd.jupyter.widget-view+json": {
       "model_id": "e2a4371aa7a24957941993652a91a1fa",
       "version_major": 2,
       "version_minor": 0
      },
      "text/plain": [
       "Text(value='', description='file to load', placeholder='type json filename')"
      ]
     },
     "metadata": {},
     "output_type": "display_data"
    },
    {
     "data": {
      "application/vnd.jupyter.widget-view+json": {
       "model_id": "94cafc798bf74d989422f80b767836e3",
       "version_major": 2,
       "version_minor": 0
      },
      "text/plain": [
       "Button(description='load data', style=ButtonStyle())"
      ]
     },
     "metadata": {},
     "output_type": "display_data"
    },
    {
     "data": {
      "application/vnd.jupyter.widget-view+json": {
       "model_id": "3241ecff144a4dcea587a4d70256674b",
       "version_major": 2,
       "version_minor": 0
      },
      "text/plain": [
       "Button(description='plot', style=ButtonStyle())"
      ]
     },
     "metadata": {},
     "output_type": "display_data"
    }
   ],
   "source": [
    "loaded_data = [None]\n",
    "figs_and_axes_from_file = {\"figs\": [], \"axes\": []}\n",
    "file_to_load_name_wgt = wgt.Text(\n",
    "    description=\"file to load\", placeholder=\"type json filename\"\n",
    ")\n",
    "load_data_btn = wgt.Button(description=\"load data\")\n",
    "plot_from_file_btn = wgt.Button(description=\"plot\")\n",
    "\n",
    "str_buff = io.StringIO()\n",
    "\n",
    "\n",
    "def load_data_cb(_):\n",
    "    try:\n",
    "        load_path = SAVE_DIR / file_to_load_name_wgt.value\n",
    "        if not load_path.exists():\n",
    "            raise FileNotFoundError(str(load_path))\n",
    "        with load_path.open(\"r\") as f:\n",
    "            loaded_data[0] = json.load(f)\n",
    "    except Exception as e:\n",
    "        str_buff.write(f\"Exception: {type(e)} - {e}\\n{format_exc()}\")\n",
    "\n",
    "\n",
    "def plot_from_file_cb(_):\n",
    "    try:\n",
    "        unwrapped_data = loaded_data[0]\n",
    "        mxs_data = [\n",
    "            unwrapped_data[k]\n",
    "            for k in (\n",
    "                \"coords\",\n",
    "                \"distance\",\n",
    "                \"distance_disabled\",\n",
    "                \"wind\",\n",
    "                \"effective_speed\",\n",
    "                \"travel_time\",\n",
    "            )\n",
    "        ]\n",
    "        mxs = (np.array(mx) for mx in mxs_data)\n",
    "        fig1, fig2, axs1, axs2 = plot_environment_generation_results(*mxs)\n",
    "        figs_and_axes_from_file[\"figs\"] = [fig1, fig2]\n",
    "        figs_and_axes_from_file[\"axes\"] = [axs1, axs2]\n",
    "    except Exception as e:\n",
    "        str_buff.write(f\"Exception: {type(e)} - {e}\\n{format_exc()}\")\n",
    "\n",
    "\n",
    "load_data_btn.on_click(load_data_cb)\n",
    "plot_from_file_btn.on_click(plot_from_file_cb)\n",
    "\n",
    "display(file_to_load_name_wgt)\n",
    "display(load_data_btn)\n",
    "display(plot_from_file_btn)"
   ]
  },
  {
   "cell_type": "code",
   "execution_count": 11,
   "id": "3df146a3-4828-4031-8c0d-e1c442077201",
   "metadata": {},
   "outputs": [
    {
     "name": "stdout",
     "output_type": "stream",
     "text": [
      "errors: ``\n"
     ]
    }
   ],
   "source": [
    "str_buff.seek(0)\n",
    "print(f\"errors: `{str_buff.read()}`\")"
   ]
  },
  {
   "cell_type": "markdown",
   "id": "e7e88922-6aa2-4a3f-804f-a78cf572a6b0",
   "metadata": {},
   "source": [
    "## Testing"
   ]
  },
  {
   "cell_type": "code",
   "execution_count": 12,
   "id": "eed99ee2-606f-4cca-9e7c-973c9344bbd7",
   "metadata": {},
   "outputs": [],
   "source": [
    "cost_mx = np.array(loaded_data[0][\"travel_time\"])"
   ]
  },
  {
   "cell_type": "code",
   "execution_count": 13,
   "id": "c36fc43d-57d1-4dc6-8b71-c59fc9483a29",
   "metadata": {},
   "outputs": [],
   "source": [
    "from libs.solution.initial_solution_creators.random import create_tsp_solution_random\n",
    "from libs.solution.initial_solution_creators.heuristic import *"
   ]
  },
  {
   "cell_type": "code",
   "execution_count": 14,
   "id": "4b80f01c-aa36-4e0e-909c-1055de5ceca1",
   "metadata": {},
   "outputs": [
    {
     "data": {
      "text/plain": [
       "([0, 3, 5, 4, 7, 6, 1, 2, 8, 0], 9, 10)"
      ]
     },
     "execution_count": 14,
     "metadata": {},
     "output_type": "execute_result"
    }
   ],
   "source": [
    "ini_sol = create_tsp_solution_random(cost_mx, initial_vx=0, rng=rng)\n",
    "ini_sol, len(cost_mx), len(ini_sol)"
   ]
  },
  {
   "cell_type": "code",
   "execution_count": 15,
   "id": "f42c819d-c0a2-4fbe-9d36-6df39866f185",
   "metadata": {},
   "outputs": [
    {
     "data": {
      "text/plain": [
       "([0, 1, 6, 4, 3, 5, 8, 2, 7, 0], 10)"
      ]
     },
     "execution_count": 15,
     "metadata": {},
     "output_type": "execute_result"
    }
   ],
   "source": [
    "ini_sol_heu = create_tsp_solution_nearest_neighbour(cost_mx, initial_vx=0)\n",
    "ini_sol_heu, len(ini_sol_heu)"
   ]
  },
  {
   "cell_type": "code",
   "execution_count": 16,
   "id": "995de16f-2850-412c-9a42-f2f4bf01afe6",
   "metadata": {},
   "outputs": [
    {
     "name": "stdout",
     "output_type": "stream",
     "text": [
      "BitGenerator, Generator, MT19937, PCG64, Philox, RandomState, SFC64, SeedSequence, beta, binomial, bit_generator, bytes, chisquare, choice, default_rng, dirichlet, exponential, f, gamma, geometric, get_state, gumbel, hypergeometric, laplace, logistic, lognormal, logseries, mtrand, multinomial, multivariate_normal, negative_binomial, noncentral_chisquare, noncentral_f, normal, pareto, permutation, poisson, power, rand, randint, randn, random, random_integers, random_sample, ranf, rayleigh, sample, seed, set_state, shuffle, standard_cauchy, standard_exponential, standard_gamma, standard_normal, standard_t, test, triangular, uniform, vonmises, wald, weibull, zipf\n"
     ]
    }
   ],
   "source": [
    "print(\", \".join(x for x in dir(np.random) if not x.startswith(\"_\")))"
   ]
  },
  {
   "cell_type": "code",
   "execution_count": 17,
   "id": "766ecb38-4082-46d4-bb79-45d820cde8f2",
   "metadata": {},
   "outputs": [
    {
     "name": "stdout",
     "output_type": "stream",
     "text": [
      "checked random: False\n",
      "rand_ixs = [3, 7, 2, 4, 8, 7, 4, 1, 6, 0], len(rand_ixs) = 10\n",
      "fixed_ch = [0, 3, 2, 4, 8, 5, 7, 1, 6, 0]\n",
      "invalid_transitions = [False, False, False, False, False, False, False, False, False]\n",
      "fixed is valid: True\n"
     ]
    }
   ],
   "source": [
    "initial_vx = 0\n",
    "vx_pool = list(range(1, len(cost_mx)))\n",
    "to_exclude = 3\n",
    "rand_ixs = (\n",
    "    [3]\n",
    "    + list(\n",
    "        np.random.choice([x for x in vx_pool if x != to_exclude], size=len(cost_mx) - 1)\n",
    "    )\n",
    "    + [initial_vx]\n",
    ")\n",
    "print(f\"checked random: {check_chromosome_tsp(rand_ixs, cost_mx, initial_vx)}\")\n",
    "print(f\"{rand_ixs = }, {len(rand_ixs) = }\")\n",
    "fixed_ch, fix_result = fix_chromosome_no_doubles(\n",
    "    rand_ixs, cost_mx, initial_vx=0, forbidden_val=(-1)\n",
    ")\n",
    "print(f\"{fixed_ch = }\")\n",
    "invalid_transitions = list(\n",
    "    not x for x in check_transitions_iter(fixed_ch, cost_mx, forbid_val=(-1))\n",
    ")\n",
    "print(f\"{invalid_transitions = }\")\n",
    "if any(invalid_transitions):\n",
    "    for i, not_valid in enumerate(invalid_transitions):\n",
    "        target_info = f\"{fixed_ch[i+1]}(cost: {cost_mx[fixed_ch[i], fixed_ch[i+1]]}\"\n",
    "        if not_valid:\n",
    "            print(f\"invalid target: {target_info})\")\n",
    "        else:\n",
    "            print(f\"valid target: {target_info}\")\n",
    "print(\n",
    "    f\"fixed is valid: {check_chromosome_tsp(fixed_ch, cost_mx, initial_vx, forbidden_val=(-1))}\"\n",
    ")"
   ]
  },
  {
   "cell_type": "code",
   "execution_count": 21,
   "id": "1eaeda07-cfcd-4b5d-b0e0-516c2c1d7bc4",
   "metadata": {},
   "outputs": [
    {
     "name": "stdout",
     "output_type": "stream",
     "text": [
      "no_of_failures = 0\n",
      "mean time: 8.201030000003939e-05\n",
      "total time: 0.0820103000000394\n"
     ]
    }
   ],
   "source": [
    "from time import perf_counter\n",
    "\n",
    "no_of_failures = 0\n",
    "iter_n = 1000\n",
    "total_t = 0\n",
    "for i in range(iter_n):\n",
    "    initial_vx = 0\n",
    "    vx_pool = list(range(1, len(cost_mx)))\n",
    "    to_exclude = 3\n",
    "    rand_ixs = (\n",
    "        [3]\n",
    "        + list(\n",
    "            np.random.choice(\n",
    "                [x for x in vx_pool if x != to_exclude], size=len(cost_mx) - 1\n",
    "            )\n",
    "        )\n",
    "        + [initial_vx]\n",
    "    )\n",
    "    try:\n",
    "        t0 = perf_counter()\n",
    "        fixed_ch, fix_result = fix_chromosome_no_doubles(\n",
    "            rand_ixs, cost_mx, initial_vx=0, forbidden_val=(-1)\n",
    "        )\n",
    "        total_t += perf_counter() - t0\n",
    "    except Exception as e:\n",
    "        print(f\"exception at iteration {i}/{iter_n}\")\n",
    "        raise e\n",
    "    if not fix_result:\n",
    "        no_of_failures += 1\n",
    "\n",
    "print(f\"{no_of_failures = }\")\n",
    "print(f\"mean time: {total_t / (iter_n - no_of_failures)}\\ntotal time: {total_t}\")"
   ]
  },
  {
   "cell_type": "code",
   "execution_count": 23,
   "id": "ac225d88-ba4f-4017-aa15-0e6148ca21e4",
   "metadata": {},
   "outputs": [
    {
     "data": {
      "text/plain": [
       "[1, 2, 3, 100, 4]"
      ]
     },
     "execution_count": 23,
     "metadata": {},
     "output_type": "execute_result"
    }
   ],
   "source": [
    "foo = [1, 2, 3, 4]\n",
    "foo.insert(-1, 100)\n",
    "foo"
   ]
  },
  {
   "cell_type": "code",
   "execution_count": null,
   "id": "506179c0-8873-4bd1-b468-d4c53d458f2c",
   "metadata": {},
   "outputs": [],
   "source": [
    "print(find_all_occurence_indices(fixed_ch))"
   ]
  },
  {
   "cell_type": "code",
   "execution_count": 13,
   "id": "c69dc236",
   "metadata": {},
   "outputs": [
    {
     "ename": "NameError",
     "evalue": "name 'EnvironmentTSPSimple' is not defined",
     "output_type": "error",
     "traceback": [
      "\u001b[1;31m---------------------------------------------------------------------------\u001b[0m",
      "\u001b[1;31mNameError\u001b[0m                                 Traceback (most recent call last)",
      "\u001b[1;32m~\\AppData\\Local\\Temp/ipykernel_22752/4109282132.py\u001b[0m in \u001b[0;36m<module>\u001b[1;34m\u001b[0m\n\u001b[1;32m----> 1\u001b[1;33m \u001b[0menvironment\u001b[0m \u001b[1;33m=\u001b[0m \u001b[0mEnvironmentTSPSimple\u001b[0m\u001b[1;33m(\u001b[0m\u001b[0mtravel_t\u001b[0m\u001b[1;33m)\u001b[0m\u001b[1;33m\u001b[0m\u001b[1;33m\u001b[0m\u001b[0m\n\u001b[0m",
      "\u001b[1;31mNameError\u001b[0m: name 'EnvironmentTSPSimple' is not defined"
     ]
    }
   ],
   "source": [
    "environment = EnvironmentTSPSimple(travel_t)"
   ]
  },
  {
   "cell_type": "code",
   "execution_count": 11,
   "id": "ec9b1844",
   "metadata": {},
   "outputs": [
    {
     "data": {
      "text/plain": [
       "SolutionRepresentationTSP(representation=[0, 8, 11, 4, 13, 12, 7, 16, 10, 5, 15, 17, 2, 1, 14, 9, 6, 18, 19, 3])"
      ]
     },
     "execution_count": 11,
     "metadata": {},
     "output_type": "execute_result"
    }
   ],
   "source": [
    "solution_creator = SolutionCreatorTSPSimpleHeuristicNN()\n",
    "greedy_solution = solution_creator.create(environment, initial_vx=0)\n",
    "greedy_solution"
   ]
  },
  {
   "cell_type": "code",
   "execution_count": 12,
   "id": "467e95e8",
   "metadata": {},
   "outputs": [
    {
     "name": "stdout",
     "output_type": "stream",
     "text": [
      "len(greedy_solution.representation) = 20, success: True\n"
     ]
    }
   ],
   "source": [
    "vxs = list(range(coords.shape[0]))\n",
    "print(\n",
    "    f\"{len(greedy_solution.representation) = }, success: {set(greedy_solution.representation) == set(vxs)}\"\n",
    ")"
   ]
  },
  {
   "cell_type": "code",
   "execution_count": 13,
   "id": "a3600476",
   "metadata": {},
   "outputs": [
    {
     "data": {
      "text/plain": [
       "(14.704770576550509,\n",
       " deque([0.5678337143867346,\n",
       "        0.6573866652242365,\n",
       "        0.6163839210623999,\n",
       "        0.29500500914178013,\n",
       "        0.8402380034334131,\n",
       "        0.18782646059885555,\n",
       "        0.5747184564105766,\n",
       "        1.4840688164694997,\n",
       "        0.4548711209153218,\n",
       "        0.6717449750888875,\n",
       "        1.2141009222073795,\n",
       "        0.08876899078840716,\n",
       "        1.4814778379302609,\n",
       "        1.5087020287501967,\n",
       "        1.1819800001360146,\n",
       "        2.586630968849158,\n",
       "        0.17184279148858422,\n",
       "        0.03535656043810125,\n",
       "        0.08583333323069842]))"
      ]
     },
     "execution_count": 13,
     "metadata": {},
     "output_type": "execute_result"
    }
   ],
   "source": [
    "cost_calculator = TSPCostCalculatorSimple()\n",
    "total_cost, step_cost = cost_calculator.calculate_total(greedy_solution, environment)\n",
    "total_cost, step_cost"
   ]
  },
  {
   "cell_type": "code",
   "execution_count": 14,
   "id": "dd2ca5f8",
   "metadata": {},
   "outputs": [
    {
     "name": "stdout",
     "output_type": "stream",
     "text": [
      "i = 0, cost = 0.5678337143867346\n",
      "i = 1, cost = 0.6573866652242365\n",
      "i = 2, cost = 0.6163839210623999\n",
      "i = 3, cost = 0.29500500914178013\n",
      "i = 4, cost = 0.8402380034334131\n",
      "i = 5, cost = 0.18782646059885555\n",
      "i = 6, cost = 0.5747184564105766\n",
      "i = 7, cost = 1.4840688164694997\n",
      "i = 8, cost = 0.4548711209153218\n",
      "i = 9, cost = 0.6717449750888875\n",
      "i = 10, cost = 1.2141009222073795\n",
      "i = 11, cost = 0.08876899078840716\n",
      "i = 12, cost = 1.4814778379302609\n",
      "i = 13, cost = 1.5087020287501967\n",
      "i = 14, cost = 1.1819800001360146\n",
      "i = 15, cost = 2.586630968849158\n",
      "i = 16, cost = 0.17184279148858422\n",
      "i = 17, cost = 0.03535656043810125\n",
      "i = 18, cost = 0.08583333323069842\n"
     ]
    }
   ],
   "source": [
    "for i, cost in enumerate(cost_calculator.stepper(greedy_solution, environment)):\n",
    "    print(f\"{i = }, {cost = }\")"
   ]
  },
  {
   "cell_type": "code",
   "execution_count": 15,
   "id": "05ab0c29",
   "metadata": {},
   "outputs": [
    {
     "name": "stdout",
     "output_type": "stream",
     "text": [
      "len(rnd_sol.representation) = 20, success: True\n"
     ]
    }
   ],
   "source": [
    "rnd_sol_creator = SolutionCreatorTSPSimpleRandom()\n",
    "rnd_sol = rnd_sol_creator.create(environment, initial_vx=0)\n",
    "print(\n",
    "    f\"{len(rnd_sol.representation) = }, success: {set(rnd_sol.representation) == set(vxs)}\"\n",
    ")"
   ]
  },
  {
   "cell_type": "markdown",
   "id": "a3b15e53",
   "metadata": {},
   "source": [
    "## Poisson distribution"
   ]
  },
  {
   "cell_type": "code",
   "execution_count": 16,
   "id": "5bf2b82e",
   "metadata": {},
   "outputs": [
    {
     "data": {
      "image/png": "[encoded data removed]",
      "text/plain": [
       "<Figure size 432x288 with 1 Axes>"
      ]
     },
     "metadata": {
      "needs_background": "light"
     },
     "output_type": "display_data"
    }
   ],
   "source": [
    "lam = 3\n",
    "poisson_points = np.random.poisson(lam=lam, size=10000)\n",
    "ax = sns.histplot(data=poisson_points, kde=True)\n",
    "_ = ax.set_title(f\"Poisson distribution: lam={lam}\")"
   ]
  },
  {
   "cell_type": "code",
   "execution_count": 17,
   "id": "89b570ff",
   "metadata": {},
   "outputs": [],
   "source": [
    "mutator_swap = MutatorHomogenousVectorSwap(probability=1, lam=1)\n",
    "mutator_shuffle = MutatorHomogenousVectorShuffle(probability=1, lam=1)\n",
    "chromosome = ChromosomeHomogenousVector(greedy_solution.representation)"
   ]
  },
  {
   "cell_type": "code",
   "execution_count": 18,
   "id": "b0de812e",
   "metadata": {},
   "outputs": [
    {
     "name": "stdout",
     "output_type": "stream",
     "text": [
      "chromosome.sequence = [0, 8, 11, 4, 13, 12, 7, 16, 10, 5, 15, 17, 2, 1, 14, 9, 6, 18, 19, 3]\n",
      "mutated.sequence    = [0, 8, 3, 4, 13, 12, 7, 14, 10, 5, 9, 17, 15, 1, 16, 6, 2, 18, 19, 11]\n"
     ]
    }
   ],
   "source": [
    "mutated, _ = mutator_swap.mutate(chromosome)\n",
    "print(f\"{chromosome.sequence = }\\n{mutated.sequence    = }\")"
   ]
  },
  {
   "cell_type": "code",
   "execution_count": 19,
   "id": "c6bbf5f8",
   "metadata": {},
   "outputs": [
    {
     "name": "stdout",
     "output_type": "stream",
     "text": [
      "chromosome.sequence = [0, 8, 11, 4, 13, 12, 7, 16, 10, 5, 15, 17, 2, 1, 14, 9, 6, 18, 19, 3]\n",
      "mutated.sequence    = [11, 4, 13, 12, 7, 16, 10, 5, 15, 17, 2, 1, 14, 9, 6, 18, 19, 3, 0, 8]\n"
     ]
    }
   ],
   "source": [
    "mutated, _ = mutator_shuffle.mutate(chromosome)\n",
    "print(f\"{chromosome.sequence = }\\n{mutated.sequence    = }\")"
   ]
  },
  {
   "cell_type": "code",
   "execution_count": 20,
   "id": "2d271ecc",
   "metadata": {},
   "outputs": [
    {
     "name": "stdout",
     "output_type": "stream",
     "text": [
      "makapaka\n"
     ]
    }
   ],
   "source": [
    "for i in range(10):\n",
    "    if i > 10:\n",
    "        break\n",
    "else:\n",
    "    print(\"makapaka\")"
   ]
  },
  {
   "cell_type": "code",
   "execution_count": 21,
   "id": "c12ec570",
   "metadata": {},
   "outputs": [
    {
     "name": "stdout",
     "output_type": "stream",
     "text": [
      "success: True\n"
     ]
    }
   ],
   "source": [
    "print(f\"success: {set(chromosome.sequence) == set(mutated.sequence)}\")"
   ]
  },
  {
   "cell_type": "code",
   "execution_count": 22,
   "id": "13c7f330",
   "metadata": {},
   "outputs": [],
   "source": [
    "crossover_normal = CrossoverHomogenousVector()\n",
    "crossover_kpoint = CrossoverHomogenousVectorKPoint()\n",
    "crossover_kpoint_random = CrossoverHomogenousVectorKPointPoisson(lam=0.5)"
   ]
  },
  {
   "cell_type": "code",
   "execution_count": 23,
   "id": "ce8aebff",
   "metadata": {},
   "outputs": [],
   "source": [
    "chromosome1 = ChromosomeHomogenousVector(greedy_solution.representation)\n",
    "chromosome2 = ChromosomeHomogenousVector(rnd_sol.representation)"
   ]
  },
  {
   "cell_type": "code",
   "execution_count": 24,
   "id": "b99d4484",
   "metadata": {},
   "outputs": [],
   "source": [
    "new_generation_normal = crossover_normal.execute(chromosome1, chromosome2)\n",
    "new_generation_kpoint = crossover_kpoint.execute(chromosome1, chromosome2, k=3)\n",
    "new_generation_kpoint_random = crossover_kpoint_random.execute(chromosome1, chromosome2)"
   ]
  },
  {
   "cell_type": "code",
   "execution_count": 25,
   "id": "1f04f968",
   "metadata": {},
   "outputs": [
    {
     "name": "stdout",
     "output_type": "stream",
     "text": [
      "parents:\n",
      "\t[0, 8, 11, 4, 13, 12, 7, 16, 10, 5, 15, 17, 2, 1, 14, 9, 6, 18, 19, 3] (len: 20)\n",
      "\t[0, 12, 7, 9, 5, 13, 2, 1, 6, 14, 15, 17, 4, 16, 11, 3, 8, 18, 10, 19] (len: 20)\n",
      "normal:\n",
      "\t[18, 19, 3, 0, 12, 7, 9, 5, 13, 2, 1, 6, 14, 15, 17, 4, 16, 11, 3, 8] (len: 20)\n",
      "\t[18, 10, 19, 0, 8, 11, 4, 13, 12, 7, 16, 10, 5, 15, 17, 2, 1, 14, 9, 6] (len: 20)\n",
      "k-point:\n",
      "\t[0, 8, 11, 4, 13, 13, 2, 16, 10, 5, 15, 17, 4, 16, 11, 3, 8, 18, 10, 19] (len: 20)\n",
      "\t[0, 12, 7, 9, 5, 12, 7, 1, 6, 14, 15, 17, 2, 1, 14, 9, 6, 18, 19, 3] (len: 20)\n"
     ]
    }
   ],
   "source": [
    "print(\n",
    "    f\"parents:\\n\\t{chromosome1.sequence} (len: {len(chromosome1.sequence)})\\n\\t{chromosome2.sequence} (len: {len(chromosome2.sequence)})\"\n",
    ")\n",
    "print(\n",
    "    f\"normal:\\n\\t{new_generation_normal[0].sequence} (len: {len(new_generation_normal[0].sequence)})\\n\\t{new_generation_normal[1].sequence} (len: {len(new_generation_normal[1].sequence)})\"\n",
    ")\n",
    "print(\n",
    "    f\"k-point:\\n\\t{new_generation_kpoint[0].sequence} (len: {len(new_generation_kpoint[0].sequence)})\\n\\t{new_generation_kpoint[1].sequence} (len: {len(new_generation_kpoint[1].sequence)})\"\n",
    ")"
   ]
  },
  {
   "cell_type": "markdown",
   "id": "a028ae47",
   "metadata": {},
   "source": [
    "Note - Crossover is useless for TSP and other problems, where values can not repeat themselves."
   ]
  },
  {
   "cell_type": "code",
   "execution_count": 26,
   "id": "d4df1e44",
   "metadata": {},
   "outputs": [],
   "source": [
    "bad_chromosome = cp.deepcopy(chromosome1)\n",
    "bad_chromosome.sequence[2:6] = bad_chromosome.sequence[7:11]"
   ]
  },
  {
   "cell_type": "code",
   "execution_count": 27,
   "id": "292c5858",
   "metadata": {},
   "outputs": [],
   "source": [
    "fixer = ChromosomeFixerTSPSimple()"
   ]
  },
  {
   "cell_type": "code",
   "execution_count": 28,
   "id": "dfb7f4e0",
   "metadata": {},
   "outputs": [
    {
     "data": {
      "text/plain": [
       "(FixResult(fix_status=<FixStatus.SUCCESS: 1>, no_of_errors=0),\n",
       " ChromosomeHomogenousVector(sequence=[0, 8, 16, 10, 5, 15, 7, 12, 11, 4, 13, 17, 2, 1, 14, 9, 6, 18, 19, 3]))"
      ]
     },
     "execution_count": 28,
     "metadata": {},
     "output_type": "execute_result"
    }
   ],
   "source": [
    "fixed_chromosome, should_die = fixer.fix(bad_chromosome, environment)\n",
    "should_die, fixed_chromosome"
   ]
  },
  {
   "cell_type": "code",
   "execution_count": 29,
   "id": "a70babd0",
   "metadata": {},
   "outputs": [
    {
     "name": "stdout",
     "output_type": "stream",
     "text": [
      "success: True\n"
     ]
    }
   ],
   "source": [
    "print(f\"success: {set(fixed_chromosome.sequence) == set(vxs)}\")"
   ]
  },
  {
   "cell_type": "markdown",
   "id": "f21696ba",
   "metadata": {},
   "source": [
    "## New population generation"
   ]
  },
  {
   "cell_type": "code",
   "execution_count": 30,
   "id": "da0f45e6",
   "metadata": {},
   "outputs": [],
   "source": [
    "POPULATION_SIZE = 10\n",
    "solution_creator_heuristic = SolutionCreatorTSPSimpleHeuristicNN()\n",
    "solution_creator_random = SolutionCreatorTSPSimpleRandom()\n",
    "heuristic_solution = solution_creator.create(environment, initial_vx=0)\n",
    "random_solutions = [\n",
    "    solution_creator_random.create(environment, initial_vx=0)\n",
    "    for _ in range(POPULATION_SIZE - 1)\n",
    "]"
   ]
  },
  {
   "cell_type": "code",
   "execution_count": 31,
   "id": "f20a7ec5",
   "metadata": {},
   "outputs": [
    {
     "data": {
      "text/plain": [
       "[ChromosomeHomogenousVector(sequence=[0, 8, 11, 4, 13, 12, 7, 16, 10, 5, 15, 17, 2, 1, 14, 9, 6, 18, 19, 3]),\n",
       " ChromosomeHomogenousVector(sequence=[0, 10, 4, 14, 9, 16, 1, 13, 8, 5, 19, 15, 12, 11, 17, 18, 2, 7, 6, 3]),\n",
       " ChromosomeHomogenousVector(sequence=[0, 6, 14, 18, 16, 8, 17, 19, 15, 12, 4, 11, 10, 9, 1, 5, 3, 7, 2, 13]),\n",
       " ChromosomeHomogenousVector(sequence=[0, 17, 1, 14, 15, 2, 4, 6, 16, 13, 19, 9, 3, 7, 5, 8, 10, 18, 11, 12]),\n",
       " ChromosomeHomogenousVector(sequence=[0, 6, 13, 10, 1, 17, 4, 3, 7, 16, 2, 12, 14, 11, 19, 9, 15, 18, 5, 8]),\n",
       " ChromosomeHomogenousVector(sequence=[0, 3, 15, 14, 6, 1, 5, 11, 16, 18, 17, 19, 9, 10, 4, 13, 12, 2, 7, 8]),\n",
       " ChromosomeHomogenousVector(sequence=[0, 15, 12, 8, 4, 14, 7, 3, 9, 1, 13, 19, 6, 10, 11, 2, 16, 5, 17, 18]),\n",
       " ChromosomeHomogenousVector(sequence=[0, 8, 2, 17, 16, 3, 9, 7, 18, 12, 4, 1, 13, 11, 15, 14, 10, 19, 6, 5]),\n",
       " ChromosomeHomogenousVector(sequence=[0, 15, 6, 9, 19, 2, 7, 5, 17, 18, 12, 13, 3, 10, 14, 16, 4, 11, 1, 8]),\n",
       " ChromosomeHomogenousVector(sequence=[0, 19, 8, 17, 12, 7, 5, 9, 10, 3, 1, 6, 14, 18, 2, 16, 11, 4, 15, 13])]"
      ]
     },
     "execution_count": 31,
     "metadata": {},
     "output_type": "execute_result"
    }
   ],
   "source": [
    "population: Population = [\n",
    "    ChromosomeHomogenousVector(sol.representation)\n",
    "    for sol in mit.value_chain(heuristic_solution, random_solutions)\n",
    "]\n",
    "population"
   ]
  },
  {
   "cell_type": "code",
   "execution_count": 32,
   "id": "2a98e2d8",
   "metadata": {},
   "outputs": [],
   "source": [
    "cost_calculator = TSPCostCalculatorSimple()\n",
    "parent_selector = ParentSelectorElitistRandomized()\n",
    "population_selector = PopulationSelectorProbabilistic()\n",
    "mutators = [\n",
    "    MutatorHomogenousVectorSwap(probability=0.1, lam=0.5),\n",
    "    MutatorHomogenousVectorShuffle(probability=0.1, lam=0.5),\n",
    "]\n",
    "crossover = CrossoverHomogenousVectorKPointPoisson(lam=0.5)\n",
    "fixer = ChromosomeFixerTSPSimple()\n",
    "generation_generator = PopulationGenerator()\n",
    "\n",
    "max_cost = max(filter(lambda x: x > 0 and math.isfinite(x), np.nditer(environment.cost)))  # type: ignore\n",
    "mean_cost = np.mean(\n",
    "    [x for x in np.nditer(environment.cost) if x > 0 and math.isfinite(x)]\n",
    ")\n",
    "\n",
    "invalidity_weight = 0.2 * mean_cost\n",
    "error_weight = 0.05 * mean_cost\n",
    "cost_weight = 1"
   ]
  },
  {
   "cell_type": "code",
   "execution_count": 33,
   "id": "bac606ad",
   "metadata": {},
   "outputs": [
    {
     "data": {
      "text/plain": [
       "[ChromosomeHomogenousVector(sequence=[0, 6, 14, 18, 16, 8, 17, 19, 15, 12, 4, 11, 10, 9, 1, 5, 2, 3, 7, 13]),\n",
       " ChromosomeHomogenousVector(sequence=[0, 17, 1, 14, 15, 2, 4, 6, 16, 13, 19, 9, 3, 7, 5, 8, 10, 18, 11, 12]),\n",
       " ChromosomeHomogenousVector(sequence=[0, 15, 12, 8, 4, 14, 7, 3, 9, 1, 13, 19, 6, 10, 11, 2, 16, 5, 17, 18]),\n",
       " ChromosomeHomogenousVector(sequence=[0, 6, 14, 18, 16, 8, 17, 19, 15, 12, 4, 11, 10, 9, 1, 5, 3, 7, 2, 13]),\n",
       " ChromosomeHomogenousVector(sequence=[0, 6, 13, 10, 1, 17, 4, 3, 7, 16, 2, 12, 14, 11, 19, 18, 15, 8, 5, 9]),\n",
       " ChromosomeHomogenousVector(sequence=[0, 15, 6, 9, 19, 2, 7, 5, 17, 18, 12, 13, 3, 10, 14, 16, 4, 11, 1, 8]),\n",
       " ChromosomeHomogenousVector(sequence=[0, 15, 6, 9, 19, 2, 7, 5, 17, 18, 12, 13, 3, 10, 14, 16, 8, 11, 4, 1]),\n",
       " ChromosomeHomogenousVector(sequence=[0, 10, 4, 14, 9, 16, 1, 13, 8, 5, 19, 15, 12, 11, 17, 18, 2, 7, 6, 3]),\n",
       " ChromosomeHomogenousVector(sequence=[0, 6, 13, 10, 1, 17, 4, 3, 7, 16, 2, 12, 14, 11, 19, 9, 15, 18, 5, 8]),\n",
       " ChromosomeHomogenousVector(sequence=[0, 8, 11, 4, 13, 12, 7, 16, 10, 5, 15, 17, 2, 1, 14, 9, 6, 18, 19, 3]),\n",
       " ChromosomeHomogenousVector(sequence=[0, 8, 2, 17, 16, 3, 9, 7, 18, 5, 19, 15, 12, 11, 4, 1, 13, 14, 6, 10]),\n",
       " ChromosomeHomogenousVector(sequence=[0, 17, 1, 14, 6, 15, 5, 11, 16, 13, 19, 9, 3, 7, 4, 8, 10, 18, 2, 12]),\n",
       " ChromosomeHomogenousVector(sequence=[0, 3, 15, 14, 6, 1, 5, 11, 16, 18, 17, 19, 9, 10, 4, 13, 12, 2, 7, 8]),\n",
       " ChromosomeHomogenousVector(sequence=[15, 13, 7, 5, 9, 10, 3, 1, 6, 14, 18, 2, 16, 11, 4, 8, 19, 0, 17, 12]),\n",
       " ChromosomeHomogenousVector(sequence=[0, 3, 15, 14, 1, 2, 4, 6, 16, 18, 17, 19, 9, 10, 5, 13, 12, 11, 7, 8]),\n",
       " ChromosomeHomogenousVector(sequence=[0, 8, 11, 4, 16, 14, 7, 3, 9, 1, 13, 19, 6, 10, 5, 15, 2, 18, 17, 12]),\n",
       " ChromosomeHomogenousVector(sequence=[0, 10, 4, 14, 9, 16, 1, 13, 8, 12, 7, 3, 18, 11, 15, 17, 2, 19, 6, 5]),\n",
       " ChromosomeHomogenousVector(sequence=[0, 15, 12, 8, 13, 11, 7, 16, 10, 5, 4, 17, 2, 1, 14, 19, 9, 6, 3, 18]),\n",
       " ChromosomeHomogenousVector(sequence=[15, 13, 7, 5, 9, 10, 3, 1, 6, 14, 18, 2, 16, 11, 4, 0, 19, 8, 17, 12]),\n",
       " ChromosomeHomogenousVector(sequence=[0, 8, 2, 17, 16, 3, 9, 7, 18, 12, 4, 1, 13, 11, 15, 14, 10, 19, 6, 5])]"
      ]
     },
     "execution_count": 33,
     "metadata": {},
     "output_type": "execute_result"
    }
   ],
   "source": [
    "next_generation, population_generation_data = generation_generator.generate(\n",
    "    population,\n",
    "    environment,\n",
    "    cost_calculator,\n",
    "    parent_selector,\n",
    "    mutators,\n",
    "    crossover,\n",
    "    fixer,\n",
    "    population_selector,\n",
    "    invalidity_weight,\n",
    "    error_weight,\n",
    "    cost_weight,\n",
    ")\n",
    "next_generation"
   ]
  },
  {
   "cell_type": "markdown",
   "id": "5678a120",
   "metadata": {},
   "source": [
    "## Genetic algorithm"
   ]
  },
  {
   "cell_type": "code",
   "execution_count": 34,
   "id": "84ad5cb0",
   "metadata": {},
   "outputs": [],
   "source": [
    "class GeneticAlgorithmFinishReason(en.Enum):\n",
    "    MAX_ITERATIONS = en.auto()\n",
    "    MAX_ITERATIONS_NO_UPDATE = en.auto()\n",
    "    TIMEOUT = en.auto()\n",
    "\n",
    "\n",
    "@dc.dataclass\n",
    "class GeneticAlgorithmExecutionData:\n",
    "    best_chromosome: Chromosome\n",
    "    best_cost: CostT\n",
    "    initial_population: Population\n",
    "    initial_best_cost: CostT\n",
    "    end_population: Population\n",
    "    iteration_best_costs: list[CostT]\n",
    "    execution_time: float\n",
    "    finish_reason: GeneticAlgorithmFinishReason\n",
    "    last_iteration_n: int\n",
    "\n",
    "\n",
    "def genetic_algorithm_tsp_simple_test(\n",
    "    max_iterations: int,\n",
    "    max_iterations_no_update: int,\n",
    "    timeout: float,\n",
    "    swap_p: float,\n",
    "    swap_lam: float,\n",
    "    shuffle_p: float,\n",
    "    shuffle_lam: float,\n",
    "    crossover_lam: float,\n",
    "    invalidity_weight: float,\n",
    "    error_weight: float,\n",
    "    cost_weight: float,\n",
    ") -> GeneticAlgorithmExecutionData:\n",
    "    t0 = time.time()\n",
    "\n",
    "    POPULATION_SIZE = 10\n",
    "    solution_creator_heuristic = SolutionCreatorTSPSimpleHeuristicNN()\n",
    "    solution_creator_random = SolutionCreatorTSPSimpleRandom()\n",
    "    heuristic_solution = solution_creator_heuristic.create(environment, initial_vx=0)\n",
    "    random_solutions = [\n",
    "        solution_creator_random.create(environment, initial_vx=0)\n",
    "        for _ in range(POPULATION_SIZE - 1)\n",
    "    ]\n",
    "\n",
    "    initial_population: Population = [\n",
    "        ChromosomeHomogenousVector(sol.representation)\n",
    "        for sol in mit.value_chain(heuristic_solution, random_solutions)\n",
    "    ]\n",
    "\n",
    "    cost_calculator = TSPCostCalculatorSimple()\n",
    "    parent_selector = ParentSelectorElitistRandomized()\n",
    "    population_selector = PopulationSelectorProbabilistic()\n",
    "    mutators = [\n",
    "        MutatorHomogenousVectorSwap(probability=swap_p, lam=swap_lam),\n",
    "        MutatorHomogenousVectorShuffle(probability=shuffle_p, lam=shuffle_lam),\n",
    "    ]\n",
    "    crossover = CrossoverHomogenousVectorKPointPoisson(lam=crossover_lam)\n",
    "    fixer = ChromosomeFixerTSPSimple()\n",
    "    generation_generator = PopulationGenerator()\n",
    "\n",
    "    current_population = cp.copy(initial_population)\n",
    "\n",
    "    initial_best_chromosome = initial_population[0]\n",
    "\n",
    "    initial_best_cost, _ = cost_calculator.calculate_total(\n",
    "        SolutionRepresentationTSP(initial_best_chromosome.sequence), environment\n",
    "    )\n",
    "\n",
    "    for chromosome in initial_population[1:]:\n",
    "        current_cost, _ = cost_calculator.calculate_total(\n",
    "            SolutionRepresentationTSP(chromosome.sequence), environment\n",
    "        )\n",
    "\n",
    "        if current_cost < initial_best_cost:\n",
    "            initial_best_chromosome = chromosome\n",
    "            initial_best_cost = current_cost\n",
    "\n",
    "    iteration_since_last_update = 0\n",
    "    NaN = float(\"NaN\")\n",
    "    iteration_best_costs: list[CostT] = [NaN for _ in range(max_iterations)]\n",
    "    best_chromosome = cp.deepcopy(initial_best_chromosome)\n",
    "    best_cost = initial_best_cost\n",
    "\n",
    "    for i in range(max_iterations):\n",
    "        delta_t = time.time() - t0\n",
    "\n",
    "        if (reason_timeout := (delta_t > timeout)) or (\n",
    "            reason_iterations := (\n",
    "                iteration_since_last_update > max_iterations_no_update\n",
    "            )\n",
    "        ):\n",
    "            reason = (\n",
    "                GeneticAlgorithmFinishReason.TIMEOUT\n",
    "                if reason_timeout\n",
    "                else GeneticAlgorithmFinishReason.MAX_ITERATIONS_NO_UPDATE\n",
    "            )\n",
    "\n",
    "            return GeneticAlgorithmExecutionData(\n",
    "                best_chromosome,\n",
    "                best_cost,\n",
    "                initial_population,\n",
    "                initial_best_cost,\n",
    "                end_population=current_population,\n",
    "                iteration_best_costs=iteration_best_costs,\n",
    "                execution_time=delta_t,\n",
    "                finish_reason=reason,\n",
    "                last_iteration_n=i,\n",
    "            )\n",
    "\n",
    "        current_population, population_generation_data = generation_generator.generate(\n",
    "            current_population,\n",
    "            environment,\n",
    "            cost_calculator,\n",
    "            parent_selector,\n",
    "            mutators,\n",
    "            crossover,\n",
    "            fixer,\n",
    "            population_selector,\n",
    "            invalidity_weight,\n",
    "            error_weight,\n",
    "            cost_weight,\n",
    "        )\n",
    "\n",
    "        costs = population_generation_data[\"new_costs\"]\n",
    "\n",
    "        current_best_chromosome = next_generation[0]\n",
    "        current_best_cost = costs[0]\n",
    "\n",
    "        for chromosome, cost in zip(next_generation[1:], costs[1:]):\n",
    "            if cost < current_best_cost:\n",
    "                current_best_chromosome = chromosome\n",
    "                current_best_cost = cost\n",
    "\n",
    "        iteration_best_costs[i] = current_best_cost\n",
    "\n",
    "        if current_best_cost < best_cost:\n",
    "            best_chromosome = current_best_chromosome\n",
    "            best_cost = current_best_cost\n",
    "            iteration_since_last_update = 0\n",
    "        else:\n",
    "            iteration_since_last_update += 1\n",
    "\n",
    "    return GeneticAlgorithmExecutionData(\n",
    "        best_chromosome,\n",
    "        best_cost,\n",
    "        initial_population,\n",
    "        initial_best_cost,\n",
    "        end_population=current_population,\n",
    "        iteration_best_costs=iteration_best_costs,\n",
    "        execution_time=time.time() - t0,\n",
    "        finish_reason=GeneticAlgorithmFinishReason.MAX_ITERATIONS,\n",
    "        last_iteration_n=max_iterations - 1,\n",
    "    )"
   ]
  },
  {
   "cell_type": "code",
   "execution_count": 35,
   "id": "85217f3f",
   "metadata": {},
   "outputs": [
    {
     "name": "stdout",
     "output_type": "stream",
     "text": [
      "result.finish_reason     = <GeneticAlgorithmFinishReason.TIMEOUT: 3>\n",
      "result.execution_time    = 68.1552734375\n",
      "result.last_iteration_n  = 15\n",
      "result.initial_best_cost = 14.704770576550509\n",
      "result.best_cost         = 14.704770576550509\n"
     ]
    }
   ],
   "source": [
    "max_cost = max(filter(lambda x: x > 0 and math.isfinite(x), np.nditer(environment.cost)))  # type: ignore\n",
    "mean_cost = np.mean(\n",
    "    [x for x in np.nditer(environment.cost) if x > 0 and math.isfinite(x)]\n",
    ")\n",
    "\n",
    "invalidity_weight = 0.2 * mean_cost\n",
    "error_weight = 0.05 * mean_cost\n",
    "cost_weight = 1\n",
    "\n",
    "result = genetic_algorithm_tsp_simple_test(\n",
    "    max_iterations=1000,\n",
    "    max_iterations_no_update=100,\n",
    "    timeout=60,\n",
    "    swap_p=0.05,\n",
    "    swap_lam=1,\n",
    "    shuffle_p=0.05,\n",
    "    shuffle_lam=1,\n",
    "    crossover_lam=1,\n",
    "    invalidity_weight=invalidity_weight,\n",
    "    error_weight=error_weight,\n",
    "    cost_weight=cost_weight,\n",
    ")\n",
    "\n",
    "print(\n",
    "    (\n",
    "        f\"{result.finish_reason     = }\\n\"\n",
    "        f\"{result.execution_time    = }\\n\"\n",
    "        f\"{result.last_iteration_n  = }\\n\"\n",
    "        f\"{result.initial_best_cost = }\\n\"\n",
    "        f\"{result.best_cost         = }\"\n",
    "    )\n",
    ")"
   ]
  },
  {
   "cell_type": "code",
   "execution_count": 36,
   "id": "6578ca68",
   "metadata": {},
   "outputs": [
    {
     "data": {
      "image/png": "[encoded data removed]",
      "text/plain": [
       "<Figure size 432x288 with 1 Axes>"
      ]
     },
     "metadata": {},
     "output_type": "display_data"
    }
   ],
   "source": [
    "data = pd.DataFrame(\n",
    "    data=result.iteration_best_costs,\n",
    "    columns=[\"best cost\"],\n",
    "    # index=[(\"iteration\", i) for i in range(len(result.iteration_best_costs))]\n",
    ")\n",
    "sns.set_theme()\n",
    "ax = sns.lineplot(data=data)\n",
    "_ = ax.set_title(\"Experiment details\")"
   ]
  },
  {
   "cell_type": "markdown",
   "id": "c2ad3711",
   "metadata": {},
   "source": [
    "## experiment0"
   ]
  },
  {
   "cell_type": "code",
   "execution_count": 37,
   "id": "d6d01d94",
   "metadata": {},
   "outputs": [
    {
     "name": "stdout",
     "output_type": "stream",
     "text": [
      "initializing environment\n",
      "calling the algorithm\n"
     ]
    }
   ],
   "source": [
    "print(\"initializing environment\")\n",
    "\n",
    "coords = coords_random(5, max_x=10, max_y=10)\n",
    "distances = coords_distances(coords, std_dev=0.1)\n",
    "permitted_distances = disable_edges(distances, prohibition_p=0.1)\n",
    "wind = wind_random(permitted_distances, max_velocity=1)\n",
    "speed = 2.5\n",
    "eff_speed = effective_speed(speed, wind)\n",
    "travel_t = travel_times(distances, eff_speed)\n",
    "environment = EnvironmentTSPSimple(travel_t)\n",
    "\n",
    "solution_creator_heuristic = SolutionCreatorTSPSimpleHeuristicNN()\n",
    "heuristic_solution = solution_creator_heuristic.create(environment, initial_vx=0)\n",
    "cost_calculator = TSPCostCalculatorSimple()\n",
    "heuristic_cost = cost_calculator.calculate_total(heuristic_solution, environment)\n",
    "\n",
    "max_cost = max(filter(lambda x: x > 0 and math.isfinite(x), np.nditer(environment.cost)))  # type: ignore\n",
    "mean_cost = np.mean(\n",
    "    [x for x in np.nditer(environment.cost) if x > 0 and math.isfinite(x)]\n",
    ")\n",
    "\n",
    "invalidity_weight = 0.2 * mean_cost\n",
    "error_weight = 0.05 * mean_cost\n",
    "cost_weight = 1\n",
    "\n",
    "print(\"calling the algorithm\")"
   ]
  },
  {
   "cell_type": "code",
   "execution_count": 38,
   "id": "875cd9e2",
   "metadata": {},
   "outputs": [
    {
     "name": "stdout",
     "output_type": "stream",
     "text": [
      "\u001b[1;31mSignature:\u001b[0m \u001b[0mplt\u001b[0m\u001b[1;33m.\u001b[0m\u001b[0msavefig\u001b[0m\u001b[1;33m(\u001b[0m\u001b[1;33m*\u001b[0m\u001b[0margs\u001b[0m\u001b[1;33m,\u001b[0m \u001b[1;33m**\u001b[0m\u001b[0mkwargs\u001b[0m\u001b[1;33m)\u001b[0m\u001b[1;33m\u001b[0m\u001b[1;33m\u001b[0m\u001b[0m\n",
      "\u001b[1;31mDocstring:\u001b[0m\n",
      "Save the current figure.\n",
      "\n",
      "Call signature::\n",
      "\n",
      "  savefig(fname, dpi=None, facecolor='w', edgecolor='w',\n",
      "          orientation='portrait', papertype=None, format=None,\n",
      "          transparent=False, bbox_inches=None, pad_inches=0.1,\n",
      "          frameon=None, metadata=None)\n",
      "\n",
      "The available output formats depend on the backend being used.\n",
      "\n",
      "Parameters\n",
      "----------\n",
      "fname : str or path-like or binary file-like\n",
      "    A path, or a Python file-like object, or\n",
      "    possibly some backend-dependent object such as\n",
      "    `matplotlib.backends.backend_pdf.PdfPages`.\n",
      "\n",
      "    If *format* is set, it determines the output format, and the file\n",
      "    is saved as *fname*.  Note that *fname* is used verbatim, and there\n",
      "    is no attempt to make the extension, if any, of *fname* match\n",
      "    *format*, and no extension is appended.\n",
      "\n",
      "    If *format* is not set, then the format is inferred from the\n",
      "    extension of *fname*, if there is one.  If *format* is not\n",
      "    set and *fname* has no extension, then the file is saved with\n",
      "    :rc:`savefig.format` and the appropriate extension is appended to\n",
      "    *fname*.\n",
      "\n",
      "Other Parameters\n",
      "----------------\n",
      "dpi : float or 'figure', default: :rc:`savefig.dpi`\n",
      "    The resolution in dots per inch.  If 'figure', use the figure's\n",
      "    dpi value.\n",
      "\n",
      "quality : int, default: :rc:`savefig.jpeg_quality`\n",
      "    Applicable only if *format* is 'jpg' or 'jpeg', ignored otherwise.\n",
      "\n",
      "    The image quality, on a scale from 1 (worst) to 95 (best).\n",
      "    Values above 95 should be avoided; 100 disables portions of\n",
      "    the JPEG compression algorithm, and results in large files\n",
      "    with hardly any gain in image quality.\n",
      "\n",
      "    This parameter is deprecated.\n",
      "\n",
      "optimize : bool, default: False\n",
      "    Applicable only if *format* is 'jpg' or 'jpeg', ignored otherwise.\n",
      "\n",
      "    Whether the encoder should make an extra pass over the image\n",
      "    in order to select optimal encoder settings.\n",
      "\n",
      "    This parameter is deprecated.\n",
      "\n",
      "progressive : bool, default: False\n",
      "    Applicable only if *format* is 'jpg' or 'jpeg', ignored otherwise.\n",
      "\n",
      "    Whether the image should be stored as a progressive JPEG file.\n",
      "\n",
      "    This parameter is deprecated.\n",
      "\n",
      "facecolor : color or 'auto', default: :rc:`savefig.facecolor`\n",
      "    The facecolor of the figure.  If 'auto', use the current figure\n",
      "    facecolor.\n",
      "\n",
      "edgecolor : color or 'auto', default: :rc:`savefig.edgecolor`\n",
      "    The edgecolor of the figure.  If 'auto', use the current figure\n",
      "    edgecolor.\n",
      "\n",
      "orientation : {'landscape', 'portrait'}\n",
      "    Currently only supported by the postscript backend.\n",
      "\n",
      "papertype : str\n",
      "    One of 'letter', 'legal', 'executive', 'ledger', 'a0' through\n",
      "    'a10', 'b0' through 'b10'. Only supported for postscript\n",
      "    output.\n",
      "\n",
      "format : str\n",
      "    The file format, e.g. 'png', 'pdf', 'svg', ... The behavior when\n",
      "    this is unset is documented under *fname*.\n",
      "\n",
      "transparent : bool\n",
      "    If *True*, the Axes patches will all be transparent; the\n",
      "    figure patch will also be transparent unless facecolor\n",
      "    and/or edgecolor are specified via kwargs.\n",
      "    This is useful, for example, for displaying\n",
      "    a plot on top of a colored background on a web page.  The\n",
      "    transparency of these patches will be restored to their\n",
      "    original values upon exit of this function.\n",
      "\n",
      "bbox_inches : str or `.Bbox`, default: :rc:`savefig.bbox`\n",
      "    Bounding box in inches: only the given portion of the figure is\n",
      "    saved.  If 'tight', try to figure out the tight bbox of the figure.\n",
      "\n",
      "pad_inches : float, default: :rc:`savefig.pad_inches`\n",
      "    Amount of padding around the figure when bbox_inches is 'tight'.\n",
      "\n",
      "bbox_extra_artists : list of `~matplotlib.artist.Artist`, optional\n",
      "    A list of extra artists that will be considered when the\n",
      "    tight bbox is calculated.\n",
      "\n",
      "backend : str, optional\n",
      "    Use a non-default backend to render the file, e.g. to render a\n",
      "    png file with the \"cairo\" backend rather than the default \"agg\",\n",
      "    or a pdf file with the \"pgf\" backend rather than the default\n",
      "    \"pdf\".  Note that the default backend is normally sufficient.  See\n",
      "    :ref:`the-builtin-backends` for a list of valid backends for each\n",
      "    file format.  Custom backends can be referenced as \"module://...\".\n",
      "\n",
      "metadata : dict, optional\n",
      "    Key/value pairs to store in the image metadata. The supported keys\n",
      "    and defaults depend on the image format and backend:\n",
      "\n",
      "    - 'png' with Agg backend: See the parameter ``metadata`` of\n",
      "      `~.FigureCanvasAgg.print_png`.\n",
      "    - 'pdf' with pdf backend: See the parameter ``metadata`` of\n",
      "      `~.backend_pdf.PdfPages`.\n",
      "    - 'svg' with svg backend: See the parameter ``metadata`` of\n",
      "      `~.FigureCanvasSVG.print_svg`.\n",
      "    - 'eps' and 'ps' with PS backend: Only 'Creator' is supported.\n",
      "\n",
      "pil_kwargs : dict, optional\n",
      "    Additional keyword arguments that are passed to\n",
      "    `PIL.Image.Image.save` when saving the figure.\n",
      "\u001b[1;31mFile:\u001b[0m      c:\\users\\obszansk\\my\\bachelor-thesis-project\\.venv\\lib\\site-packages\\matplotlib\\pyplot.py\n",
      "\u001b[1;31mType:\u001b[0m      function\n"
     ]
    }
   ],
   "source": [
    "?plt.savefig"
   ]
  },
  {
   "cell_type": "markdown",
   "id": "d4c71eeb",
   "metadata": {},
   "source": [
    "## MTSP development - matrix"
   ]
  },
  {
   "cell_type": "code",
   "execution_count": 12,
   "id": "f6e30f77",
   "metadata": {},
   "outputs": [
    {
     "name": "stdout",
     "output_type": "stream",
     "text": [
      "xys: [(1, 4), (2, 4), (3, 7), (0, 6), (2, 6), (2, 5), (0, 3), (2, 0)](8)\n"
     ]
    },
    {
     "data": {
      "text/plain": [
       "True"
      ]
     },
     "execution_count": 12,
     "metadata": {},
     "output_type": "execute_result"
    }
   ],
   "source": [
    "SALESMAN_N = 4\n",
    "VERTICES_N = 8\n",
    "MAX_CHROMOSOME_LEN = VERTICES_N\n",
    "\n",
    "vertices = list(range(VERTICES_N))\n",
    "mx_height, mx_width = SALESMAN_N, MAX_CHROMOSOME_LEN\n",
    "\n",
    "all_ixs = list(it.product(range(SALESMAN_N), range(MAX_CHROMOSOME_LEN)))\n",
    "coord_ixs = np.random.choice(len(all_ixs), size=len(vertices), replace=False)\n",
    "vertex_ixs = tuple(np.array(list(all_ixs[i] for i in coord_ixs)).T.tolist())\n",
    "dbg_xys = [(x, y) for x, y in zip(vertex_ixs[0], vertex_ixs[1])]\n",
    "print(f\"xys: {dbg_xys}({len(dbg_xys)})\")\n",
    "\n",
    "mx = -np.ones(shape=(mx_height, mx_width), dtype=np.float64)\n",
    "mx[vertex_ixs] = vertices\n",
    "sum(1 for x in np.nditer(mx) if x != -1) == VERTICES_N"
   ]
  },
  {
   "cell_type": "code",
   "execution_count": 13,
   "id": "fc0d6728",
   "metadata": {},
   "outputs": [
    {
     "data": {
      "text/plain": [
       "(array([[-1., -1., -1.,  6., -1., -1.,  3., -1.],\n",
       "        [-1., -1., -1., -1.,  0., -1., -1., -1.],\n",
       "        [ 7., -1., -1., -1.,  1.,  5.,  4., -1.],\n",
       "        [-1., -1., -1., -1., -1., -1., -1.,  2.]]),\n",
       " set())"
      ]
     },
     "execution_count": 13,
     "metadata": {},
     "output_type": "execute_result"
    }
   ],
   "source": [
    "mx, set(vertices) - set(float(x) for x in np.nditer(mx))"
   ]
  },
  {
   "cell_type": "code",
   "execution_count": 14,
   "id": "48a9665c",
   "metadata": {},
   "outputs": [
    {
     "ename": "SyntaxError",
     "evalue": "invalid syntax (Temp/ipykernel_20960/1887764639.py, line 1)",
     "output_type": "error",
     "traceback": [
      "\u001b[1;36m  File \u001b[1;32m\"C:\\Users\\obszansk\\AppData\\Local\\Temp/ipykernel_20960/1887764639.py\"\u001b[1;36m, line \u001b[1;32m1\u001b[0m\n\u001b[1;33m    def swap_random_matrix_vxs\u001b[0m\n\u001b[1;37m                              ^\u001b[0m\n\u001b[1;31mSyntaxError\u001b[0m\u001b[1;31m:\u001b[0m invalid syntax\n"
     ]
    }
   ],
   "source": [
    "def swap_random_matrix_vxs\n",
    "# TODO maybe two functions - to draw indices of vertices to swap and to actually swap"
   ]
  },
  {
   "cell_type": "code",
   "execution_count": 15,
   "id": "80fc49d7",
   "metadata": {},
   "outputs": [],
   "source": [
    "T1 = tp.TypeVar(\"T1\")\n",
    "T2 = tp.TypeVar(\"T2\")\n",
    "T3 = tp.TypeVar(\"T3\")\n",
    "\n",
    "\n",
    "def rand_fill_to_n(\n",
    "    seq: tp.Sequence[T1],\n",
    "    fill_val: T2,\n",
    "    n: int,\n",
    ") -> list[Union[T1, T2]]:\n",
    "    \"\"\"\n",
    "    Assumes that `n >= len(c1)`\n",
    "    \"\"\"\n",
    "\n",
    "    seq_len = len(seq)\n",
    "    diff = n - seq_len\n",
    "\n",
    "    if diff < 0:\n",
    "        raise ValueError(\n",
    "            \"`n` has to be greater than `len(seq)`\", {\"n\": n, \"seq_len\": seq_len}\n",
    "        )\n",
    "\n",
    "    if diff == 0:\n",
    "        return list(seq)\n",
    "\n",
    "    filler_ixs = sorted(np.random.choice(seq_len, size=diff))\n",
    "    shorter_chunk_ixs = mit.windowed(mit.value_chain(0, filler_ixs, n), n=2)\n",
    "\n",
    "    return list(\n",
    "        it.chain.from_iterable(\n",
    "            mit.intersperse(  # type: ignore\n",
    "                [fill_val], (seq[i:j] for i, j in shorter_chunk_ixs)\n",
    "            )\n",
    "        )\n",
    "    )\n",
    "\n",
    "\n",
    "def rand_fill_shorter(\n",
    "    c1: tp.Sequence[T1], c2: tp.Sequence[T2], fill_val: T3\n",
    ") -> tuple[tp.Sequence[Union[T1, T2, T3]], tp.Sequence[Union[T1, T2, T3]]]:\n",
    "    c1_len = len(c1)\n",
    "    c2_len = len(c2)\n",
    "    shorter, longer, shorter_len, longer_len = (\n",
    "        (c1, c2, c1_len, c2_len) if c1_len < c2_len else (c2, c1, c2_len, c1_len)\n",
    "    )\n",
    "\n",
    "    filled_shorter = rand_fill_to_n(shorter, fill_val, n=longer_len)  # type: ignore\n",
    "\n",
    "    return filled_shorter, longer  # type: ignore"
   ]
  },
  {
   "cell_type": "code",
   "execution_count": 16,
   "id": "e4d9f9b1",
   "metadata": {},
   "outputs": [
    {
     "data": {
      "text/plain": [
       "True"
      ]
     },
     "execution_count": 16,
     "metadata": {},
     "output_type": "execute_result"
    }
   ],
   "source": [
    "c1, c2 = rand_fill_shorter(list(range(10)), list(range(6)), -1)\n",
    "len(c1) == len(c2)"
   ]
  },
  {
   "cell_type": "code",
   "execution_count": 17,
   "id": "1e24c45b",
   "metadata": {},
   "outputs": [
    {
     "name": "stdout",
     "output_type": "stream",
     "text": [
      "[0 2 4]\n",
      "[ 6  8 10]\n"
     ]
    }
   ],
   "source": [
    "foo = np.arange(12).reshape((2, 6))\n",
    "for row in foo:\n",
    "    print(row[row % 2 == 0])"
   ]
  },
  {
   "cell_type": "code",
   "execution_count": 18,
   "id": "e9dbc531",
   "metadata": {},
   "outputs": [
    {
     "name": "stdout",
     "output_type": "stream",
     "text": [
      "not_fill_vals = array([[False, False, False,  True, False, False,  True, False],\n",
      "       [False, False, False, False,  True, False, False, False],\n",
      "       [ True, False, False, False,  True,  True,  True, False],\n",
      "       [False, False, False, False, False, False, False,  True]])\n",
      "reduced_row_len = 4\n"
     ]
    },
    {
     "data": {
      "text/plain": [
       "array([[-1.,  6., -1.,  3.],\n",
       "       [-1., -1., -1.,  0.],\n",
       "       [ 7.,  1.,  5.,  4.],\n",
       "       [-1., -1., -1.,  2.]])"
      ]
     },
     "execution_count": 18,
     "metadata": {},
     "output_type": "execute_result"
    }
   ],
   "source": [
    "def shorten_filled(mx: np.ndarray, fill_val) -> np.ndarray:\n",
    "    \"\"\"\n",
    "    Reduces max row size to size of a row with the greatest number\n",
    "    of non-`fill_val` values.\n",
    "    \"\"\"\n",
    "\n",
    "    not_fill_vals = mx != fill_val\n",
    "    print(f\"{not_fill_vals = }\")\n",
    "    reduced_row_len = max(len(row[row == True]) for row in not_fill_vals)\n",
    "    print(f\"{reduced_row_len = }\")\n",
    "\n",
    "    return np.array(\n",
    "        [rand_fill_to_n(row[row != fill_val], fill_val, reduced_row_len) for row in mx]\n",
    "    )\n",
    "\n",
    "\n",
    "shorten_filled(mx, fill_val=(-1))"
   ]
  },
  {
   "cell_type": "code",
   "execution_count": 19,
   "id": "8353ed37",
   "metadata": {},
   "outputs": [],
   "source": [
    "def spy_iter(coll):\n",
    "    for i, elem in enumerate(coll):\n",
    "        print(f\"coll[{i}] = {elem}\")\n",
    "    return coll"
   ]
  },
  {
   "cell_type": "code",
   "execution_count": 20,
   "id": "9938ed83",
   "metadata": {},
   "outputs": [
    {
     "data": {
      "image/png": "[encoded data removed]",
      "text/plain": [
       "<Figure size 432x288 with 2 Axes>"
      ]
     },
     "metadata": {
      "needs_background": "light"
     },
     "output_type": "display_data"
    }
   ],
   "source": [
    "ax = sns.heatmap(travel_t)\n",
    "_ = ax.set_title(\"Travel time matrix\")"
   ]
  },
  {
   "cell_type": "code",
   "execution_count": 50,
   "id": "395318b8",
   "metadata": {},
   "outputs": [],
   "source": [
    "def extend_cost_mx(mx: np.ndarray, copy_n: int, to_copy_ix: int) -> np.ndarray:\n",
    "    \"\"\"\n",
    "    Extends `mx` by copying `to_copy_ix`'th row and column `copy_n` times.\n",
    "    \"\"\"\n",
    "\n",
    "    n_columns = np.repeat(np.array([mx[:, to_copy_ix]]).T, copy_n, axis=1)\n",
    "    n_rows = np.repeat(np.array([mx[to_copy_ix, :]]).T, copy_n, axis=1).T\n",
    "    copy_to_copy_costs = np.full(shape=(copy_n, copy_n), fill_value=mx[0, 0])\n",
    "\n",
    "    # fmt: off\n",
    "    return np.block([\n",
    "        [copy_to_copy_costs, n_rows],\n",
    "        [n_columns,          mx    ]\n",
    "    ])\n",
    "    # fmt: on"
   ]
  },
  {
   "cell_type": "code",
   "execution_count": 51,
   "id": "ac492962",
   "metadata": {},
   "outputs": [
    {
     "data": {
      "text/plain": [
       "array([[1, 2, 3],\n",
       "       [1, 2, 3]])"
      ]
     },
     "execution_count": 51,
     "metadata": {},
     "output_type": "execute_result"
    }
   ],
   "source": [
    "np.repeat(np.array([[1, 2, 3]]).T, 2, axis=1).T"
   ]
  },
  {
   "cell_type": "code",
   "execution_count": 52,
   "id": "39bc74cd",
   "metadata": {},
   "outputs": [
    {
     "data": {
      "image/png": "[encoded data removed]",
      "text/plain": [
       "<Figure size 432x288 with 2 Axes>"
      ]
     },
     "metadata": {
      "needs_background": "light"
     },
     "output_type": "display_data"
    }
   ],
   "source": [
    "extended_travel_t = extend_cost_mx(travel_t, copy_n=3, to_copy_ix=0)\n",
    "ax = sns.heatmap(extended_travel_t)\n",
    "_ = ax.set_title(\"Extended travel time matrix\")"
   ]
  },
  {
   "cell_type": "code",
   "execution_count": 53,
   "id": "91734dd5",
   "metadata": {},
   "outputs": [
    {
     "data": {
      "image/png": "[encoded data removed]",
      "text/plain": [
       "<Figure size 432x288 with 2 Axes>"
      ]
     },
     "metadata": {
      "needs_background": "light"
     },
     "output_type": "display_data"
    }
   ],
   "source": [
    "check_extended_travel_t = extended_travel_t == -1\n",
    "ax = sns.heatmap(check_extended_travel_t)\n",
    "_ = ax.set_title(\"Check extended travel time matrix\")"
   ]
  },
  {
   "cell_type": "code",
   "execution_count": 58,
   "id": "a5610463",
   "metadata": {},
   "outputs": [
    {
     "data": {
      "text/plain": [
       "[0, 3, 7, 2, 5, 6, 8, 9, 1, 4]"
      ]
     },
     "execution_count": 58,
     "metadata": {},
     "output_type": "execute_result"
    }
   ],
   "source": [
    "initial_sol = [0] + [\n",
    "    list(range(1, 10))[i] for i in np.random.choice(9, size=9, replace=False)\n",
    "]\n",
    "initial_sol"
   ]
  },
  {
   "cell_type": "code",
   "execution_count": null,
   "id": "5e8502db",
   "metadata": {},
   "outputs": [],
   "source": [
    "def list_from_seed_list(seed: list[int]) -> list[int]:\n",
    "    \"\"\"\n",
    "    Swaps\n",
    "    \"\"\""
   ]
  },
  {
   "cell_type": "code",
   "execution_count": 70,
   "id": "96305eb1",
   "metadata": {},
   "outputs": [
    {
     "name": "stdout",
     "output_type": "stream",
     "text": [
      "0\n",
      "2\n"
     ]
    }
   ],
   "source": [
    "rng1 = np.random.default_rng()\n",
    "print(rng1.integers(10))\n",
    "rng2 = np.random.default_rng()\n",
    "print(rng2.integers(10))"
   ]
  },
  {
   "cell_type": "code",
   "execution_count": 81,
   "id": "6556cdf9",
   "metadata": {},
   "outputs": [
    {
     "data": {
      "text/plain": [
       "[0, 1, 2]"
      ]
     },
     "execution_count": 81,
     "metadata": {},
     "output_type": "execute_result"
    }
   ],
   "source": [
    "def create_tsp_solution_random(\n",
    "    cost_mx: np.ndarray, initial_vx: int, rng: np.random.Generator\n",
    "):\n",
    "    vx_n = cost_mx.shape[0]\n",
    "    solution_tail = list(set(range(vx_n)) - {initial_vx})\n",
    "    rng.shuffle(solution_tail)\n",
    "    return [initial_vx] + solution_tail\n",
    "\n",
    "\n",
    "create_tsp_solution_random(np.arange(9).reshape((3, 3)), 0, rng1)"
   ]
  },
  {
   "cell_type": "code",
   "execution_count": 1,
   "id": "116cba7c",
   "metadata": {},
   "outputs": [],
   "source": [
    "from libs.schemas import ExperimentTSPSchema"
   ]
  },
  {
   "cell_type": "code",
   "execution_count": 2,
   "id": "28a84b0f",
   "metadata": {},
   "outputs": [
    {
     "name": "stdout",
     "output_type": "stream",
     "text": [
      "in pre load: data = {'maka_from_path': 'data/dummy_data.yaml', 'dummy_enum': 'A'}\n",
      "checked numeric\n",
      "checked enums\n",
      "loaded paths\n",
      "loaded registers\n",
      "parsing paths\n",
      "converting or not: field.name = 'maka_from_path', field.type = <class 'str'>, {'is_path': True}\n",
      "converting or not: field.name = 'dummy_enum', field.type = <enum 'DummyEnum'>, {}\n"
     ]
    },
    {
     "data": {
      "text/plain": [
       "WindowsPath('data/dummy_data.yaml')"
      ]
     },
     "execution_count": 2,
     "metadata": {},
     "output_type": "execute_result"
    }
   ],
   "source": [
    "schema = ExperimentTSPSchema()\n",
    "config = {\"maka_from_path\": \"data/dummy_data.yaml\", \"dummy_enum\": \"A\"}\n",
    "schema.load(config).maka_from_path"
   ]
  },
  {
   "cell_type": "code",
   "execution_count": null,
   "id": "8b6caed8",
   "metadata": {},
   "outputs": [],
   "source": []
  }
 ],
 "metadata": {
  "interpreter": {
   "hash": "5a0102877f3974be9ed984137ecd947a8fbdb0b701d718093ac69a4129e5b453"
  },
  "kernelspec": {
   "display_name": "Python 3 (ipykernel)",
   "language": "python",
   "name": "python3"
  },
  "language_info": {
   "codemirror_mode": {
    "name": "ipython",
    "version": 3
   },
   "file_extension": ".py",
   "mimetype": "text/x-python",
   "name": "python",
   "nbconvert_exporter": "python",
   "pygments_lexer": "ipython3",
   "version": "3.9.9"
  }
 },
 "nbformat": 4,
 "nbformat_minor": 5
}
