{
 "cells": [
  {
   "cell_type": "code",
   "execution_count": 1,
   "id": "21016447-f0ba-431d-b8b3-868af1246b98",
   "metadata": {},
   "outputs": [],
   "source": [
    "from pathlib import Path\n",
    "import json\n",
    "from math import sqrt\n",
    "from typing import Any\n",
    "from copy import deepcopy\n",
    "\n",
    "import numpy as np\n",
    "import pandas as pd\n",
    "import matplotlib.pyplot as plt\n",
    "import seaborn as sns\n",
    "from rich import print as rprint"
   ]
  },
  {
   "cell_type": "code",
   "execution_count": 2,
   "id": "dc34ea96-18b4-4f62-879d-b34a9d23168f",
   "metadata": {},
   "outputs": [],
   "source": [
    "%matplotlib qt\n",
    "rng = np.random.default_rng()"
   ]
  },
  {
   "cell_type": "code",
   "execution_count": 3,
   "id": "67e1db0d-0df7-4969-9c32-ddb936af4ac0",
   "metadata": {},
   "outputs": [],
   "source": [
    "proc_data_path_fmt = \"data/experiments/analyzed_{exp_t}.json\"\n",
    "data = {}\n",
    "for exp_t in (\"tsp\", \"vrp\", \"vrpp\"):\n",
    "    with Path(proc_data_path_fmt.format(exp_t=exp_t)).open(\"r\") as f:\n",
    "        data[exp_t] = json.load(f)"
   ]
  },
  {
   "cell_type": "code",
   "execution_count": 4,
   "id": "ed6877f7-e35c-4abb-9854-eb37fa45d8fe",
   "metadata": {},
   "outputs": [
    {
     "data": {
      "text/html": [
       "<pre style=\"white-space:pre;overflow-x:auto;line-height:normal;font-family:Menlo,'DejaVu Sans Mono',consolas,'Courier New',monospace\">criteria:\n",
       "        by_destination_n\n",
       "        by_population_size\n",
       "        by_map\n",
       "        by_crossover\n",
       "</pre>\n"
      ],
      "text/plain": [
       "criteria:\n",
       "        by_destination_n\n",
       "        by_population_size\n",
       "        by_map\n",
       "        by_crossover\n"
      ]
     },
     "metadata": {},
     "output_type": "display_data"
    }
   ],
   "source": [
    "criteria = tuple(data.values())[0].keys()\n",
    "rprint(\"criteria:\\n\\t\" + \"\\n\\t\".join(criteria))"
   ]
  },
  {
   "cell_type": "code",
   "execution_count": 33,
   "id": "6226ac49-cafc-4ab1-896d-05897c0be1ea",
   "metadata": {},
   "outputs": [],
   "source": [
    "criterium_translation = {\n",
    "    \"by_destination_n\": \"Rozmiar mapy (n x n)\",\n",
    "    \"by_population_size\": \"Rozmiar populacji\",\n",
    "    \"by_map\": \"Mapa\",\n",
    "}\n",
    "key_translation = {\n",
    "    \"mean_exec_t\": \"czas obliczeń [s]\",\n",
    "    \"mean_cost_improvement\": \"poprawa [%]\",\n",
    "    \"mean_iters\": \"ilość iteracji\",\n",
    "}\n",
    "crossover_translation = {\n",
    "    \"crossover_ndarray\": \"1-punktowy\",\n",
    "    \"crossover_k_loci_ndarray\": \"k-punktowy\",\n",
    "    \"crossover_k_loci_with_inversion_ndarray\": \"k-punktowy z inwersją\",\n",
    "    \"crossover_k_loci_poisson_ndarray\": \"Poisson\",\n",
    "    \"crossover_k_loci_poisson_with_inversion_ndarray\": \"Poisson z inwersją\",\n",
    "}\n",
    "mutator_translation = {\n",
    "    \"mutate_swap\": \"zamiana\",\n",
    "    \"mutate_del\": \"delecja\",\n",
    "    \"mutate_insert\": \"insercja\",\n",
    "}"
   ]
  },
  {
   "cell_type": "code",
   "execution_count": 6,
   "id": "9764db63-4c39-4ad9-93b7-d22d57cfa92a",
   "metadata": {},
   "outputs": [],
   "source": [
    "def plot_exp_stats(exp_t: str, criterium: \"str\", title: str):\n",
    "    criterium_data = pd.DataFrame(\n",
    "        {\n",
    "            int(sqrt(int(dest_n))): deepcopy(vals)\n",
    "            for dest_n, vals in data[exp_t][criterium].items()\n",
    "        }\n",
    "    ).T.sort_index()\n",
    "    # to %\n",
    "    criterium_data[\"mean_cost_improvement\"] = [\n",
    "        100 * x for x in criterium_data[\"mean_cost_improvement\"]\n",
    "    ]\n",
    "\n",
    "    fig, (ax_t, ax_impr, ax_i) = plt.subplots(nrows=3, sharex=True)\n",
    "    for ax, (k, k_tr) in zip([ax_t, ax_impr, ax_i], key_translation.items()):\n",
    "        sns.lineplot(data=criterium_data[k], ax=ax, marker=\"o\")\n",
    "        ax.set_ylabel(k_tr)\n",
    "        ax.grid()\n",
    "    plt.suptitle(title)\n",
    "\n",
    "\n",
    "def plot_crossovers(exp_t: str) -> pd.DataFrame:\n",
    "    data_cross = deepcopy(data[exp_t][\"by_crossover\"])\n",
    "    # to %\n",
    "    for cr in data_cross:\n",
    "        data_cross[cr][\"mean_cost_improvement\"] = (\n",
    "            100 * data_cross[cr][\"mean_cost_improvement\"]\n",
    "        )\n",
    "    df = pd.DataFrame(data_cross)\n",
    "    fig, (ax_t, ax_impr, ax_i) = plt.subplots(nrows=3, sharex=True)\n",
    "    axs = (ax_t, ax_impr, ax_i)\n",
    "    xs = list(data_cross.keys())\n",
    "    for ax, k in zip(axs, (\"mean_exec_t\", \"mean_cost_improvement\", \"mean_iters\")):\n",
    "        ys = [data_cross[cr][k] for cr in xs]\n",
    "        sns.barplot(x=[crossover_translation[x] for x in xs], y=ys, ax=ax)\n",
    "        ax.set_ylabel(key_translation[k])\n",
    "    plt.suptitle(\"Operatory krzyżowania\")\n",
    "    return df"
   ]
  },
  {
   "cell_type": "markdown",
   "id": "c559e18c-5753-4d43-aa86-08b0abb3f194",
   "metadata": {},
   "source": [
    "## Ogólne statystyki"
   ]
  },
  {
   "cell_type": "markdown",
   "id": "767c5e19-7ef7-473f-be16-fcb819a8ef62",
   "metadata": {
    "tags": []
   },
   "source": [
    "### TSP"
   ]
  },
  {
   "cell_type": "code",
   "execution_count": 7,
   "id": "3296a562-6ab7-48cb-b808-893ab67794b3",
   "metadata": {},
   "outputs": [],
   "source": [
    "plot_exp_stats(\"tsp\", \"by_destination_n\", title=\"Rozmiar mapy - średnie\")"
   ]
  },
  {
   "cell_type": "code",
   "execution_count": 8,
   "id": "36add600-e95c-4fe8-87b4-6bd722c239ac",
   "metadata": {},
   "outputs": [],
   "source": [
    "plot_exp_stats(\"tsp\", \"by_population_size\", title=\"Rozmiar populacji - średnie\")"
   ]
  },
  {
   "cell_type": "code",
   "execution_count": 9,
   "id": "9d6a765f-2a37-4a81-887d-1a188471ad8b",
   "metadata": {},
   "outputs": [],
   "source": [
    "df_tsp = plot_crossovers(\"tsp\")"
   ]
  },
  {
   "cell_type": "markdown",
   "id": "4c06bf64-3592-4ba3-9819-a4eb41a774ef",
   "metadata": {},
   "source": [
    "### VRP"
   ]
  },
  {
   "cell_type": "code",
   "execution_count": 10,
   "id": "e130620e-d027-453a-959d-7f211a77cc6a",
   "metadata": {},
   "outputs": [],
   "source": [
    "plot_exp_stats(\"vrp\", \"by_destination_n\", title=\"Rozmiar mapy - średnie\")"
   ]
  },
  {
   "cell_type": "code",
   "execution_count": 11,
   "id": "6cb1fd7d-5b81-4a43-a28d-460dd004ed7a",
   "metadata": {},
   "outputs": [],
   "source": [
    "plot_exp_stats(\"vrp\", \"by_population_size\", title=\"Rozmiar populacji - średnie\")"
   ]
  },
  {
   "cell_type": "code",
   "execution_count": 12,
   "id": "c95b0b82-7cf4-440c-be31-f15eca64fe60",
   "metadata": {},
   "outputs": [],
   "source": [
    "df_vrp = plot_crossovers(\"vrp\")"
   ]
  },
  {
   "cell_type": "markdown",
   "id": "e74ef716-6ee3-45d2-adc4-7d7172e1f4c7",
   "metadata": {},
   "source": [
    "### VRPP"
   ]
  },
  {
   "cell_type": "code",
   "execution_count": 13,
   "id": "10f955c2-7d0a-4c7d-97d7-f60077e1be61",
   "metadata": {},
   "outputs": [],
   "source": [
    "plot_exp_stats(\"vrpp\", \"by_destination_n\", title=\"Rozmiar mapy - średnie\")"
   ]
  },
  {
   "cell_type": "code",
   "execution_count": 14,
   "id": "b6036a2e-f21a-4d10-abb7-806852880278",
   "metadata": {},
   "outputs": [],
   "source": [
    "plot_exp_stats(\"vrpp\", \"by_population_size\", title=\"Rozmiar populacji - średnie\")"
   ]
  },
  {
   "cell_type": "code",
   "execution_count": 15,
   "id": "52095d66-cb95-4695-82d2-dbea3928570e",
   "metadata": {},
   "outputs": [],
   "source": [
    "df_vrpp = plot_crossovers(\"vrpp\")"
   ]
  },
  {
   "cell_type": "markdown",
   "id": "3e214080-0d45-40b8-b34e-c51bda65d6e8",
   "metadata": {},
   "source": [
    "## Konkretne eksperymenty"
   ]
  },
  {
   "cell_type": "code",
   "execution_count": 46,
   "id": "07493d27-348c-4d34-9183-000ed4f783dd",
   "metadata": {},
   "outputs": [],
   "source": [
    "rand_exp_run_fmt = \"data/experiments/runs/{exp_t}/\"\n",
    "\n",
    "\n",
    "def get_rand_exp_data(exp_t: str) -> dict[str, Any]:\n",
    "    file_paths = {\n",
    "        p\n",
    "        for p in Path(rand_exp_run_fmt.format(exp_t=exp_t)).iterdir()\n",
    "        if p.is_file() and p.parts and p.parts[-1].endswith(\".json\")\n",
    "    }\n",
    "    while True:\n",
    "        f_path = rng.choice(tuple(file_paths))\n",
    "        with f_path.open(\"r\") as f:\n",
    "            run_data = json.load(f)\n",
    "            if \"exception\" in run_data and run_data[\"exception\"]:\n",
    "                file_paths.remove(f_path)\n",
    "                continue\n",
    "            break\n",
    "    with Path(run_data[\"map_path\"]).open(\"r\") as f:\n",
    "        map_data = json.load(f)\n",
    "    with Path(run_data[\"experiment_config_path\"]).open(\"r\") as f:\n",
    "        conf_data = json.load(f)\n",
    "    return {\n",
    "        \"run\": run_data,\n",
    "        \"map\": map_data,\n",
    "        \"conf\": conf_data,\n",
    "    }\n",
    "\n",
    "\n",
    "def plot_exp_data(data: dict[str, Any]) -> pd.Series:\n",
    "    costs = data[\"run\"][\"costs\"]\n",
    "    xs_best = np.array(costs[\"current_best\"])\n",
    "    std = np.array(costs[\"std_dev\"])\n",
    "    xs_mean = np.array(costs[\"mean\"])\n",
    "    xs_mean_low = xs_mean - std\n",
    "    xs_mean_high = xs_mean + std\n",
    "    fig, (ax_best, ax_mean) = plt.subplots(nrows=2)\n",
    "    sns.lineplot(data=xs_best, ax=ax_best, color=\"#0000ff\", marker=\"o\")\n",
    "    sns.lineplot(data=xs_mean, ax=ax_mean, color=\"#ffff00\", marker=\"o\")\n",
    "    sns.lineplot(data=xs_mean_high, ax=ax_mean, color=\"#00ff00\", marker=\"o\")\n",
    "    sns.lineplot(data=xs_mean_low, ax=ax_mean, color=\"#00ff00\", marker=\"o\")\n",
    "    ax_mean.lines[0].set_linestyle(\"--\")\n",
    "    ax_mean.lines[1].set_linestyle(\"--\")\n",
    "    ax_mean.lines[2].set_linestyle(\"--\")\n",
    "    ax_mean.fill_between(\n",
    "        x=np.arange(0, len(xs_mean)), y1=xs_mean_low, y2=xs_mean_high, color=\"#00ff0088\"\n",
    "    )\n",
    "    ax_mean.set_ylabel(\"średni koszt populacji\")\n",
    "    ax_best.set_ylabel(\"najniższy chwilowy koszt\")\n",
    "    plt.suptitle(\"Zależność kosztów od iteracji\")\n",
    "    conf_data = data[\"conf\"]\n",
    "    dist_mx = conf_data[\"dist_mx\"]\n",
    "    fig, ax = plt.subplots()\n",
    "    sns.heatmap(data=np.array(dist_mx), cmap=\"magma\")\n",
    "    plt.title(\"Macierz odległości\")\n",
    "    n = len(dist_mx)\n",
    "    p_map = {\n",
    "        mutator_translation[mutator_name]: p\n",
    "        for mutator_name, p in conf_data[\"mut_ps\"].items()\n",
    "    }\n",
    "    ss = pd.Series(\n",
    "        {\n",
    "            \"rozmiar populacji\": str(len(conf_data[\"population\"])),\n",
    "            \"rozmiar mapy\": f\"{n}x{n}\",\n",
    "            **{f\"prawdopodobieństwo mutacji - {m}\": p for m, p in p_map.items()},\n",
    "            **(\n",
    "                {\n",
    "                    \"prawdopodobieństwo inwersji\": conf_data[\"crossover_kwargs\"][\n",
    "                        \"inversion_p\"\n",
    "                    ]\n",
    "                }\n",
    "                if \"inversion_p\" in conf_data[\"crossover_kwargs\"]\n",
    "                else {}\n",
    "            ),\n",
    "        }\n",
    "    )\n",
    "    return ss"
   ]
  },
  {
   "cell_type": "markdown",
   "id": "48175cc7-38d4-4ea6-b7ec-b8419712bc7c",
   "metadata": {
    "tags": []
   },
   "source": [
    "### TSP"
   ]
  },
  {
   "cell_type": "code",
   "execution_count": 47,
   "id": "7db2cb45-d574-484f-9f17-96fbbcab5042",
   "metadata": {},
   "outputs": [
    {
     "data": {
      "text/html": [
       "<pre style=\"white-space:pre;overflow-x:auto;line-height:normal;font-family:Menlo,'DejaVu Sans Mono',consolas,'Courier New',monospace\">rozmiar populacji                          <span style=\"color: #008080; text-decoration-color: #008080; font-weight: bold\">30</span>\n",
       "rozmiar mapy                            49x49\n",
       "prawdopodobieństwo mutacji - zamiana      <span style=\"color: #008080; text-decoration-color: #008080; font-weight: bold\">0.3</span>\n",
       "dtype: object\n",
       "</pre>\n"
      ],
      "text/plain": [
       "rozmiar populacji                          \u001b[1;36m30\u001b[0m\n",
       "rozmiar mapy                            49x49\n",
       "prawdopodobieństwo mutacji - zamiana      \u001b[1;36m0.3\u001b[0m\n",
       "dtype: object\n"
      ]
     },
     "metadata": {},
     "output_type": "display_data"
    }
   ],
   "source": [
    "data_rnd_tsp = get_rand_exp_data(\"tsp\")\n",
    "ss = plot_exp_data(data_rnd_tsp)\n",
    "rprint(ss)"
   ]
  },
  {
   "cell_type": "markdown",
   "id": "34bca89e-e8fb-411b-ad3b-e002a40b2501",
   "metadata": {},
   "source": [
    "### VRP"
   ]
  },
  {
   "cell_type": "code",
   "execution_count": 48,
   "id": "498f525e-5132-418d-a578-3581dc5072cf",
   "metadata": {},
   "outputs": [
    {
     "data": {
      "text/plain": [
       "rozmiar populacji                          70\n",
       "rozmiar mapy                            25x25\n",
       "prawdopodobieństwo mutacji - zamiana      0.3\n",
       "dtype: object"
      ]
     },
     "execution_count": 48,
     "metadata": {},
     "output_type": "execute_result"
    }
   ],
   "source": [
    "data_rnd_vrp = get_rand_exp_data(\"vrp\")\n",
    "plot_exp_data(data_rnd_vrp)"
   ]
  },
  {
   "cell_type": "markdown",
   "id": "8d4e4ecf-b9a2-46c2-9cdd-ffebda151afb",
   "metadata": {},
   "source": [
    "### VRPP"
   ]
  },
  {
   "cell_type": "code",
   "execution_count": 49,
   "id": "e5eb33bb-d308-4d98-b0cb-3cda1830a6a7",
   "metadata": {},
   "outputs": [
    {
     "data": {
      "text/plain": [
       "rozmiar populacji                           40\n",
       "rozmiar mapy                             36x36\n",
       "prawdopodobieństwo mutacji - zamiana       0.3\n",
       "prawdopodobieństwo mutacji - insercja      0.2\n",
       "prawdopodobieństwo mutacji - delecja       0.2\n",
       "dtype: object"
      ]
     },
     "execution_count": 49,
     "metadata": {},
     "output_type": "execute_result"
    }
   ],
   "source": [
    "data_rnd_vrpp = get_rand_exp_data(\"vrpp\")\n",
    "plot_exp_data(data_rnd_vrpp)"
   ]
  },
  {
   "cell_type": "code",
   "execution_count": null,
   "id": "badaa77a-a9da-41de-8ae7-87f380c38a1c",
   "metadata": {},
   "outputs": [],
   "source": []
  }
 ],
 "metadata": {
  "kernelspec": {
   "display_name": "Python 3 (ipykernel)",
   "language": "python",
   "name": "python3"
  },
  "language_info": {
   "codemirror_mode": {
    "name": "ipython",
    "version": 3
   },
   "file_extension": ".py",
   "mimetype": "text/x-python",
   "name": "python",
   "nbconvert_exporter": "python",
   "pygments_lexer": "ipython3",
   "version": "3.9.9"
  }
 },
 "nbformat": 4,
 "nbformat_minor": 5
}
