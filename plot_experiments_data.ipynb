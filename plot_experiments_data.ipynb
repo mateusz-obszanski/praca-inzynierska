{
 "cells": [
  {
   "cell_type": "code",
   "execution_count": 1,
   "id": "21016447-f0ba-431d-b8b3-868af1246b98",
   "metadata": {},
   "outputs": [],
   "source": [
    "from pathlib import Path\n",
    "import json\n",
    "from math import sqrt\n",
    "from typing import Any, Optional\n",
    "from copy import deepcopy\n",
    "import re\n",
    "\n",
    "import numpy as np\n",
    "import pandas as pd\n",
    "import matplotlib.pyplot as plt\n",
    "import seaborn as sns\n",
    "from rich import print as rprint"
   ]
  },
  {
   "cell_type": "code",
   "execution_count": 2,
   "id": "dc34ea96-18b4-4f62-879d-b34a9d23168f",
   "metadata": {},
   "outputs": [],
   "source": [
    "%matplotlib qt\n",
    "rng = np.random.default_rng()"
   ]
  },
  {
   "cell_type": "code",
   "execution_count": 3,
   "id": "67e1db0d-0df7-4969-9c32-ddb936af4ac0",
   "metadata": {},
   "outputs": [],
   "source": [
    "proc_data_path_fmt = \"data/experiments/analyzed_{exp_t}.json\"\n",
    "data = {}\n",
    "for exp_t in (\"tsp\", \"vrp\", \"vrpp\", \"irp\"):\n",
    "    proc_data_path = Path(proc_data_path_fmt.format(exp_t=exp_t))\n",
    "    if not proc_data_path.exists():\n",
    "        continue\n",
    "    with proc_data_path.open(\"r\") as f:\n",
    "        data[exp_t] = json.load(f)"
   ]
  },
  {
   "cell_type": "code",
   "execution_count": 4,
   "id": "ed6877f7-e35c-4abb-9854-eb37fa45d8fe",
   "metadata": {},
   "outputs": [
    {
     "data": {
      "text/html": [
       "<pre style=\"white-space:pre;overflow-x:auto;line-height:normal;font-family:Menlo,'DejaVu Sans Mono',consolas,'Courier New',monospace\">criteria:\n",
       "        destination_n\n",
       "        pop_size\n",
       "        crossover\n",
       "        map\n",
       "</pre>\n"
      ],
      "text/plain": [
       "criteria:\n",
       "        destination_n\n",
       "        pop_size\n",
       "        crossover\n",
       "        map\n"
      ]
     },
     "metadata": {},
     "output_type": "display_data"
    }
   ],
   "source": [
    "criteria = tuple(data.values())[0].keys()\n",
    "rprint(\"criteria:\\n\\t\" + \"\\n\\t\".join(criteria))"
   ]
  },
  {
   "cell_type": "code",
   "execution_count": 5,
   "id": "6226ac49-cafc-4ab1-896d-05897c0be1ea",
   "metadata": {},
   "outputs": [],
   "source": [
    "criterium_translation = {\n",
    "    \"destination_n\": \"Rozmiar mapy (n x n)\",\n",
    "    \"population_size\": \"Rozmiar populacji\",\n",
    "    \"map\": \"Mapa\",\n",
    "}\n",
    "crossover_translation = {\n",
    "    \"crossover_ndarray\": \"1-punktowy\",\n",
    "    \"crossover_k_loci_ndarray\": \"k-punktowy\",\n",
    "    \"crossover_k_loci_with_inversion_ndarray\": \"k-punktowy z inwersją\",\n",
    "    \"crossover_k_loci_poisson_ndarray\": \"Poisson\",\n",
    "    \"crossover_k_loci_poisson_with_inversion_ndarray\": \"Poisson z inwersją\",\n",
    "}\n",
    "mutator_translation = {\n",
    "    \"mutate_swap\": \"zamienianie\",\n",
    "    \"mutate_del\": \"usuwanie\",\n",
    "    \"mutate_insert\": \"wstawianie\",\n",
    "    \"mutate_change\": \"zmienianie\",\n",
    "}\n",
    "mutator_translation.update((f\"{k}_irp\", v) for k, v in tuple(mutator_translation.items()))"
   ]
  },
  {
   "cell_type": "code",
   "execution_count": 6,
   "id": "2129cfe9-ce1d-4dca-a70b-45869132b3b7",
   "metadata": {},
   "outputs": [],
   "source": [
    "# def plot_exp_stats(exp_t: str, criterium: \"str\", title: str):\n",
    "#     criterium_data = pd.DataFrame(\n",
    "#         {\n",
    "#             int(sqrt(int(dest_n))): deepcopy(vals)\n",
    "#             for dest_n, vals in data[exp_t][criterium].items()\n",
    "#         }\n",
    "#     ).T.sort_index()\n",
    "#     # to %\n",
    "#     criterium_data[\"mean_cost_improvement\"] = [\n",
    "#         100 * x for x in criterium_data[\"mean_cost_improvement\"]\n",
    "#     ]\n",
    "\n",
    "#     fig, (ax_t, ax_impr, ax_i) = plt.subplots(nrows=3, sharex=True)\n",
    "#     for ax, (k, k_tr) in zip([ax_t, ax_impr, ax_i], key_translation.items()):\n",
    "#         sns.lineplot(data=criterium_data[k], ax=ax, marker=\"o\")\n",
    "#         ax.set_ylabel(k_tr)\n",
    "#         ax.grid()\n",
    "#     plt.suptitle(title)\n",
    "\n",
    "\n",
    "# def plot_crossovers(exp_t: str) -> pd.DataFrame:\n",
    "#     data_cross = deepcopy(data[exp_t][\"by_crossover\"])\n",
    "#     # to %\n",
    "#     for cr in data_cross:\n",
    "#         data_cross[cr][\"mean_cost_improvement\"] = (\n",
    "#             100 * data_cross[cr][\"mean_cost_improvement\"]\n",
    "#         )\n",
    "#     df = pd.DataFrame(data_cross)\n",
    "#     fig, (ax_t, ax_impr, ax_i) = plt.subplots(nrows=3, sharex=True)\n",
    "#     axs = (ax_t, ax_impr, ax_i)\n",
    "#     xs = list(data_cross.keys())\n",
    "#     for ax, k in zip(axs, (\"mean_exec_t\", \"mean_cost_improvement\", \"mean_iters\")):\n",
    "#         ys = [data_cross[cr][k] for cr in xs]\n",
    "#         sns.barplot(x=[crossover_translation[x] for x in xs], y=ys, ax=ax)\n",
    "#         ax.set_ylabel(key_translation[k])\n",
    "#     plt.suptitle(\"Operatory krzyżowania\")\n",
    "#     return df\n",
    "\n",
    "\n",
    "# def latexify_crossover_results(df: pd.DataFrame) -> str:\n",
    "#     ptn = re.compile(r\" +\")\n",
    "#     return ptn.sub(\n",
    "#         \" \",\n",
    "#         pd.DataFrame(\n",
    "#             {\n",
    "#                 crossover_translation[c]: {\n",
    "#                     key_translation[k]: f\"{v:.2f}\" for k, v in cv.items()\n",
    "#                 }\n",
    "#                 for c, cv in df.to_dict().items()\n",
    "#             }\n",
    "#         ).T.to_latex(),\n",
    "#     )"
   ]
  },
  {
   "cell_type": "code",
   "execution_count": 7,
   "id": "e3180c32-2213-4753-b980-a8c9f8c61d66",
   "metadata": {},
   "outputs": [],
   "source": [
    "def plot_exp_stats(exp_t: str, criterium: \"str\", xlabel: str, title: Optional[str] = None):\n",
    "    criterium_data = pd.DataFrame(\n",
    "        {\n",
    "            int(sqrt(int(dest_n))): deepcopy(vals)\n",
    "            for dest_n, vals in data[exp_t][criterium].items()\n",
    "        }\n",
    "    ).T.sort_index()\n",
    "    # to %\n",
    "    criterium_data.cost_improvement = pd.Series(\n",
    "        data=[{k: 100*v for k, v in d.items()} for d in criterium_data.cost_improvement],\n",
    "        index=criterium_data.cost_improvement.index\n",
    "    )\n",
    "    \n",
    "    fig, (ax_t, ax_impr, ax_i) = plt.subplots(nrows=3, sharex=True)\n",
    "    # t - time\n",
    "    # theta - cost improvement\n",
    "    # i - no. of iterations\n",
    "    symbol_map = {\n",
    "        \"exec_t\": r\"$\\overline{t}$\",\n",
    "        \"cost_improvement\": r\"$\\overline{\\theta}$\",\n",
    "        \"iters\": r\"$\\overline{i}$\",\n",
    "    }\n",
    "    for ax, (k, symbol) in zip([ax_t, ax_impr, ax_i], symbol_map.items()):\n",
    "        d_as_dict = criterium_data[k].to_dict()\n",
    "        xs = list(d_as_dict.keys())\n",
    "        # FIXME quickfix\n",
    "        squares = xlabel == r\"$n^2$\"\n",
    "        if squares:\n",
    "            xs = [x**2 for x in xs]\n",
    "        means = np.array([x[\"mean\"] for x in d_as_dict.values()])\n",
    "        stddevs = np.array([x[\"stddev\"] for x in d_as_dict.values()])\n",
    "        high = means + stddevs\n",
    "        low = means - stddevs\n",
    "        sns.lineplot(x=xs, y=means, ax=ax, marker=\"o\", color=\"#0000ff\", label=r\"$\\mu$\", linestyle=\"dashed\")\n",
    "        sns.lineplot(x=xs, y=high, ax=ax, marker=\"o\", color=\"#ff8800\", label=r\"$\\mu \\pm \\sigma$\", linestyle=\"dashed\")\n",
    "        sns.lineplot(x=xs, y=low, ax=ax, marker=\"o\", color=\"#ff8800\", linestyle=\"dashed\")\n",
    "        ax.fill_between(x=xs, y1=low, y2=high, color=\"#ff880088\")\n",
    "        h = ax.set_ylabel(symbol)\n",
    "        h.set_rotation(0)\n",
    "        ax.grid()\n",
    "        ax.set_xlabel(xlabel)\n",
    "        if squares:\n",
    "            ax.set_xticks(xs)\n",
    "    if title is not None:\n",
    "        plt.suptitle(title)\n",
    "\n",
    "\n",
    "def plot_crossovers(exp_t: str) -> pd.DataFrame:\n",
    "    data_cross = deepcopy(data[exp_t][\"crossover\"])\n",
    "    # to %\n",
    "    for cr in data_cross:\n",
    "        data_cross[cr][\"cost_improvement\"] = {\n",
    "            k: 100 * v for k, v in data_cross[cr][\"cost_improvement\"].items()\n",
    "        }\n",
    "    df = pd.DataFrame(data_cross)\n",
    "    fig, (ax_t, ax_impr, ax_i) = plt.subplots(nrows=3, sharex=True)\n",
    "    axs = (ax_t, ax_impr, ax_i)\n",
    "    xs = list(data_cross.keys())\n",
    "    rprint(f\"{xs = }\")\n",
    "    symbol_map = {\n",
    "        \"exec_t\": r\"$\\overline{t}$\",\n",
    "        \"cost_improvement\": r\"$\\overline{\\theta}$\",\n",
    "        \"iters\": r\"$\\overline{i}$\",\n",
    "    }\n",
    "    for ax, k in zip(axs, (\"exec_t\", \"cost_improvement\", \"iters\")):\n",
    "        means = [data_cross[cr][k][\"mean\"] for cr in xs]\n",
    "        stddevs = [data_cross[cr][k][\"stddev\"] for cr in xs]\n",
    "        # sns.barplot(x=[crossover_translation[x] for x in xs], y=ys, ax=ax, ci=\"sd\")\n",
    "        ax.bar(np.arange(len(xs)), means, yerr=stddevs ,capsize=10)\n",
    "        ax.set_xticklabels([\"\", *(crossover_translation[c] for c in xs)])\n",
    "        ax.grid()\n",
    "        h = ax.set_ylabel(symbol_map[k])\n",
    "        h.set_rotation(0)\n",
    "    plt.suptitle(\"Operatory krzyżowania\")\n",
    "    return df\n",
    "\n",
    "\n",
    "def latexify_crossover_results(df: pd.DataFrame) -> str:\n",
    "    ptn = re.compile(r\" +\")\n",
    "    return ptn.sub(\n",
    "        \" \",\n",
    "        pd.DataFrame(\n",
    "            {\n",
    "                crossover_translation[c]: {\n",
    "                    key_translation[k]: f\"{v:.2f}\" for k, v in cv.items()\n",
    "                }\n",
    "                for c, cv in df.to_dict().items()\n",
    "            }\n",
    "        ).T.to_latex(),\n",
    "    )"
   ]
  },
  {
   "cell_type": "markdown",
   "id": "c559e18c-5753-4d43-aa86-08b0abb3f194",
   "metadata": {},
   "source": [
    "## Ogólne statystyki"
   ]
  },
  {
   "cell_type": "markdown",
   "id": "767c5e19-7ef7-473f-be16-fcb819a8ef62",
   "metadata": {
    "tags": []
   },
   "source": [
    "### TSP"
   ]
  },
  {
   "cell_type": "code",
   "execution_count": 8,
   "id": "3296a562-6ab7-48cb-b808-893ab67794b3",
   "metadata": {},
   "outputs": [],
   "source": [
    "plot_exp_stats(\"tsp\", \"destination_n\", xlabel=r\"$n^2$\", title=\"Rozmiar mapy\")"
   ]
  },
  {
   "cell_type": "code",
   "execution_count": 9,
   "id": "36add600-e95c-4fe8-87b4-6bd722c239ac",
   "metadata": {},
   "outputs": [],
   "source": [
    "plot_exp_stats(\"tsp\", \"pop_size\", xlabel=\"$p$\", title=\"Rozmiar populacji\")"
   ]
  },
  {
   "cell_type": "code",
   "execution_count": 10,
   "id": "9d6a765f-2a37-4a81-887d-1a188471ad8b",
   "metadata": {},
   "outputs": [
    {
     "data": {
      "text/html": [
       "<pre style=\"white-space:pre;overflow-x:auto;line-height:normal;font-family:Menlo,'DejaVu Sans Mono',consolas,'Courier New',monospace\">xs = <span style=\"font-weight: bold\">[</span><span style=\"color: #008000; text-decoration-color: #008000\">'crossover_ndarray'</span>, <span style=\"color: #008000; text-decoration-color: #008000\">'crossover_k_loci_poisson_ndarray'</span>, \n",
       "<span style=\"color: #008000; text-decoration-color: #008000\">'crossover_k_loci_with_inversion_ndarray'</span>, <span style=\"color: #008000; text-decoration-color: #008000\">'crossover_k_loci_ndarray'</span>, \n",
       "<span style=\"color: #008000; text-decoration-color: #008000\">'crossover_k_loci_poisson_with_inversion_ndarray'</span><span style=\"font-weight: bold\">]</span>\n",
       "</pre>\n"
      ],
      "text/plain": [
       "xs = \u001b[1m[\u001b[0m\u001b[32m'crossover_ndarray'\u001b[0m, \u001b[32m'crossover_k_loci_poisson_ndarray'\u001b[0m, \n",
       "\u001b[32m'crossover_k_loci_with_inversion_ndarray'\u001b[0m, \u001b[32m'crossover_k_loci_ndarray'\u001b[0m, \n",
       "\u001b[32m'crossover_k_loci_poisson_with_inversion_ndarray'\u001b[0m\u001b[1m]\u001b[0m\n"
      ]
     },
     "metadata": {},
     "output_type": "display_data"
    },
    {
     "name": "stderr",
     "output_type": "stream",
     "text": [
      "C:\\Users\\obszansk\\AppData\\Local\\Temp/ipykernel_2668/4156469462.py:70: UserWarning: FixedFormatter should only be used together with FixedLocator\n",
      "  ax.set_xticklabels([\"\", *(crossover_translation[c] for c in xs)])\n"
     ]
    }
   ],
   "source": [
    "df_tsp = plot_crossovers(\"tsp\")\n",
    "# print(latexify_crossover_results(df_tsp))"
   ]
  },
  {
   "cell_type": "markdown",
   "id": "4c06bf64-3592-4ba3-9819-a4eb41a774ef",
   "metadata": {},
   "source": [
    "### VRP"
   ]
  },
  {
   "cell_type": "code",
   "execution_count": 11,
   "id": "e130620e-d027-453a-959d-7f211a77cc6a",
   "metadata": {},
   "outputs": [],
   "source": [
    "plot_exp_stats(\"vrp\", \"destination_n\", xlabel=r\"$n^2$\", title=\"Rozmiar mapy\")"
   ]
  },
  {
   "cell_type": "code",
   "execution_count": 12,
   "id": "6cb1fd7d-5b81-4a43-a28d-460dd004ed7a",
   "metadata": {},
   "outputs": [],
   "source": [
    "plot_exp_stats(\"vrp\", \"pop_size\", xlabel=\"$p$\", title=\"Rozmiar populacji\")"
   ]
  },
  {
   "cell_type": "code",
   "execution_count": 13,
   "id": "c95b0b82-7cf4-440c-be31-f15eca64fe60",
   "metadata": {},
   "outputs": [
    {
     "data": {
      "text/html": [
       "<pre style=\"white-space:pre;overflow-x:auto;line-height:normal;font-family:Menlo,'DejaVu Sans Mono',consolas,'Courier New',monospace\">xs = <span style=\"font-weight: bold\">[</span><span style=\"color: #008000; text-decoration-color: #008000\">'crossover_k_loci_ndarray'</span>, <span style=\"color: #008000; text-decoration-color: #008000\">'crossover_k_loci_with_inversion_ndarray'</span>, \n",
       "<span style=\"color: #008000; text-decoration-color: #008000\">'crossover_k_loci_poisson_ndarray'</span>, <span style=\"color: #008000; text-decoration-color: #008000\">'crossover_k_loci_poisson_with_inversion_ndarray'</span>, \n",
       "<span style=\"color: #008000; text-decoration-color: #008000\">'crossover_ndarray'</span><span style=\"font-weight: bold\">]</span>\n",
       "</pre>\n"
      ],
      "text/plain": [
       "xs = \u001b[1m[\u001b[0m\u001b[32m'crossover_k_loci_ndarray'\u001b[0m, \u001b[32m'crossover_k_loci_with_inversion_ndarray'\u001b[0m, \n",
       "\u001b[32m'crossover_k_loci_poisson_ndarray'\u001b[0m, \u001b[32m'crossover_k_loci_poisson_with_inversion_ndarray'\u001b[0m, \n",
       "\u001b[32m'crossover_ndarray'\u001b[0m\u001b[1m]\u001b[0m\n"
      ]
     },
     "metadata": {},
     "output_type": "display_data"
    },
    {
     "name": "stderr",
     "output_type": "stream",
     "text": [
      "C:\\Users\\obszansk\\AppData\\Local\\Temp/ipykernel_2668/4156469462.py:70: UserWarning: FixedFormatter should only be used together with FixedLocator\n",
      "  ax.set_xticklabels([\"\", *(crossover_translation[c] for c in xs)])\n"
     ]
    }
   ],
   "source": [
    "df_vrp = plot_crossovers(\"vrp\")\n",
    "# print(latexify_crossover_results(df_vrp))"
   ]
  },
  {
   "cell_type": "markdown",
   "id": "e74ef716-6ee3-45d2-adc4-7d7172e1f4c7",
   "metadata": {},
   "source": [
    "### VRPP"
   ]
  },
  {
   "cell_type": "code",
   "execution_count": 14,
   "id": "10f955c2-7d0a-4c7d-97d7-f60077e1be61",
   "metadata": {},
   "outputs": [],
   "source": [
    "plot_exp_stats(\"vrpp\", \"destination_n\", xlabel=r\"$n^2$\", title=\"Rozmiar mapy\")"
   ]
  },
  {
   "cell_type": "code",
   "execution_count": 15,
   "id": "b6036a2e-f21a-4d10-abb7-806852880278",
   "metadata": {},
   "outputs": [],
   "source": [
    "plot_exp_stats(\"vrpp\", \"pop_size\", xlabel=\"$p$\", title=\"Rozmiar populacji\")"
   ]
  },
  {
   "cell_type": "code",
   "execution_count": 16,
   "id": "52095d66-cb95-4695-82d2-dbea3928570e",
   "metadata": {},
   "outputs": [
    {
     "data": {
      "text/html": [
       "<pre style=\"white-space:pre;overflow-x:auto;line-height:normal;font-family:Menlo,'DejaVu Sans Mono',consolas,'Courier New',monospace\">xs = <span style=\"font-weight: bold\">[</span><span style=\"color: #008000; text-decoration-color: #008000\">'crossover_ndarray'</span>, <span style=\"color: #008000; text-decoration-color: #008000\">'crossover_k_loci_ndarray'</span>, <span style=\"color: #008000; text-decoration-color: #008000\">'crossover_k_loci_poisson_ndarray'</span>, \n",
       "<span style=\"color: #008000; text-decoration-color: #008000\">'crossover_k_loci_with_inversion_ndarray'</span>, <span style=\"color: #008000; text-decoration-color: #008000\">'crossover_k_loci_poisson_with_inversion_ndarray'</span><span style=\"font-weight: bold\">]</span>\n",
       "</pre>\n"
      ],
      "text/plain": [
       "xs = \u001b[1m[\u001b[0m\u001b[32m'crossover_ndarray'\u001b[0m, \u001b[32m'crossover_k_loci_ndarray'\u001b[0m, \u001b[32m'crossover_k_loci_poisson_ndarray'\u001b[0m, \n",
       "\u001b[32m'crossover_k_loci_with_inversion_ndarray'\u001b[0m, \u001b[32m'crossover_k_loci_poisson_with_inversion_ndarray'\u001b[0m\u001b[1m]\u001b[0m\n"
      ]
     },
     "metadata": {},
     "output_type": "display_data"
    },
    {
     "name": "stderr",
     "output_type": "stream",
     "text": [
      "C:\\Users\\obszansk\\AppData\\Local\\Temp/ipykernel_2668/4156469462.py:70: UserWarning: FixedFormatter should only be used together with FixedLocator\n",
      "  ax.set_xticklabels([\"\", *(crossover_translation[c] for c in xs)])\n"
     ]
    }
   ],
   "source": [
    "df_vrpp = plot_crossovers(\"vrpp\")\n",
    "# print(latexify_crossover_results(df_vrpp))"
   ]
  },
  {
   "cell_type": "markdown",
   "id": "2d5b6264-44e9-421b-8c57-c1ead30aab7e",
   "metadata": {},
   "source": [
    "### IRP"
   ]
  },
  {
   "cell_type": "code",
   "execution_count": 17,
   "id": "de12c03a-ac9c-48c1-90c9-6cb7ce414b39",
   "metadata": {},
   "outputs": [],
   "source": [
    "plot_exp_stats(\"irp\", \"destination_n\", xlabel=r\"$n^2$\", title=\"Rozmiar mapy\")"
   ]
  },
  {
   "cell_type": "code",
   "execution_count": 18,
   "id": "db288fc3-9db5-481b-929a-53a49f23d6d5",
   "metadata": {},
   "outputs": [],
   "source": [
    "plot_exp_stats(\"irp\", \"pop_size\", xlabel=\"$p$\", title=\"Rozmiar populacji\")"
   ]
  },
  {
   "cell_type": "code",
   "execution_count": 19,
   "id": "43179a28-766a-44cd-b945-4f2f62cd519b",
   "metadata": {},
   "outputs": [
    {
     "data": {
      "text/html": [
       "<pre style=\"white-space:pre;overflow-x:auto;line-height:normal;font-family:Menlo,'DejaVu Sans Mono',consolas,'Courier New',monospace\">xs = <span style=\"font-weight: bold\">[</span><span style=\"color: #008000; text-decoration-color: #008000\">'crossover_k_loci_poisson_with_inversion_ndarray'</span>, <span style=\"color: #008000; text-decoration-color: #008000\">'crossover_k_loci_poisson_ndarray'</span>, \n",
       "<span style=\"color: #008000; text-decoration-color: #008000\">'crossover_ndarray'</span>, <span style=\"color: #008000; text-decoration-color: #008000\">'crossover_k_loci_with_inversion_ndarray'</span>, <span style=\"color: #008000; text-decoration-color: #008000\">'crossover_k_loci_ndarray'</span><span style=\"font-weight: bold\">]</span>\n",
       "</pre>\n"
      ],
      "text/plain": [
       "xs = \u001b[1m[\u001b[0m\u001b[32m'crossover_k_loci_poisson_with_inversion_ndarray'\u001b[0m, \u001b[32m'crossover_k_loci_poisson_ndarray'\u001b[0m, \n",
       "\u001b[32m'crossover_ndarray'\u001b[0m, \u001b[32m'crossover_k_loci_with_inversion_ndarray'\u001b[0m, \u001b[32m'crossover_k_loci_ndarray'\u001b[0m\u001b[1m]\u001b[0m\n"
      ]
     },
     "metadata": {},
     "output_type": "display_data"
    },
    {
     "name": "stderr",
     "output_type": "stream",
     "text": [
      "C:\\Users\\obszansk\\AppData\\Local\\Temp/ipykernel_2668/4156469462.py:70: UserWarning: FixedFormatter should only be used together with FixedLocator\n",
      "  ax.set_xticklabels([\"\", *(crossover_translation[c] for c in xs)])\n"
     ]
    }
   ],
   "source": [
    "df_irp = plot_crossovers(\"irp\")"
   ]
  },
  {
   "cell_type": "markdown",
   "id": "3e214080-0d45-40b8-b34e-c51bda65d6e8",
   "metadata": {},
   "source": [
    "## Konkretne eksperymenty"
   ]
  },
  {
   "cell_type": "code",
   "execution_count": 28,
   "id": "07493d27-348c-4d34-9183-000ed4f783dd",
   "metadata": {},
   "outputs": [],
   "source": [
    "rand_exp_run_fmt = \"data/experiments/runs/{exp_t}/\"\n",
    "\n",
    "\n",
    "def get_rand_exp_data(exp_t: str) -> dict[str, Any]:\n",
    "    file_paths = {\n",
    "        p\n",
    "        for p in Path(rand_exp_run_fmt.format(exp_t=exp_t)).iterdir()\n",
    "        if p.is_file() and p.parts and p.parts[-1].endswith(\".json\")\n",
    "    }\n",
    "    while True:\n",
    "        f_path = rng.choice(tuple(file_paths))\n",
    "        with f_path.open(\"r\") as f:\n",
    "            run_data = json.load(f)\n",
    "            if \"exception\" in run_data and run_data[\"exception\"]:\n",
    "                file_paths.remove(f_path)\n",
    "                continue\n",
    "            break\n",
    "    with Path(run_data[\"map_path\"]).open(\"r\") as f:\n",
    "        map_data = json.load(f)\n",
    "    with Path(run_data[\"experiment_config_path\"]).open(\"r\") as f:\n",
    "        conf_data = json.load(f)\n",
    "    return {\n",
    "        \"run\": run_data,\n",
    "        \"map\": map_data,\n",
    "        \"conf\": conf_data,\n",
    "    }\n",
    "\n",
    "\n",
    "def plot_exp_data(data: dict[str, Any]) -> pd.Series:\n",
    "    costs = data[\"run\"][\"costs\"]\n",
    "    xs_best = np.array(costs[\"current_best\"])\n",
    "    std = np.array(costs[\"std_dev\"])\n",
    "    xs_mean = np.array(costs[\"mean\"])\n",
    "    xs_mean_low = xs_mean - std\n",
    "    xs_mean_high = xs_mean + std\n",
    "    fig, (ax_best, ax_mean) = plt.subplots(nrows=2)\n",
    "    sns.lineplot(data=xs_best, ax=ax_best, color=\"#0000ff\", marker=\"o\")\n",
    "    sns.lineplot(data=xs_mean, ax=ax_mean, color=\"#ffff00\", marker=\"o\", label=r\"$\\mu$\")\n",
    "    sns.lineplot(\n",
    "        data=xs_mean_high,\n",
    "        ax=ax_mean,\n",
    "        color=\"#00ff00\",\n",
    "        marker=\"o\",\n",
    "        label=r\"$\\mu \\pm \\sigma$\",\n",
    "    )\n",
    "    sns.lineplot(data=xs_mean_low, ax=ax_mean, color=\"#00ff00\", marker=\"o\")\n",
    "    ax_mean.lines[0].set_linestyle(\"--\")\n",
    "    ax_mean.lines[1].set_linestyle(\"--\")\n",
    "    ax_mean.lines[2].set_linestyle(\"--\")\n",
    "    ax_mean.fill_between(\n",
    "        x=np.arange(0, len(xs_mean)), y1=xs_mean_low, y2=xs_mean_high, color=\"#00ff0088\"\n",
    "    )\n",
    "    # fi bar - mean cost in population\n",
    "    # fi underbar - lowest cost in population at given iteration\n",
    "    h1 = ax_mean.set_ylabel(r\"$\\overline{\\phi}$\")\n",
    "    h2 = ax_best.set_ylabel(r\"$\\phi_{min}$\")\n",
    "    h1.set_rotation(0)\n",
    "    h2.set_rotation(0)\n",
    "    plt.suptitle(\"Zależność kosztów od iteracji\")\n",
    "    conf_data = data[\"conf\"]\n",
    "    dist_mx = conf_data[\"dist_mx\"]\n",
    "    fig, ax = plt.subplots()\n",
    "    sns.heatmap(data=np.array(dist_mx), cmap=\"magma\")\n",
    "    plt.title(\"Macierz odległości\")\n",
    "    n = len(dist_mx)\n",
    "    p_map = {\n",
    "        mutator_translation[mutator_name]: p\n",
    "        for mutator_name, p in conf_data[\"mut_ps\"].items()\n",
    "    }\n",
    "    ss = pd.Series(\n",
    "        {\n",
    "            \"rozmiar populacji\": str(len(conf_data[\"population\"])),\n",
    "            \"rozmiar mapy\": f\"{n}x{n}\",\n",
    "            **{f\"prawdopodobieństwo mutacji - {m}\": p for m, p in p_map.items()},\n",
    "            **(\n",
    "                {\n",
    "                    \"prawdopodobieństwo inwersji\": conf_data[\"crossover_kwargs\"][\n",
    "                        \"inversion_p\"\n",
    "                    ]\n",
    "                }\n",
    "                if \"inversion_p\" in conf_data[\"crossover_kwargs\"]\n",
    "                else {}\n",
    "            ),\n",
    "        }\n",
    "    )\n",
    "    return ss"
   ]
  },
  {
   "cell_type": "markdown",
   "id": "48175cc7-38d4-4ea6-b7ec-b8419712bc7c",
   "metadata": {
    "tags": []
   },
   "source": [
    "### TSP"
   ]
  },
  {
   "cell_type": "code",
   "execution_count": 40,
   "id": "7db2cb45-d574-484f-9f17-96fbbcab5042",
   "metadata": {},
   "outputs": [
    {
     "data": {
      "text/html": [
       "<pre style=\"white-space:pre;overflow-x:auto;line-height:normal;font-family:Menlo,'DejaVu Sans Mono',consolas,'Courier New',monospace\">rozmiar populacji                          <span style=\"color: #008080; text-decoration-color: #008080; font-weight: bold\">20</span>\n",
       "rozmiar mapy                            81x81\n",
       "prawdopodobieństwo mutacji - zamiana      <span style=\"color: #008080; text-decoration-color: #008080; font-weight: bold\">0.2</span>\n",
       "dtype: object\n",
       "</pre>\n"
      ],
      "text/plain": [
       "rozmiar populacji                          \u001b[1;36m20\u001b[0m\n",
       "rozmiar mapy                            81x81\n",
       "prawdopodobieństwo mutacji - zamiana      \u001b[1;36m0.2\u001b[0m\n",
       "dtype: object\n"
      ]
     },
     "metadata": {},
     "output_type": "display_data"
    }
   ],
   "source": [
    "data_rnd_tsp = get_rand_exp_data(\"tsp\")\n",
    "ss = plot_exp_data(data_rnd_tsp)\n",
    "rprint(ss)"
   ]
  },
  {
   "cell_type": "markdown",
   "id": "34bca89e-e8fb-411b-ad3b-e002a40b2501",
   "metadata": {},
   "source": [
    "### VRP"
   ]
  },
  {
   "cell_type": "code",
   "execution_count": 94,
   "id": "498f525e-5132-418d-a578-3581dc5072cf",
   "metadata": {},
   "outputs": [
    {
     "data": {
      "text/plain": [
       "rozmiar populacji                          80\n",
       "rozmiar mapy                            49x49\n",
       "prawdopodobieństwo mutacji - zamiana      0.3\n",
       "prawdopodobieństwo inwersji               0.1\n",
       "dtype: object"
      ]
     },
     "execution_count": 94,
     "metadata": {},
     "output_type": "execute_result"
    }
   ],
   "source": [
    "data_rnd_vrp = get_rand_exp_data(\"vrp\")\n",
    "plot_exp_data(data_rnd_vrp)"
   ]
  },
  {
   "cell_type": "markdown",
   "id": "8d4e4ecf-b9a2-46c2-9cdd-ffebda151afb",
   "metadata": {},
   "source": [
    "### VRPP"
   ]
  },
  {
   "cell_type": "code",
   "execution_count": 93,
   "id": "e5eb33bb-d308-4d98-b0cb-3cda1830a6a7",
   "metadata": {},
   "outputs": [
    {
     "data": {
      "text/plain": [
       "rozmiar populacji                          100\n",
       "rozmiar mapy                             25x25\n",
       "prawdopodobieństwo mutacji - zamiana       0.3\n",
       "prawdopodobieństwo mutacji - insercja      0.2\n",
       "prawdopodobieństwo mutacji - delecja       0.3\n",
       "prawdopodobieństwo inwersji                0.2\n",
       "dtype: object"
      ]
     },
     "execution_count": 93,
     "metadata": {},
     "output_type": "execute_result"
    }
   ],
   "source": [
    "data_rnd_vrpp = get_rand_exp_data(\"vrpp\")\n",
    "plot_exp_data(data_rnd_vrpp)"
   ]
  },
  {
   "cell_type": "code",
   "execution_count": 45,
   "id": "badaa77a-a9da-41de-8ae7-87f380c38a1c",
   "metadata": {},
   "outputs": [
    {
     "data": {
      "text/plain": [
       "rozmiar populacji                            10\n",
       "rozmiar mapy                                9x9\n",
       "prawdopodobieństwo mutacji - zamienianie    0.2\n",
       "prawdopodobieństwo mutacji - wstawianie     0.1\n",
       "prawdopodobieństwo mutacji - usuwanie       0.2\n",
       "dtype: object"
      ]
     },
     "execution_count": 45,
     "metadata": {},
     "output_type": "execute_result"
    }
   ],
   "source": [
    "data_rnd_irp = get_rand_exp_data(\"irp\")\n",
    "plot_exp_data(data_rnd_irp)"
   ]
  },
  {
   "cell_type": "code",
   "execution_count": null,
   "id": "46003d19-31be-4403-9f86-788464bceeeb",
   "metadata": {},
   "outputs": [],
   "source": []
  }
 ],
 "metadata": {
  "kernelspec": {
   "display_name": "Python 3 (ipykernel)",
   "language": "python",
   "name": "python3"
  },
  "language_info": {
   "codemirror_mode": {
    "name": "ipython",
    "version": 3
   },
   "file_extension": ".py",
   "mimetype": "text/x-python",
   "name": "python",
   "nbconvert_exporter": "python",
   "pygments_lexer": "ipython3",
   "version": "3.9.9"
  }
 },
 "nbformat": 4,
 "nbformat_minor": 5
}
