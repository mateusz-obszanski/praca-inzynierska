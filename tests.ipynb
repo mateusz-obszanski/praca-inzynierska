{
 "cells": [
  {
   "cell_type": "code",
   "execution_count": 1,
   "id": "23ea37dc-bcf3-4b79-8b6c-cf18985b96b9",
   "metadata": {},
   "outputs": [],
   "source": [
    "import numpy as np\n",
    "import seaborn as sns\n",
    "import matplotlib.pyplot as plt\n",
    "import more_itertools as mit"
   ]
  },
  {
   "cell_type": "code",
   "execution_count": 2,
   "id": "d7705db0-3d4e-42bf-a61a-9a89fbc923a3",
   "metadata": {},
   "outputs": [],
   "source": [
    "from libs.solution.initial_solution_creators.heuristic import *\n",
    "from libs.solution.initial_solution_creators.random import *\n",
    "from libs.utils.matrix import extend_cost_mx\n",
    "from libs.optimizers.algorithms.genetic.operators.fixers import *\n",
    "from libs.optimizers.algorithms.genetic.operators.mutations import *\n",
    "from libs.optimizers.algorithms.genetic.operators.crossovers import *\n",
    "from libs.environment.cost_calculators import *\n",
    "from libs.optimizers.algorithms.genetic.population.parent_selectors import *\n",
    "from libs.optimizers.algorithms.genetic.population.natural_selection import *"
   ]
  },
  {
   "cell_type": "code",
   "execution_count": 3,
   "id": "adb82006-3821-4e41-b518-c7922b2f9b86",
   "metadata": {},
   "outputs": [],
   "source": [
    "rng = np.random.default_rng()\n",
    "initial_vx = 0\n",
    "forbidden_val = -1\n",
    "salesman_n = 3\n",
    "vehicle_volume = 10\n",
    "fix_max_add_iters = 100\n",
    "fix_max_retries = 1\n",
    "forbidding_p = 0.15\n",
    "default_quantity = 0.1"
   ]
  },
  {
   "cell_type": "code",
   "execution_count": 4,
   "id": "dc58a4d8-a3ad-45fe-ba33-6bc4f7ac9e85",
   "metadata": {},
   "outputs": [
    {
     "data": {
      "text/plain": [
       "<AxesSubplot:>"
      ]
     },
     "execution_count": 4,
     "metadata": {},
     "output_type": "execute_result"
    },
    {
     "data": {
      "image/png": "[encoded data removed]",
      "text/plain": [
       "<Figure size 432x288 with 2 Axes>"
      ]
     },
     "metadata": {
      "needs_background": "light"
     },
     "output_type": "display_data"
    }
   ],
   "source": [
    "N = 10\n",
    "dist_mx = rng.integers(1, 10, size=(N, N))\n",
    "np.fill_diagonal(dist_mx, forbidden_val)\n",
    "sns.heatmap(dist_mx)"
   ]
  },
  {
   "cell_type": "code",
   "execution_count": 5,
   "id": "d372b1d2-3804-46e4-b57a-c0ce99777178",
   "metadata": {},
   "outputs": [
    {
     "data": {
      "text/plain": [
       "<AxesSubplot:>"
      ]
     },
     "execution_count": 5,
     "metadata": {},
     "output_type": "execute_result"
    },
    {
     "data": {
      "image/png": "[encoded data removed]",
      "text/plain": [
       "<Figure size 432x288 with 2 Axes>"
      ]
     },
     "metadata": {
      "needs_background": "light"
     },
     "output_type": "display_data"
    }
   ],
   "source": [
    "ext_dist_mx = extend_cost_mx(dist_mx, copy_n=salesman_n - 1, to_copy_ix=0)\n",
    "ini_and_dummy_vxs = {initial_vx, *range(salesman_n)}\n",
    "sns.heatmap(ext_dist_mx)"
   ]
  },
  {
   "cell_type": "markdown",
   "id": "e8f7709e-7df5-4b29-8810-e59bbb56fe56",
   "metadata": {},
   "source": [
    "## Solution generators"
   ]
  },
  {
   "cell_type": "code",
   "execution_count": 6,
   "id": "459afc37-f0c4-4d35-bb94-684a9ac2a60f",
   "metadata": {},
   "outputs": [
    {
     "data": {
      "text/plain": [
       "([0, 9, 3, 7, 1, 8, 4, 5, 2, 6, 0], True)"
      ]
     },
     "execution_count": 6,
     "metadata": {},
     "output_type": "execute_result"
    }
   ],
   "source": [
    "sol_tsp_r, rng = create_tsp_sol_rand(dist_mx, initial_vx, rng)\n",
    "sol_tsp_r, check_chromosome_tsp(sol_tsp_r, dist_mx, initial_vx, forbidden_val)"
   ]
  },
  {
   "cell_type": "code",
   "execution_count": 7,
   "id": "ba728bb1-388e-42c4-826c-e49ac4e91b8f",
   "metadata": {},
   "outputs": [
    {
     "data": {
      "text/plain": [
       "([0, 1, 4, 7, 8, 6, 3, 5, 2, 9, 0], True)"
      ]
     },
     "execution_count": 7,
     "metadata": {},
     "output_type": "execute_result"
    }
   ],
   "source": [
    "sol_tsp_h = create_tsp_sol_nn(dist_mx, initial_vx, forbidden_val)\n",
    "sol_tsp_h, check_chromosome_tsp(sol_tsp_h, dist_mx, initial_vx, forbidden_val)"
   ]
  },
  {
   "cell_type": "code",
   "execution_count": 8,
   "id": "8ac93455-4f21-4155-b154-947f7139575f",
   "metadata": {},
   "outputs": [
    {
     "data": {
      "text/plain": [
       "([0, 8, 6, 9, 1, 3, 7, 10, 2, 5, 4, 11, 0], True)"
      ]
     },
     "execution_count": 8,
     "metadata": {},
     "output_type": "execute_result"
    }
   ],
   "source": [
    "sol_vrp_r, rng = create_vrp_sol_rand(\n",
    "    ext_dist_mx, initial_vx, rng, ini_and_dummy_vxs, regular_vx_division=True\n",
    ")\n",
    "sol_vrp_r, check_chromosome_tsp(sol_vrp_r, ext_dist_mx, initial_vx, forbidden_val)"
   ]
  },
  {
   "cell_type": "code",
   "execution_count": 9,
   "id": "f0b9f362-bd3e-44ff-ac0e-2700933a99ed",
   "metadata": {},
   "outputs": [
    {
     "data": {
      "text/plain": [
       "([0, 3, 6, 9, 10, 1, 5, 2, 8, 7, 4, 11, 0], True)"
      ]
     },
     "execution_count": 9,
     "metadata": {},
     "output_type": "execute_result"
    }
   ],
   "source": [
    "sol_vrp_h = create_tsp_sol_nn(ext_dist_mx, initial_vx, forbidden_val)\n",
    "sol_vrp_h, check_chromosome_tsp(sol_vrp_h, ext_dist_mx, initial_vx, forbidden_val)"
   ]
  },
  {
   "cell_type": "code",
   "execution_count": 10,
   "id": "95ec9667-f28d-48f4-8bd9-c7e00a58ef13",
   "metadata": {},
   "outputs": [
    {
     "data": {
      "text/plain": [
       "([0, 4, 3, 9, 1, 5, 11, 8, 2, 6, 7, 10, 0],\n",
       " [0.0,\n",
       "  1.3127910455865226,\n",
       "  1.8108672071360188,\n",
       "  0.3534644312632214,\n",
       "  0.0,\n",
       "  1.877384225467684,\n",
       "  1.9358824391183136,\n",
       "  0.983196328975084,\n",
       "  0.0,\n",
       "  1.0491267683501249,\n",
       "  0.4379214894648119,\n",
       "  0.23936606463821802,\n",
       "  0.0],\n",
       " True)"
      ]
     },
     "execution_count": 10,
     "metadata": {},
     "output_type": "execute_result"
    }
   ],
   "source": [
    "sol_irp_seq_r, sol_irp_qs_r, rng = create_irp_sol_rand(\n",
    "    ext_dist_mx,\n",
    "    initial_vx,\n",
    "    rng,\n",
    "    ini_and_dummy_vxs,\n",
    "    vehicle_volume,\n",
    "    regular_vx_division=True,\n",
    ")\n",
    "sol_irp_seq_r, sol_irp_qs_r.tolist(), check_chromosome_tsp(\n",
    "    sol_irp_seq_r, ext_dist_mx, initial_vx, forbidden_val\n",
    ")"
   ]
  },
  {
   "cell_type": "code",
   "execution_count": 11,
   "id": "bfd4cb6a-aaae-487a-9f1f-a0a4d8d3cc4d",
   "metadata": {},
   "outputs": [],
   "source": [
    "mask = rng.random(size=dist_mx.shape) < forbidding_p\n",
    "mask_ext = rng.random(size=ext_dist_mx.shape) < forbidding_p\n",
    "masked_dist_mx = dist_mx.copy()\n",
    "masked_ext_dist_mx = ext_dist_mx.copy()\n",
    "masked_dist_mx[mask] = forbidden_val\n",
    "masked_ext_dist_mx[mask_ext] = forbidden_val"
   ]
  },
  {
   "cell_type": "markdown",
   "id": "1f34d2a6-ca41-4b31-b9b0-515f6e2eead0",
   "metadata": {},
   "source": [
    "## Fixers"
   ]
  },
  {
   "cell_type": "code",
   "execution_count": 12,
   "id": "1c804494-2a75-49c8-9662-0a735db96480",
   "metadata": {},
   "outputs": [],
   "source": [
    "from time import perf_counter\n",
    "\n",
    "\n",
    "def fixer_check_tsp(\n",
    "    masked_dist_mx: np.ndarray, rng: np.random.Generator, iter_n: int = 1000\n",
    "):\n",
    "    no_of_failures = 0\n",
    "    total_t = 0\n",
    "    for i in range(iter_n):\n",
    "        initial_vx = 0\n",
    "        vx_pool = list(range(1, len(masked_dist_mx)))\n",
    "        to_exclude = 3\n",
    "        rand_ixs = (\n",
    "            [3]\n",
    "            + list(\n",
    "                rng.choice(\n",
    "                    [x for x in vx_pool if x != to_exclude],\n",
    "                    size=len(masked_dist_mx) - 1,\n",
    "                )\n",
    "            )\n",
    "            + [initial_vx]\n",
    "        )\n",
    "        try:\n",
    "            t0 = perf_counter()\n",
    "            fixed_ch, fix_status = fix_tsp(\n",
    "                rand_ixs,\n",
    "                masked_dist_mx,\n",
    "                initial_vx,\n",
    "                forbidden_val,\n",
    "                fix_max_add_iters,\n",
    "                fix_max_retries,\n",
    "            )\n",
    "            total_t += perf_counter() - t0\n",
    "        except Exception as e:\n",
    "            print(f\"exception at iteration {i}/{iter_n}\")\n",
    "            raise e\n",
    "        if not fix_status:\n",
    "            no_of_failures += 1\n",
    "\n",
    "    print(f\"{no_of_failures = } / {iter_n}\")\n",
    "    print(f\"fail_rate: {no_of_failures / iter_n * 100:.2f}%\")\n",
    "    print(f\"mean time: {total_t / (iter_n - no_of_failures)}\\ntotal time: {total_t}\")\n",
    "\n",
    "\n",
    "def fixer_check_vrpp(\n",
    "    masked_dist_mx: np.ndarray,\n",
    "    rng: np.random.Generator,\n",
    "    fillval: int,\n",
    "    iter_n: int = 1000,\n",
    "):\n",
    "    no_of_failures = 0\n",
    "    total_t = 0\n",
    "    for i in range(iter_n):\n",
    "        initial_vx = 0\n",
    "        vx_pool = list(range(1, len(masked_dist_mx)))\n",
    "        to_exclude = 3\n",
    "        rand_ixs = (\n",
    "            [3]\n",
    "            + list(\n",
    "                rng.choice(\n",
    "                    [x for x in vx_pool if x != to_exclude],\n",
    "                    size=len(masked_dist_mx) - 1,\n",
    "                )\n",
    "            )\n",
    "            + [initial_vx]\n",
    "        )\n",
    "        try:\n",
    "            t0 = perf_counter()\n",
    "            fixed_ch, fix_status = fix_vrpp(\n",
    "                rand_ixs,\n",
    "                masked_dist_mx,\n",
    "                initial_vx,\n",
    "                forbidden_val,\n",
    "                fix_max_add_iters,\n",
    "                fix_max_retries,\n",
    "                fillval=fillval,\n",
    "            )\n",
    "            total_t += perf_counter() - t0\n",
    "        except Exception as e:\n",
    "            print(f\"exception at iteration {i}/{iter_n}\")\n",
    "            raise e\n",
    "        if not fix_status:\n",
    "            no_of_failures += 1\n",
    "\n",
    "    print(f\"{no_of_failures = } / {iter_n}\")\n",
    "    print(f\"fail_rate: {no_of_failures / iter_n * 100:.2f}%\")\n",
    "    print(f\"mean time: {total_t / (iter_n - no_of_failures)}\\ntotal time: {total_t}\")\n",
    "\n",
    "\n",
    "def fixer_check_irp(\n",
    "    masked_dist_mx: np.ndarray,\n",
    "    rng: np.random.Generator,\n",
    "    fillval: int,\n",
    "    iter_n: int = 1000,\n",
    "):\n",
    "    no_of_failures = 0\n",
    "    total_t = 0\n",
    "    for i in range(iter_n):\n",
    "        initial_vx = 0\n",
    "        vx_pool = list(range(1, len(masked_dist_mx)))\n",
    "        to_exclude = 3\n",
    "        rand_ixs = (\n",
    "            [3]\n",
    "            + list(\n",
    "                rng.choice(\n",
    "                    [x for x in vx_pool if x != to_exclude],\n",
    "                    size=len(masked_dist_mx) - 1,\n",
    "                )\n",
    "            )\n",
    "            + [initial_vx]\n",
    "        )\n",
    "        rand_qs = rng.random(size=len(rand_ixs)).tolist()\n",
    "        try:\n",
    "            t0 = perf_counter()\n",
    "            fixed_seq, fixed_qs, fix_status = fix_irp(\n",
    "                rand_ixs,\n",
    "                masked_dist_mx,\n",
    "                initial_vx,\n",
    "                forbidden_val,\n",
    "                fix_max_add_iters,\n",
    "                fix_max_retries,\n",
    "                default_quantity=default_quantity,\n",
    "                quantities=rand_qs,\n",
    "                fillval=fillval,\n",
    "            )\n",
    "            total_t += perf_counter() - t0\n",
    "        except Exception as e:\n",
    "            print(f\"exception at iteration {i}/{iter_n}\")\n",
    "            raise e\n",
    "        if not fix_status:\n",
    "            no_of_failures += 1\n",
    "\n",
    "    print(f\"{no_of_failures = } / {iter_n}\")\n",
    "    print(f\"fail_rate: {no_of_failures / iter_n * 100:.2f}%\")\n",
    "    print(f\"mean time: {total_t / (iter_n - no_of_failures)}\\ntotal time: {total_t}\")"
   ]
  },
  {
   "cell_type": "code",
   "execution_count": 13,
   "id": "89dae111-8aa6-4640-ad87-d9b2f20332d6",
   "metadata": {},
   "outputs": [],
   "source": [
    "ITER_N = 10000"
   ]
  },
  {
   "cell_type": "code",
   "execution_count": 14,
   "id": "f7553cfb-d6c0-495d-911b-8d97b8d4dd62",
   "metadata": {},
   "outputs": [
    {
     "name": "stdout",
     "output_type": "stream",
     "text": [
      "no_of_failures = 136 / 10000\n",
      "fail_rate: 1.36%\n",
      "mean time: 0.0001312922242498037\n",
      "total time: 1.2950665000000638\n"
     ]
    }
   ],
   "source": [
    "fixer_check_tsp(masked_dist_mx, rng, iter_n=ITER_N)"
   ]
  },
  {
   "cell_type": "code",
   "execution_count": 15,
   "id": "48a02686-69eb-4bd8-9835-3c16dfce2e4f",
   "metadata": {},
   "outputs": [
    {
     "name": "stdout",
     "output_type": "stream",
     "text": [
      "no_of_failures = 1 / 10000\n",
      "fail_rate: 0.01%\n",
      "mean time: 0.00011334021402139236\n",
      "total time: 1.1332887999999022\n"
     ]
    }
   ],
   "source": [
    "# for vrp the same fixer is appropriate\n",
    "fixer_check_tsp(masked_ext_dist_mx, rng, iter_n=ITER_N)"
   ]
  },
  {
   "cell_type": "code",
   "execution_count": 16,
   "id": "164b6a8c-81c2-49c3-a5c7-a3538f0b86fe",
   "metadata": {},
   "outputs": [
    {
     "name": "stdout",
     "output_type": "stream",
     "text": [
      "no_of_failures = 2 / 10000\n",
      "fail_rate: 0.02%\n",
      "mean time: 6.386204240848138e-05\n",
      "total time: 0.6384926999999969\n"
     ]
    }
   ],
   "source": [
    "fixer_check_vrpp(masked_ext_dist_mx, rng, iter_n=ITER_N, fillval=-1)"
   ]
  },
  {
   "cell_type": "code",
   "execution_count": 17,
   "id": "d674f5c9-c5a3-468d-8c3e-2e45373ed2b9",
   "metadata": {},
   "outputs": [
    {
     "name": "stdout",
     "output_type": "stream",
     "text": [
      "no_of_failures = 1 / 10000\n",
      "fail_rate: 0.01%\n",
      "mean time: 6.502740274027689e-05\n",
      "total time: 0.6502090000000287\n"
     ]
    }
   ],
   "source": [
    "fixer_check_irp(masked_ext_dist_mx, rng, iter_n=ITER_N, fillval=-1)\n",
    "\n",
    "# print(f\"seq: {fvxs}\")\n",
    "# print(\",\".join(f\"({x}:{y:.2f})\" for x, y in zip(fvxs, fqs)))\n",
    "# print([masked_ext_dist_mx[a, b] for a, b in mit.windowed(fvxs, n=2)])\n",
    "# print(f\"doubles? [{set(fvxs) == set(range(masked_ext_dist_mx.shape[0]))}]\")"
   ]
  },
  {
   "cell_type": "markdown",
   "id": "04b12036-3ee4-42c1-958a-837141e8a0f2",
   "metadata": {},
   "source": [
    "## Mutations"
   ]
  },
  {
   "cell_type": "code",
   "execution_count": 18,
   "id": "0dc61693-0847-4f74-a628-f1ea28cf0b76",
   "metadata": {},
   "outputs": [
    {
     "data": {
      "text/plain": [
       "array([ 0,  1,  2,  3,  4,  5,  6,  7,  8,  9, 10,  0])"
      ]
     },
     "execution_count": 18,
     "metadata": {},
     "output_type": "execute_result"
    }
   ],
   "source": [
    "c_mid = np.arange(1, 11)\n",
    "c = np.array([0] + c_mid.tolist() + [0])\n",
    "c"
   ]
  },
  {
   "cell_type": "code",
   "execution_count": 19,
   "id": "ed61743d-ee88-43ad-9834-58a4570b9df7",
   "metadata": {},
   "outputs": [
    {
     "data": {
      "text/plain": [
       "(array([ 0,  1,  2,  3,  4,  5,  6,  7,  8,  9, 10,  0]),\n",
       " Generator(PCG64) at 0x1D9D12AE9E0)"
      ]
     },
     "execution_count": 19,
     "metadata": {},
     "output_type": "execute_result"
    }
   ],
   "source": [
    "mutate_swap(c.copy(), p=0.2, rng=rng)"
   ]
  },
  {
   "cell_type": "code",
   "execution_count": 20,
   "id": "2cd19913-8feb-4d01-bd74-ab997b1d84db",
   "metadata": {},
   "outputs": [
    {
     "data": {
      "text/plain": [
       "(array([-1,  1,  2,  3,  4,  5,  6,  7,  8, -1, 10,  0]),\n",
       " Generator(PCG64) at 0x1D9D12AE9E0)"
      ]
     },
     "execution_count": 20,
     "metadata": {},
     "output_type": "execute_result"
    }
   ],
   "source": [
    "mutate_del(c.copy(), p=0.2, rng=rng, fillval=-1)"
   ]
  },
  {
   "cell_type": "code",
   "execution_count": 21,
   "id": "9a5cf40f-1eb2-45dd-a3c9-7731133f5da6",
   "metadata": {},
   "outputs": [
    {
     "data": {
      "text/plain": [
       "(array([ 0,  1,  2,  3,  4,  5,  6,  7,  8,  9, 10,  5,  0]),\n",
       " Generator(PCG64) at 0x1D9D12AE9E0)"
      ]
     },
     "execution_count": 21,
     "metadata": {},
     "output_type": "execute_result"
    }
   ],
   "source": [
    "mutate_insert(\n",
    "    c.copy(),\n",
    "    p=0.2,\n",
    "    rng=rng,\n",
    "    rand_range=(1, c.max()),\n",
    "    ini_and_dummy_vxs={0, 1},\n",
    "    fillval=-1,\n",
    ")"
   ]
  },
  {
   "cell_type": "code",
   "execution_count": 22,
   "id": "f4da17a6-750d-4c6b-86e9-f3ca974819d6",
   "metadata": {},
   "outputs": [
    {
     "data": {
      "text/plain": [
       "array([0.15317982, 0.15090811, 0.25734157, 0.37020501, 0.26143622,\n",
       "       0.9317802 , 0.78532602, 0.88681671, 0.52183195, 0.4616466 ,\n",
       "       0.0176666 , 0.96770589])"
      ]
     },
     "execution_count": 22,
     "metadata": {},
     "output_type": "execute_result"
    }
   ],
   "source": [
    "qs = rng.random(size=c.shape)\n",
    "qs"
   ]
  },
  {
   "cell_type": "code",
   "execution_count": 23,
   "id": "f5d7bd00-106c-465a-ba4d-9daf478765d7",
   "metadata": {},
   "outputs": [
    {
     "data": {
      "text/plain": [
       "(array([ 0,  1,  2,  3,  4,  5,  6,  7,  8,  9, 10,  0]),\n",
       " array([0.15317982, 0.15090811, 0.25734157, 0.37020501, 0.26143622,\n",
       "        0.9317802 , 0.78532602, 0.88681671, 0.52183195, 0.4616466 ,\n",
       "        0.0176666 , 0.96770589]),\n",
       " Generator(PCG64) at 0x1D9D12AE9E0)"
      ]
     },
     "execution_count": 23,
     "metadata": {},
     "output_type": "execute_result"
    }
   ],
   "source": [
    "mutate_swap_irp(c.copy(), p=0.2, rng=rng, quantities=qs.copy())"
   ]
  },
  {
   "cell_type": "code",
   "execution_count": 24,
   "id": "3da07131-6357-4c7b-b874-76b38794a168",
   "metadata": {},
   "outputs": [
    {
     "data": {
      "text/plain": [
       "(array([ 0,  1,  2,  3,  4,  5,  6, -1,  8,  9, 10, -1]),\n",
       " Generator(PCG64) at 0x1D9D12AE9E0)"
      ]
     },
     "execution_count": 24,
     "metadata": {},
     "output_type": "execute_result"
    }
   ],
   "source": [
    "mutate_del_irp(c.copy(), p=0.2, rng=rng, quantities=qs.copy(), fillval=-1)"
   ]
  },
  {
   "cell_type": "code",
   "execution_count": 25,
   "id": "39d17784-cdd3-480e-96e8-f88b028d2fcd",
   "metadata": {},
   "outputs": [
    {
     "data": {
      "text/plain": [
       "(array([-1., -1., -1., -1.,  3.,  4., -1., -1., -1.,  6.,  4., -1.]),\n",
       " array([-1., -1., -1., -1.,  3.,  4., -1., -1., -1.,  6.,  4., -1.]),\n",
       " Generator(PCG64) at 0x1D9D12AE9E0)"
      ]
     },
     "execution_count": 25,
     "metadata": {},
     "output_type": "execute_result"
    }
   ],
   "source": [
    "mutate_insert_irp(\n",
    "    # c.copy(),\n",
    "    -np.ones(shape=c.shape),\n",
    "    p=0.2,\n",
    "    rng=rng,\n",
    "    quantities=qs,\n",
    "    fillval=-1,\n",
    "    rand_vx_range=(1, c.shape[0] - 2),\n",
    "    ini_and_dummy_vxs={0, 1},\n",
    "    rand_quantity_range=(0.1, 0.5),\n",
    ")"
   ]
  },
  {
   "cell_type": "markdown",
   "id": "15852307-10bc-4b7b-a8e4-95afb708335d",
   "metadata": {},
   "source": [
    "## Crossovers"
   ]
  },
  {
   "cell_type": "code",
   "execution_count": 26,
   "id": "ec025dbc-e43b-4312-9c06-5418a94585a7",
   "metadata": {},
   "outputs": [
    {
     "data": {
      "text/plain": [
       "array([0, 1, 2, 3, 4, 5, 6, 7, 8, 9, 0], dtype=int64)"
      ]
     },
     "execution_count": 26,
     "metadata": {},
     "output_type": "execute_result"
    }
   ],
   "source": [
    "p1 = np.fromiter((0, *range(1, 10), 0), dtype=np.int64)\n",
    "p2 = np.fromiter(reversed(p1), dtype=np.int64)\n",
    "p1"
   ]
  },
  {
   "cell_type": "code",
   "execution_count": 27,
   "id": "be84fbc5-608f-4233-aae2-2452684f7947",
   "metadata": {},
   "outputs": [
    {
     "data": {
      "text/plain": [
       "array([0, 9, 8, 7, 6, 5, 4, 3, 2, 1, 0], dtype=int64)"
      ]
     },
     "execution_count": 27,
     "metadata": {},
     "output_type": "execute_result"
    }
   ],
   "source": [
    "p2"
   ]
  },
  {
   "cell_type": "code",
   "execution_count": 28,
   "id": "4286c98f-0f30-4bb1-9111-ab1a9d1a7b39",
   "metadata": {},
   "outputs": [
    {
     "data": {
      "text/plain": [
       "(array([0, 9, 8, 7, 6, 5, 4, 3, 2, 1, 0], dtype=int64),\n",
       " array([0, 1, 2, 3, 4, 5, 6, 7, 8, 9, 0], dtype=int64))"
      ]
     },
     "execution_count": 28,
     "metadata": {},
     "output_type": "execute_result"
    }
   ],
   "source": [
    "c1, c2, rng = crossover_ndarray(p1, p2, rng)\n",
    "c1, c2"
   ]
  },
  {
   "cell_type": "code",
   "execution_count": 29,
   "id": "763bc166-73fb-4bdd-977f-3226e6598504",
   "metadata": {},
   "outputs": [
    {
     "data": {
      "text/plain": [
       "(array([0, 1, 2, 3, 6, 5, 6, 7, 2, 1, 0], dtype=int64),\n",
       " array([0, 9, 8, 7, 4, 5, 4, 3, 8, 9, 0], dtype=int64))"
      ]
     },
     "execution_count": 29,
     "metadata": {},
     "output_type": "execute_result"
    }
   ],
   "source": [
    "c1, c2, rng = crossover_k_loci_ndarray(p1, p2, rng, k=3)\n",
    "c1, c2"
   ]
  },
  {
   "cell_type": "code",
   "execution_count": 30,
   "id": "4259cce9-8c7f-430f-b103-95a918644ce0",
   "metadata": {},
   "outputs": [
    {
     "data": {
      "text/plain": [
       "(array([0, 1, 2, 3, 6, 5, 4, 3, 2, 1, 0], dtype=int64),\n",
       " array([0, 9, 8, 7, 4, 5, 6, 7, 8, 9, 0], dtype=int64))"
      ]
     },
     "execution_count": 30,
     "metadata": {},
     "output_type": "execute_result"
    }
   ],
   "source": [
    "c1, c2, rng = crossover_k_loci_poisson_ndarray(p1, p2, rng, lam=1)\n",
    "c1, c2"
   ]
  },
  {
   "cell_type": "code",
   "execution_count": 31,
   "id": "fa9bce3f-cd54-425c-bdc4-520ac0949ec2",
   "metadata": {},
   "outputs": [
    {
     "data": {
      "text/plain": [
       "(array([ 1,  0, -8, -7,  8,  7,  6,  5,  4, -1,  0], dtype=int64),\n",
       " array([-9,  0,  3,  2, -2, -3, -4, -5, -6,  9,  0], dtype=int64))"
      ]
     },
     "execution_count": 31,
     "metadata": {},
     "output_type": "execute_result"
    }
   ],
   "source": [
    "c1, c2, rng = crossover_k_loci_with_inversion_ndarray(\n",
    "    p1, -p2, rng, k=3, inversion_p=0.5\n",
    ")\n",
    "c1, c2"
   ]
  },
  {
   "cell_type": "code",
   "execution_count": 32,
   "id": "8b8ec142-3372-452e-9378-09c4b16011c9",
   "metadata": {},
   "outputs": [
    {
     "data": {
      "text/plain": [
       "(array([ 4,  3,  2,  1,  0, -5, -4, -3, -2, -1,  0], dtype=int64),\n",
       " array([-6, -7, -8, -9,  0,  5,  6,  7,  8,  9,  0], dtype=int64))"
      ]
     },
     "execution_count": 32,
     "metadata": {},
     "output_type": "execute_result"
    }
   ],
   "source": [
    "c1, c2, rng = crossover_k_loci_poisson_with_inversion_ndarray(\n",
    "    p1, -p2, rng, lam=1, inversion_p=0.5\n",
    ")\n",
    "c1, c2"
   ]
  },
  {
   "cell_type": "markdown",
   "id": "2a29f077-2f36-4111-b559-e0e27e70dac5",
   "metadata": {},
   "source": [
    "### IRP"
   ]
  },
  {
   "cell_type": "code",
   "execution_count": 33,
   "id": "a924167d-5791-4236-95ff-8233ecda8411",
   "metadata": {},
   "outputs": [
    {
     "data": {
      "text/plain": [
       "array([[0. , 1. , 2. , 3. , 4. , 5. , 6. , 7. , 8. , 9. , 0. ],\n",
       "       [0. , 0.1, 0.2, 0.3, 0.4, 0.5, 0.6, 0.7, 0.8, 0.9, 1. ]])"
      ]
     },
     "execution_count": 33,
     "metadata": {},
     "output_type": "execute_result"
    }
   ],
   "source": [
    "s1 = np.fromiter((0, *range(1, 10), 0), dtype=np.int64)\n",
    "s2 = np.fromiter(reversed(s1), dtype=np.int64)\n",
    "qs1 = np.linspace(0, 1, s1.shape[0])\n",
    "qs2 = -qs1.copy()\n",
    "p1 = np.stack((s1, qs1), axis=1)\n",
    "p2 = np.stack((s2, qs2), axis=1)\n",
    "p1.T"
   ]
  },
  {
   "cell_type": "code",
   "execution_count": 34,
   "id": "e0415a48-aa8d-42d9-8c36-270cad27b134",
   "metadata": {},
   "outputs": [
    {
     "data": {
      "text/plain": [
       "array([[ 0. ,  9. ,  8. ,  7. ,  6. ,  5. ,  4. ,  3. ,  2. ,  1. ,  0. ],\n",
       "       [-0. , -0.1, -0.2, -0.3, -0.4, -0.5, -0.6, -0.7, -0.8, -0.9, -1. ]])"
      ]
     },
     "execution_count": 34,
     "metadata": {},
     "output_type": "execute_result"
    }
   ],
   "source": [
    "p2.T"
   ]
  },
  {
   "cell_type": "code",
   "execution_count": 35,
   "id": "429b3dee-e6e8-4745-93ca-9806535b0675",
   "metadata": {},
   "outputs": [
    {
     "data": {
      "text/plain": [
       "(array([[ 0. ,  1. ,  2. ,  3. ,  4. ,  5. ,  6. ,  3. ,  2. ,  1. ,  0. ],\n",
       "        [ 0. ,  0.1,  0.2,  0.3,  0.4,  0.5,  0.6, -0.7, -0.8, -0.9, -1. ]]),\n",
       " array([[ 0. ,  9. ,  8. ,  7. ,  6. ,  5. ,  4. ,  7. ,  8. ,  9. ,  0. ],\n",
       "        [-0. , -0.1, -0.2, -0.3, -0.4, -0.5, -0.6,  0.7,  0.8,  0.9,  1. ]]))"
      ]
     },
     "execution_count": 35,
     "metadata": {},
     "output_type": "execute_result"
    }
   ],
   "source": [
    "c1, c2, rng = crossover_ndarray(p1, p2, rng)\n",
    "c1.T, c2.T"
   ]
  },
  {
   "cell_type": "code",
   "execution_count": 36,
   "id": "b5a64385-d7dc-4102-b845-1dadee3aab5a",
   "metadata": {},
   "outputs": [
    {
     "data": {
      "text/plain": [
       "(array([[ 0. ,  1. ,  2. ,  7. ,  6. ,  5. ,  4. ,  7. ,  8. ,  1. ,  0. ],\n",
       "        [ 0. ,  0.1,  0.2, -0.3, -0.4, -0.5, -0.6,  0.7,  0.8, -0.9, -1. ]]),\n",
       " array([[ 0. ,  9. ,  8. ,  3. ,  4. ,  5. ,  6. ,  3. ,  2. ,  9. ,  0. ],\n",
       "        [-0. , -0.1, -0.2,  0.3,  0.4,  0.5,  0.6, -0.7, -0.8,  0.9,  1. ]]))"
      ]
     },
     "execution_count": 36,
     "metadata": {},
     "output_type": "execute_result"
    }
   ],
   "source": [
    "c1, c2, rng = crossover_k_loci_ndarray(p1, p2, rng, k=3)\n",
    "c1.T, c2.T"
   ]
  },
  {
   "cell_type": "code",
   "execution_count": 37,
   "id": "3124a875-7bac-4117-8129-151b63656a2e",
   "metadata": {},
   "outputs": [
    {
     "data": {
      "text/plain": [
       "(array([[ 0. ,  1. ,  2. ,  3. ,  4. ,  5. ,  6. ,  3. ,  2. ,  1. ,  0. ],\n",
       "        [ 0. ,  0.1,  0.2,  0.3,  0.4,  0.5,  0.6, -0.7, -0.8, -0.9, -1. ]]),\n",
       " array([[ 0. ,  9. ,  8. ,  7. ,  6. ,  5. ,  4. ,  7. ,  8. ,  9. ,  0. ],\n",
       "        [-0. , -0.1, -0.2, -0.3, -0.4, -0.5, -0.6,  0.7,  0.8,  0.9,  1. ]]))"
      ]
     },
     "execution_count": 37,
     "metadata": {},
     "output_type": "execute_result"
    }
   ],
   "source": [
    "c1, c2, rng = crossover_k_loci_poisson_ndarray(p1, p2, rng, lam=1)\n",
    "c1.T, c2.T"
   ]
  },
  {
   "cell_type": "code",
   "execution_count": 38,
   "id": "d84b55dd-6a5c-4934-a990-67fecbe2ac53",
   "metadata": {},
   "outputs": [
    {
     "data": {
      "text/plain": [
       "(array([[ 2. ,  1. ,  0. , -5. , -6. , -7. ,  7. ,  6. , -2. , -1. , -0. ],\n",
       "        [ 0.2,  0.1,  0. ,  0.5,  0.4,  0.3,  0.7,  0.6,  0.8,  0.9,  1. ]]),\n",
       " array([[-8. , -9. , -0. ,  5. ,  4. ,  3. , -4. , -3. ,  0. ,  9. ,  8. ],\n",
       "        [ 0.2,  0.1,  0. ,  0.5,  0.4,  0.3,  0.6,  0.7,  1. ,  0.9,  0.8]]))"
      ]
     },
     "execution_count": 38,
     "metadata": {},
     "output_type": "execute_result"
    }
   ],
   "source": [
    "c1, c2, rng = crossover_k_loci_with_inversion_ndarray(\n",
    "    p1, -p2, rng, k=3, inversion_p=0.5\n",
    ")\n",
    "c1.T, c2.T"
   ]
  },
  {
   "cell_type": "code",
   "execution_count": 39,
   "id": "3528a050-5c97-48c0-b36c-79dd75cf7f8a",
   "metadata": {},
   "outputs": [
    {
     "data": {
      "text/plain": [
       "(array([[ 7. ,  6. ,  5. ,  4. ,  3. ,  2. ,  1. ,  0. , -2. , -1. , -0. ],\n",
       "        [ 0.7,  0.6,  0.5,  0.4,  0.3,  0.2,  0.1,  0. ,  0.8,  0.9,  1. ]]),\n",
       " array([[-0. , -9. , -8. , -7. , -6. , -5. , -4. , -3. ,  8. ,  9. ,  0. ],\n",
       "        [ 0. ,  0.1,  0.2,  0.3,  0.4,  0.5,  0.6,  0.7,  0.8,  0.9,  1. ]]))"
      ]
     },
     "execution_count": 39,
     "metadata": {},
     "output_type": "execute_result"
    }
   ],
   "source": [
    "c1, c2, rng = crossover_k_loci_poisson_with_inversion_ndarray(\n",
    "    p1, -p2, rng, lam=1, inversion_p=0.5\n",
    ")\n",
    "c1.T, c2.T"
   ]
  },
  {
   "cell_type": "markdown",
   "id": "0b326019-0409-43c1-8211-012a60369539",
   "metadata": {},
   "source": [
    "## Costs"
   ]
  },
  {
   "cell_type": "code",
   "execution_count": 6,
   "id": "9f21aabd-aa48-457f-b49b-f52691922e5e",
   "metadata": {},
   "outputs": [],
   "source": [
    "N = 10\n",
    "fv = -1\n",
    "speed = 2.5\n",
    "max_wind_speed = 2\n",
    "T = 100\n",
    "window_n = 10\n",
    "win_span = T / window_n\n",
    "dist_mx = rng.uniform(0.1, 10, size=(N, N))\n",
    "np.fill_diagonal(dist_mx, fv)\n",
    "dyn_costs = []\n",
    "exp_t = win_span\n",
    "while exp_t < T:\n",
    "    wind_mx = rng.uniform(-max_wind_speed, max_wind_speed, size=dist_mx.shape)\n",
    "    eff_speed = wind_mx + speed\n",
    "    eff_speed[eff_speed < 0] = 0\n",
    "    np.fill_diagonal(wind_mx, fv)\n",
    "    dyn_costs.append((eff_speed, exp_t))\n",
    "    exp_t += win_span"
   ]
  },
  {
   "cell_type": "code",
   "execution_count": 7,
   "id": "5c1cc2fd-5a4c-4fce-a868-07b6a62bc2bc",
   "metadata": {},
   "outputs": [
    {
     "data": {
      "text/plain": [
       "[0, 9, 4, 5, 8, 2, 6, 3, 7, 1, 0]"
      ]
     },
     "execution_count": 7,
     "metadata": {},
     "output_type": "execute_result"
    }
   ],
   "source": [
    "seq_tsp = [\n",
    "    0,\n",
    "    *rng.choice(range(1, dist_mx.shape[0]), size=dist_mx.shape[0] - 1, replace=False),\n",
    "    0,\n",
    "]\n",
    "seq_tsp"
   ]
  },
  {
   "cell_type": "code",
   "execution_count": 8,
   "id": "282728a5-ba9d-40d0-95ef-1fd4943d8dfb",
   "metadata": {},
   "outputs": [
    {
     "data": {
      "text/plain": [
       "[27.663384725020112]"
      ]
     },
     "execution_count": 8,
     "metadata": {},
     "output_type": "execute_result"
    }
   ],
   "source": [
    "cost_calc_tsp(seq_tsp, dyn_costs, dist_mx, initial_vx=0, forbidden_val=fv)"
   ]
  },
  {
   "cell_type": "code",
   "execution_count": 10,
   "id": "44c2d12a-0a39-4a36-98df-34c91c1597a3",
   "metadata": {},
   "outputs": [
    {
     "data": {
      "text/plain": [
       "[0, 1, 7, 9, 10, 2, 5, 8, 3, 4, 6, 0]"
      ]
     },
     "execution_count": 10,
     "metadata": {},
     "output_type": "execute_result"
    },
    {
     "data": {
      "image/png": "[encoded data removed]",
      "text/plain": [
       "<Figure size 432x288 with 2 Axes>"
      ]
     },
     "metadata": {
      "needs_background": "light"
     },
     "output_type": "display_data"
    }
   ],
   "source": [
    "ext_dist_mx = extend_cost_mx(dist_mx, copy_n=1, to_copy_ix=0)\n",
    "seq_vrp = list(range(1, ext_dist_mx.shape[0]))\n",
    "filler_ixs = rng.choice(len(seq_vrp), size=len(seq_vrp) // 3, replace=False)\n",
    "\n",
    "rng.shuffle(seq_vrp)\n",
    "seq_vrp = [0] + seq_vrp + [0]\n",
    "demands_vrpp = rng.integers(1, 4, size=len(seq_vrp)).tolist()\n",
    "demands_irp = rng.uniform(0, 5, size=len(seq_vrp)).tolist()\n",
    "quantities_irp = rng.uniform(0, 3, size=len(seq_vrp)).tolist()\n",
    "import seaborn as sns\n",
    "\n",
    "sns.heatmap(ext_dist_mx)\n",
    "seq_vrp"
   ]
  },
  {
   "cell_type": "code",
   "execution_count": 11,
   "id": "db30f9a6-4e62-411e-8951-b09ed1d15a8c",
   "metadata": {},
   "outputs": [],
   "source": [
    "dyn_costs = []\n",
    "exp_t = win_span\n",
    "while exp_t < T:\n",
    "    wind_mx = rng.uniform(-max_wind_speed, max_wind_speed, size=ext_dist_mx.shape)\n",
    "    eff_speed = wind_mx + speed\n",
    "    eff_speed[eff_speed < 0] = 0\n",
    "    np.fill_diagonal(wind_mx, fv)\n",
    "    dyn_costs.append((eff_speed, exp_t))\n",
    "    exp_t += win_span"
   ]
  },
  {
   "cell_type": "code",
   "execution_count": 12,
   "id": "e81e23d5-35ff-40f9-b161-b05864f28428",
   "metadata": {},
   "outputs": [
    {
     "data": {
      "text/plain": [
       "((11, 11), (11, 11))"
      ]
     },
     "execution_count": 12,
     "metadata": {},
     "output_type": "execute_result"
    }
   ],
   "source": [
    "ext_dist_mx.shape, dyn_costs[0][0].shape"
   ]
  },
  {
   "cell_type": "code",
   "execution_count": 13,
   "id": "b78f3463-abe8-4ba0-aaac-675783055bd1",
   "metadata": {},
   "outputs": [
    {
     "data": {
      "text/plain": [
       "[27.96167853837877]"
      ]
     },
     "execution_count": 13,
     "metadata": {},
     "output_type": "execute_result"
    }
   ],
   "source": [
    "cost_calc_vrp(\n",
    "    seq_vrp,\n",
    "    dyn_costs,\n",
    "    ext_dist_mx,\n",
    "    initial_vx=0,\n",
    "    forbidden_val=-1,\n",
    "    ini_and_dummy_vxs={0, 1},\n",
    ")"
   ]
  },
  {
   "cell_type": "code",
   "execution_count": 14,
   "id": "60015d0d-de91-4eb8-a9a6-e2e07663ab53",
   "metadata": {},
   "outputs": [
    {
     "data": {
      "text/plain": [
       "[27.96167853837877, 17]"
      ]
     },
     "execution_count": 14,
     "metadata": {},
     "output_type": "execute_result"
    }
   ],
   "source": [
    "# TODO returns inf, print debug\n",
    "cost_calc_vrpp(\n",
    "    seq_vrp,\n",
    "    dyn_costs,\n",
    "    ext_dist_mx,\n",
    "    initial_vx,\n",
    "    fv,\n",
    "    ini_and_dummy_vxs={0, 1},\n",
    "    demands=demands_vrpp,\n",
    "    fillval=-1,\n",
    ")"
   ]
  },
  {
   "cell_type": "code",
   "execution_count": 26,
   "id": "9a6bebb0-1b8a-444e-acf5-ace609520b78",
   "metadata": {},
   "outputs": [
    {
     "data": {
      "text/plain": [
       "[27.96167853837877, 34.514540989326555]"
      ]
     },
     "execution_count": 26,
     "metadata": {},
     "output_type": "execute_result"
    }
   ],
   "source": [
    "cost_calc_irp(\n",
    "    seq_vrp,\n",
    "    dyn_costs,\n",
    "    ext_dist_mx,\n",
    "    initial_vx,\n",
    "    fv,\n",
    "    ini_and_dummy_vxs={0, 1},\n",
    "    demands=demands_irp,\n",
    "    fillval=-1,\n",
    "    quantities=quantities_irp,\n",
    "    capacity=0.9 * sum(quantities_irp),\n",
    ")"
   ]
  },
  {
   "cell_type": "markdown",
   "id": "ddac726c-53d1-44a1-aecc-d328099fde51",
   "metadata": {},
   "source": [
    "## Schemas"
   ]
  },
  {
   "cell_type": "code",
   "execution_count": 35,
   "id": "715984bb-8b14-4fb4-8c7e-9582e4d41cf4",
   "metadata": {},
   "outputs": [],
   "source": [
    "import json\n",
    "from pathlib import Path"
   ]
  },
  {
   "cell_type": "code",
   "execution_count": 36,
   "id": "a5781ceb-b2f3-450b-9b6d-ea80fa601200",
   "metadata": {},
   "outputs": [],
   "source": [
    "with Path(\"data/environments/map_2021-12-15_09-13-30_vrp.json\").open(\"r\") as f:\n",
    "    data = json.load(f)"
   ]
  },
  {
   "cell_type": "code",
   "execution_count": 39,
   "id": "5446c301-f949-42f6-8d66-ad52e6301315",
   "metadata": {},
   "outputs": [
    {
     "data": {
      "text/plain": [
       "dict_keys(['generation_setup', 'grid_size', 'speed', 'max_wind_speed', 'transition_prohibition_p', 'point_distance_std_dev', 'coords_creation', 'total_t', 'no_of_t_windows', 'max_demand', 'max_x', 'max_y', 'exp_label'])"
      ]
     },
     "execution_count": 39,
     "metadata": {},
     "output_type": "execute_result"
    }
   ],
   "source": [
    "data.keys()"
   ]
  },
  {
   "cell_type": "code",
   "execution_count": 42,
   "id": "d5e12bdd-0a4b-4c72-96ee-7412229bcce1",
   "metadata": {},
   "outputs": [
    {
     "data": {
      "text/plain": [
       "dict_keys(['coords', 'distance_mx', 'dyn_costs', 'demands_sdvrp', 'demands_irp', 'demand_rewards'])"
      ]
     },
     "execution_count": 42,
     "metadata": {},
     "output_type": "execute_result"
    }
   ],
   "source": [
    "gen_setup = data[\"generation_setup\"]\n",
    "gen_setup.keys()"
   ]
  },
  {
   "cell_type": "code",
   "execution_count": 43,
   "id": "1be83092-ffdb-465c-8a98-c96aa3aa93a0",
   "metadata": {},
   "outputs": [
    {
     "data": {
      "text/plain": [
       "[0, 6, 1, 6, 8, 8, 9, 6, 1, 1, 1, 9, 1, 1, 5, 7]"
      ]
     },
     "execution_count": 43,
     "metadata": {},
     "output_type": "execute_result"
    }
   ],
   "source": [
    "gen_setup[\"demands_sdvrp\"]"
   ]
  },
  {
   "cell_type": "code",
   "execution_count": 46,
   "id": "d24b6bf8-2b19-4c37-a180-2ef601fd9bb6",
   "metadata": {},
   "outputs": [
    {
     "name": "stdout",
     "output_type": "stream",
     "text": [
      "[0.00, 1.06, 0.89, 0.45, 0.49, 1.10, 0.49, 0.38, 0.68, 0.55, 0.52, 0.93, 0.96, 0.24, 0.51, 0.74]\n"
     ]
    }
   ],
   "source": [
    "print(f\"\"\"[{\", \".join(f\"{d:.2f}\" for d in gen_setup[\"demands_irp\"])}]\"\"\")"
   ]
  },
  {
   "cell_type": "code",
   "execution_count": 47,
   "id": "936d1577-25dd-42f3-92c4-5bf7be3bc9f8",
   "metadata": {},
   "outputs": [
    {
     "data": {
      "text/plain": [
       "'VRP'"
      ]
     },
     "execution_count": 47,
     "metadata": {},
     "output_type": "execute_result"
    }
   ],
   "source": [
    "data[\"exp_label\"]"
   ]
  },
  {
   "cell_type": "code",
   "execution_count": 10,
   "id": "2debb1eb-3522-4a31-9123-8b2bbc13f90d",
   "metadata": {},
   "outputs": [],
   "source": [
    "import numpy as np"
   ]
  },
  {
   "cell_type": "code",
   "execution_count": 11,
   "id": "d13ddf31-c160-46ee-b1de-2e5986c114ad",
   "metadata": {},
   "outputs": [],
   "source": [
    "rng = np.random.default_rng()"
   ]
  },
  {
   "cell_type": "code",
   "execution_count": 12,
   "id": "b2bf7b47-909a-4776-a7ac-ba1c529108eb",
   "metadata": {},
   "outputs": [],
   "source": [
    "from libs.optimizers.algorithms.simulated_annealing import simulated_annealing"
   ]
  },
  {
   "cell_type": "code",
   "execution_count": 13,
   "id": "f4e40468-1327-4bde-878b-c0796dde7c5f",
   "metadata": {},
   "outputs": [
    {
     "name": "stdout",
     "output_type": "stream",
     "text": [
      "f(initial_sol) = 14211.899871535197\n",
      "sol_obj = 89.0107672542449, info = {'iterations': 10000}\n"
     ]
    }
   ],
   "source": [
    "N = 100\n",
    "\n",
    "\n",
    "def f(x: np.ndarray) -> float:\n",
    "    return np.square(x).sum()\n",
    "\n",
    "\n",
    "bnds = np.array([[-10, 10]] * N)\n",
    "initial_sol = rng.random(size=len(bnds)) * (bnds[:, 1] - bnds[:, 0])\n",
    "print(f\"{f(initial_sol) = }\")\n",
    "sol, sol_obj, info, rng = simulated_annealing(\n",
    "    f, bnds, rng, step_max=1, iter_max=10000, initial_temp=5230, initial_sol=initial_sol\n",
    ")\n",
    "print(f\"{sol_obj = }, {info = }\")"
   ]
  },
  {
   "cell_type": "code",
   "execution_count": 14,
   "id": "122dc056-c306-40dc-803c-05c5dab682cb",
   "metadata": {},
   "outputs": [
    {
     "name": "stdout",
     "output_type": "stream",
     "text": [
      "96.1 ms ± 1.64 ms per loop (mean ± std. dev. of 7 runs, 10 loops each)\n"
     ]
    }
   ],
   "source": [
    "%%timeit\n",
    "simulated_annealing(\n",
    "    f, bnds, rng, step_max=1, iter_max=10000, initial_temp=5230, initial_sol=initial_sol\n",
    ")"
   ]
  },
  {
   "cell_type": "code",
   "execution_count": 15,
   "id": "b869e021-0463-4e66-be52-099df534b07f",
   "metadata": {},
   "outputs": [],
   "source": [
    "from math import pow"
   ]
  },
  {
   "cell_type": "code",
   "execution_count": 16,
   "id": "889ceed5-e6ab-445d-b084-f1c481dbac0a",
   "metadata": {},
   "outputs": [],
   "source": [
    "from scipy.stats import rv_continuous\n",
    "\n",
    "\n",
    "class cauchy_lorentz_visiting_distr(rv_continuous):\n",
    "    \"Gaussian distribution\"\n",
    "\n",
    "    def _pdf(self, x, qv: int, T: float, D: int):\n",
    "        return pow(T, -D / (3 - qv)) / pow(\n",
    "            1 + (qv - 1) * x * x / pow(T, 2 / (3 - qv)), 1 / (qv - 1) + 0.5 * (D - 1)\n",
    "        )\n",
    "\n",
    "\n",
    "gen = cauchy_lorentz_visiting_distr()"
   ]
  },
  {
   "cell_type": "code",
   "execution_count": 17,
   "id": "e7d04867-9b79-4e79-bb69-01c948517c86",
   "metadata": {},
   "outputs": [
    {
     "data": {
      "text/plain": [
       "2.787267937983598e-224"
      ]
     },
     "execution_count": 17,
     "metadata": {},
     "output_type": "execute_result"
    }
   ],
   "source": [
    "T = 5320\n",
    "D = 30\n",
    "qv = 2.5\n",
    "x = 100000\n",
    "pow(T, -D / (3 - qv)) / pow(\n",
    "    1 + (qv - 1) * x * x / pow(T, 2 / (3 - qv)), 1 / (qv - 1) + 0.5 * (D - 1)\n",
    ")"
   ]
  },
  {
   "cell_type": "code",
   "execution_count": 18,
   "id": "46f44ca4-0d0a-4ab9-9cfc-cca0e8795b83",
   "metadata": {},
   "outputs": [],
   "source": [
    "foo = gen(qv=2.5, T=5320, D=3)"
   ]
  },
  {
   "cell_type": "code",
   "execution_count": 19,
   "id": "f9d47380-54f6-4aa9-beb0-65f9fa08c313",
   "metadata": {},
   "outputs": [
    {
     "data": {
      "text/plain": [
       "-53.945308970447094"
      ]
     },
     "execution_count": 19,
     "metadata": {},
     "output_type": "execute_result"
    }
   ],
   "source": [
    "from scipy.stats import rv_continuous\n",
    "from math import pi\n",
    "\n",
    "\n",
    "class cauchy_distr(rv_continuous):\n",
    "    \"Gaussian distribution\"\n",
    "\n",
    "    def _pdf(self, x, a: float, T: float):\n",
    "        aT = a * T\n",
    "        return aT / (pi * aT * aT + x * x)\n",
    "\n",
    "\n",
    "gen = cauchy_distr(seed=(1 << 32) - 1)\n",
    "gen.rvs(a=1e-3, T=5320)"
   ]
  },
  {
   "cell_type": "code",
   "execution_count": 20,
   "id": "2f847703-b5d1-4914-b2f6-05bc7ee81397",
   "metadata": {},
   "outputs": [],
   "source": [
    "import matplotlib.pyplot as plt\n",
    "import numpy as np"
   ]
  },
  {
   "cell_type": "code",
   "execution_count": 21,
   "id": "1e71d1dc-0cfe-47c2-8089-7cd2f72a2790",
   "metadata": {},
   "outputs": [
    {
     "data": {
      "text/plain": [
       "[<matplotlib.lines.Line2D at 0x2556b3f7fa0>]"
      ]
     },
     "execution_count": 21,
     "metadata": {},
     "output_type": "execute_result"
    },
    {
     "data": {
      "image/png": "[encoded data removed]",
      "text/plain": [
       "<Figure size 432x288 with 1 Axes>"
      ]
     },
     "metadata": {
      "needs_background": "light"
     },
     "output_type": "display_data"
    }
   ],
   "source": [
    "B = 10\n",
    "xs = np.linspace(-B, B, 10000)\n",
    "ys = np.fromiter((gen.pdf(x, a=1e-4, T=5320) for x in xs), dtype=np.float64)\n",
    "plt.plot(xs, ys)"
   ]
  },
  {
   "cell_type": "code",
   "execution_count": 22,
   "id": "c6cae05a-49e7-4d2d-990e-08622c088698",
   "metadata": {},
   "outputs": [],
   "source": [
    "import sys"
   ]
  },
  {
   "cell_type": "code",
   "execution_count": 23,
   "id": "a2962843-0833-4739-81c1-7cec99e5eb71",
   "metadata": {},
   "outputs": [
    {
     "data": {
      "text/plain": [
       "9"
      ]
     },
     "execution_count": 23,
     "metadata": {},
     "output_type": "execute_result"
    }
   ],
   "source": [
    "rng.integers(10)"
   ]
  },
  {
   "cell_type": "code",
   "execution_count": 24,
   "id": "2a68bd3f-0569-4522-8970-a3f26bd1d31c",
   "metadata": {},
   "outputs": [
    {
     "data": {
      "text/plain": [
       "True"
      ]
     },
     "execution_count": 24,
     "metadata": {},
     "output_type": "execute_result"
    }
   ],
   "source": [
    "1 << 32 == 2 ** 32"
   ]
  },
  {
   "cell_type": "code",
   "execution_count": 25,
   "id": "f5936c05-8b56-4791-a3bd-4ae8b50486a7",
   "metadata": {},
   "outputs": [
    {
     "data": {
      "text/plain": [
       "array([   0.43746448,   -1.64065174,   -1.79661854, -296.4494744 ,\n",
       "          1.40206239,   -5.39169107,  -35.59144469,    0.38709854,\n",
       "         -6.30432039,    1.66023703])"
      ]
     },
     "execution_count": 25,
     "metadata": {},
     "output_type": "execute_result"
    }
   ],
   "source": [
    "gen.rvs(a=1e-3, T=5320, size=10)"
   ]
  },
  {
   "cell_type": "code",
   "execution_count": 1,
   "id": "d919d432-dbec-4e2c-8dab-c5c38712d95b",
   "metadata": {},
   "outputs": [],
   "source": [
    "from libs.optimizers.algorithms.simulated_annealing import (\n",
    "    generalized_simulated_annealing,\n",
    ")\n",
    "import numpy as np\n",
    "\n",
    "rng = np.random.default_rng()"
   ]
  },
  {
   "cell_type": "code",
   "execution_count": 2,
   "id": "01d9d18c-4274-4fd9-b644-615076013ed8",
   "metadata": {},
   "outputs": [
    {
     "name": "stdout",
     "output_type": "stream",
     "text": [
      "f(initial_sol) = 14156.165435409499\n"
     ]
    },
    {
     "name": "stderr",
     "output_type": "stream",
     "text": [
      "C:\\Users\\obszansk\\my\\bachelor-thesis-project\\.venv\\lib\\site-packages\\scipy\\stats\\_distn_infrastructure.py:1837: IntegrationWarning: The integral is probably divergent, or slowly convergent.\n",
      "  return integrate.quad(self._pdf, _a, x, args=args)[0]\n"
     ]
    },
    {
     "name": "stdout",
     "output_type": "stream",
     "text": [
      "sol_obj = 14156.165435409499, info = {'iterations': 10}\n"
     ]
    }
   ],
   "source": [
    "N = 100\n",
    "\n",
    "\n",
    "def f(x: np.ndarray) -> float:\n",
    "    return np.square(x).sum()\n",
    "\n",
    "\n",
    "bnds = np.array([[-10, 10]] * N)\n",
    "initial_sol = rng.random(size=len(bnds)) * (bnds[:, 1] - bnds[:, 0])\n",
    "print(f\"{f(initial_sol) = }\")\n",
    "\n",
    "sol, sol_obj, info, rng = generalized_simulated_annealing(\n",
    "    f=f,\n",
    "    bounds=bnds,\n",
    "    rng=rng,\n",
    "    iter_max=10,\n",
    "    initial_temp=5230,\n",
    "    initial_sol=initial_sol,\n",
    "    early_stop_iters=100,\n",
    "    alpha=0.9,\n",
    "    beta=0.9,\n",
    "    a=1e-3,\n",
    ")\n",
    "print(f\"{sol_obj = }, {info = }\")"
   ]
  },
  {
   "cell_type": "code",
   "execution_count": 3,
   "id": "0b002705-6697-46c7-b314-3b77b0629b01",
   "metadata": {},
   "outputs": [],
   "source": [
    "out = {\"?\": 42}\n",
    "\n",
    "\n",
    "def f1():\n",
    "    out[\"?\"]\n",
    "\n",
    "\n",
    "def f2():\n",
    "    d = {\"?\": 42}\n",
    "    d[\"?\"]"
   ]
  },
  {
   "cell_type": "code",
   "execution_count": 6,
   "id": "0cd026b0-b73c-4a26-91cb-a65720bc8749",
   "metadata": {},
   "outputs": [
    {
     "name": "stdout",
     "output_type": "stream",
     "text": [
      "66.9 ns ± 0.239 ns per loop (mean ± std. dev. of 7 runs, 10000000 loops each)\n"
     ]
    }
   ],
   "source": [
    "%timeit f1()"
   ]
  },
  {
   "cell_type": "code",
   "execution_count": 7,
   "id": "d356a5a0-fc85-48e9-adb0-97f46ac22ab6",
   "metadata": {},
   "outputs": [
    {
     "name": "stdout",
     "output_type": "stream",
     "text": [
      "109 ns ± 1.34 ns per loop (mean ± std. dev. of 7 runs, 10000000 loops each)\n"
     ]
    }
   ],
   "source": [
    "%timeit f2()"
   ]
  },
  {
   "cell_type": "code",
   "execution_count": 16,
   "id": "0511f2cc-0a9f-495a-acd3-8768c6e2a083",
   "metadata": {},
   "outputs": [],
   "source": [
    "import numpy as np\n",
    "import seaborn as sns\n",
    "from scipy.stats import poisson\n",
    "import matplotlib.pyplot as plt"
   ]
  },
  {
   "cell_type": "code",
   "execution_count": 21,
   "id": "7818f0ae-4998-49bc-9b9f-3b752b7b532a",
   "metadata": {},
   "outputs": [
    {
     "data": {
      "image/png": "[encoded data removed]",
      "text/plain": [
       "<Figure size 432x288 with 5 Axes>"
      ]
     },
     "metadata": {
      "needs_background": "light"
     },
     "output_type": "display_data"
    }
   ],
   "source": [
    "xs = np.arange(0, 10)\n",
    "ys = []\n",
    "for mu in range(1, 6):\n",
    "    ys.append(poisson.pmf(xs, mu=mu))\n",
    "fig, axs = plt.subplots(nrows=len(ys))\n",
    "for ax, y in zip(axs, ys):\n",
    "    sns.lineplot(x=xs, y=y, ax=ax)\n",
    "    ax.set_title(f\"{mu = :.2f}\")"
   ]
  },
  {
   "cell_type": "code",
   "execution_count": null,
   "id": "46ac0beb-1870-4c57-a957-aef4eaaf9478",
   "metadata": {},
   "outputs": [],
   "source": []
  }
 ],
 "metadata": {
  "kernelspec": {
   "display_name": "Python 3 (ipykernel)",
   "language": "python",
   "name": "python3"
  },
  "language_info": {
   "codemirror_mode": {
    "name": "ipython",
    "version": 3
   },
   "file_extension": ".py",
   "mimetype": "text/x-python",
   "name": "python",
   "nbconvert_exporter": "python",
   "pygments_lexer": "ipython3",
   "version": "3.9.9"
  }
 },
 "nbformat": 4,
 "nbformat_minor": 5
}
