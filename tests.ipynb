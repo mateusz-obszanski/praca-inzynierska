{
 "cells": [
  {
   "cell_type": "code",
   "execution_count": 1,
   "id": "23ea37dc-bcf3-4b79-8b6c-cf18985b96b9",
   "metadata": {},
   "outputs": [],
   "source": [
    "import numpy as np\n",
    "import seaborn as sns\n",
    "import matplotlib.pyplot as plt\n",
    "import more_itertools as mit"
   ]
  },
  {
   "cell_type": "code",
   "execution_count": 2,
   "id": "d7705db0-3d4e-42bf-a61a-9a89fbc923a3",
   "metadata": {},
   "outputs": [],
   "source": [
    "from libs.solution.initial_solution_creators.heuristic import *\n",
    "from libs.solution.initial_solution_creators.random import *\n",
    "from libs.utils.matrix import extend_cost_mx\n",
    "from libs.optimizers.algorithms.genetic.operators.fixers import *\n",
    "from libs.optimizers.algorithms.genetic.operators.mutations import *\n",
    "from libs.optimizers.algorithms.genetic.operators.crossovers import *\n",
    "from libs.environment.cost_calculators import *\n",
    "from libs.optimizers.algorithms.genetic.population.parent_selectors import *\n",
    "from libs.optimizers.algorithms.genetic.population.natural_selection import *"
   ]
  },
  {
   "cell_type": "code",
   "execution_count": 3,
   "id": "adb82006-3821-4e41-b518-c7922b2f9b86",
   "metadata": {},
   "outputs": [],
   "source": [
    "rng = np.random.default_rng()\n",
    "initial_vx = 0\n",
    "forbidden_val = -1\n",
    "salesman_n = 3\n",
    "vehicle_volume = 10\n",
    "fix_max_add_iters = 100\n",
    "fix_max_retries = 1\n",
    "forbidding_p = 0.15\n",
    "default_quantity = 0.1"
   ]
  },
  {
   "cell_type": "code",
   "execution_count": 4,
   "id": "dc58a4d8-a3ad-45fe-ba33-6bc4f7ac9e85",
   "metadata": {},
   "outputs": [
    {
     "data": {
      "text/plain": [
       "<AxesSubplot:>"
      ]
     },
     "execution_count": 4,
     "metadata": {},
     "output_type": "execute_result"
    },
    {
     "data": {
      "image/png": "[encoded data removed]",
      "text/plain": [
       "<Figure size 432x288 with 2 Axes>"
      ]
     },
     "metadata": {
      "needs_background": "light"
     },
     "output_type": "display_data"
    }
   ],
   "source": [
    "N = 10\n",
    "dist_mx = rng.integers(1, 10, size=(N, N))\n",
    "np.fill_diagonal(dist_mx, forbidden_val)\n",
    "sns.heatmap(dist_mx)"
   ]
  },
  {
   "cell_type": "code",
   "execution_count": 5,
   "id": "d372b1d2-3804-46e4-b57a-c0ce99777178",
   "metadata": {},
   "outputs": [
    {
     "data": {
      "text/plain": [
       "<AxesSubplot:>"
      ]
     },
     "execution_count": 5,
     "metadata": {},
     "output_type": "execute_result"
    },
    {
     "data": {
      "image/png": "[encoded data removed]",
      "text/plain": [
       "<Figure size 432x288 with 2 Axes>"
      ]
     },
     "metadata": {
      "needs_background": "light"
     },
     "output_type": "display_data"
    }
   ],
   "source": [
    "ext_dist_mx = extend_cost_mx(dist_mx, copy_n=salesman_n - 1, to_copy_ix=0)\n",
    "ini_and_dummy_vxs = {initial_vx, *range(salesman_n)}\n",
    "sns.heatmap(ext_dist_mx)"
   ]
  },
  {
   "cell_type": "markdown",
   "id": "e8f7709e-7df5-4b29-8810-e59bbb56fe56",
   "metadata": {},
   "source": [
    "## Solution generators"
   ]
  },
  {
   "cell_type": "code",
   "execution_count": 7,
   "id": "459afc37-f0c4-4d35-bb94-684a9ac2a60f",
   "metadata": {},
   "outputs": [
    {
     "data": {
      "text/plain": [
       "([0, 9, 1, 7, 4, 5, 3, 8, 6, 2, 0], True)"
      ]
     },
     "execution_count": 7,
     "metadata": {},
     "output_type": "execute_result"
    }
   ],
   "source": [
    "sol_tsp_r, rng = create_tsp_sol_rand(dist_mx, initial_vx, rng)\n",
    "sol_tsp_r, check_chromosome_tsp(sol_tsp_r, dist_mx, initial_vx, forbidden_val)"
   ]
  },
  {
   "cell_type": "code",
   "execution_count": 8,
   "id": "ba728bb1-388e-42c4-826c-e49ac4e91b8f",
   "metadata": {},
   "outputs": [
    {
     "data": {
      "text/plain": [
       "([0, 6, 7, 1, 9, 2, 5, 8, 3, 4, 0], True)"
      ]
     },
     "execution_count": 8,
     "metadata": {},
     "output_type": "execute_result"
    }
   ],
   "source": [
    "sol_tsp_h = create_tsp_sol_nn(dist_mx, initial_vx, forbidden_val)\n",
    "sol_tsp_h, check_chromosome_tsp(sol_tsp_h, dist_mx, initial_vx, forbidden_val)"
   ]
  },
  {
   "cell_type": "code",
   "execution_count": 9,
   "id": "8ac93455-4f21-4155-b154-947f7139575f",
   "metadata": {},
   "outputs": [
    {
     "data": {
      "text/plain": [
       "([0, 6, 10, 7, 1, 8, 11, 4, 2, 3, 5, 9, 0], True)"
      ]
     },
     "execution_count": 9,
     "metadata": {},
     "output_type": "execute_result"
    }
   ],
   "source": [
    "sol_vrp_r, rng = create_vrp_sol_rand(\n",
    "    ext_dist_mx, initial_vx, rng, ini_and_dummy_vxs, regular_vx_division=True\n",
    ")\n",
    "sol_vrp_r, check_chromosome_tsp(sol_vrp_r, ext_dist_mx, initial_vx, forbidden_val)"
   ]
  },
  {
   "cell_type": "code",
   "execution_count": 10,
   "id": "f0b9f362-bd3e-44ff-ac0e-2700933a99ed",
   "metadata": {},
   "outputs": [
    {
     "data": {
      "text/plain": [
       "([0, 8, 9, 3, 11, 4, 1, 7, 10, 2, 5, 6, 0], True)"
      ]
     },
     "execution_count": 10,
     "metadata": {},
     "output_type": "execute_result"
    }
   ],
   "source": [
    "sol_vrp_h = create_tsp_sol_nn(ext_dist_mx, initial_vx, forbidden_val)\n",
    "sol_vrp_h, check_chromosome_tsp(sol_vrp_h, ext_dist_mx, initial_vx, forbidden_val)"
   ]
  },
  {
   "cell_type": "code",
   "execution_count": 11,
   "id": "95ec9667-f28d-48f4-8bd9-c7e00a58ef13",
   "metadata": {},
   "outputs": [
    {
     "data": {
      "text/plain": [
       "([0, 7, 9, 4, 1, 8, 5, 6, 2, 11, 10, 3, 0],\n",
       " [0.0,\n",
       "  0.7653439674941728,\n",
       "  1.906321856030984,\n",
       "  2.2495212980602908,\n",
       "  0.0,\n",
       "  2.5665205890743596,\n",
       "  0.49082805270100355,\n",
       "  0.12467495430483413,\n",
       "  0.0,\n",
       "  0.6093183320016428,\n",
       "  0.8639899136132194,\n",
       "  0.4234810367194918,\n",
       "  0.0],\n",
       " True)"
      ]
     },
     "execution_count": 11,
     "metadata": {},
     "output_type": "execute_result"
    }
   ],
   "source": [
    "sol_irp_seq_r, sol_irp_qs_r, rng = create_irp_sol_rand(\n",
    "    ext_dist_mx,\n",
    "    initial_vx,\n",
    "    rng,\n",
    "    ini_and_dummy_vxs,\n",
    "    vehicle_volume,\n",
    "    regular_vx_division=True,\n",
    ")\n",
    "sol_irp_seq_r, sol_irp_qs_r.tolist(), check_chromosome_tsp(\n",
    "    sol_irp_seq_r, ext_dist_mx, initial_vx, forbidden_val\n",
    ")"
   ]
  },
  {
   "cell_type": "code",
   "execution_count": 12,
   "id": "bfd4cb6a-aaae-487a-9f1f-a0a4d8d3cc4d",
   "metadata": {},
   "outputs": [],
   "source": [
    "mask = rng.random(size=dist_mx.shape) < forbidding_p\n",
    "mask_ext = rng.random(size=ext_dist_mx.shape) < forbidding_p\n",
    "masked_dist_mx = dist_mx.copy()\n",
    "masked_ext_dist_mx = ext_dist_mx.copy()\n",
    "masked_dist_mx[mask] = forbidden_val\n",
    "masked_ext_dist_mx[mask_ext] = forbidden_val"
   ]
  },
  {
   "cell_type": "markdown",
   "id": "1f34d2a6-ca41-4b31-b9b0-515f6e2eead0",
   "metadata": {},
   "source": [
    "## Fixers"
   ]
  },
  {
   "cell_type": "code",
   "execution_count": 13,
   "id": "1c804494-2a75-49c8-9662-0a735db96480",
   "metadata": {},
   "outputs": [],
   "source": [
    "from time import perf_counter\n",
    "\n",
    "\n",
    "def fixer_check_tsp(\n",
    "    masked_dist_mx: np.ndarray, rng: np.random.Generator, iter_n: int = 1000\n",
    "):\n",
    "    no_of_failures = 0\n",
    "    total_t = 0\n",
    "    for i in range(iter_n):\n",
    "        initial_vx = 0\n",
    "        vx_pool = list(range(1, len(masked_dist_mx)))\n",
    "        to_exclude = 3\n",
    "        rand_ixs = (\n",
    "            [3]\n",
    "            + list(\n",
    "                rng.choice(\n",
    "                    [x for x in vx_pool if x != to_exclude],\n",
    "                    size=len(masked_dist_mx) - 1,\n",
    "                )\n",
    "            )\n",
    "            + [initial_vx]\n",
    "        )\n",
    "        try:\n",
    "            t0 = perf_counter()\n",
    "            fixed_ch, fix_status = fix_tsp(\n",
    "                rand_ixs,\n",
    "                masked_dist_mx,\n",
    "                initial_vx,\n",
    "                forbidden_val,\n",
    "                fix_max_add_iters,\n",
    "                fix_max_retries,\n",
    "            )\n",
    "            total_t += perf_counter() - t0\n",
    "        except Exception as e:\n",
    "            print(f\"exception at iteration {i}/{iter_n}\")\n",
    "            raise e\n",
    "        if not fix_status:\n",
    "            no_of_failures += 1\n",
    "\n",
    "    print(f\"{no_of_failures = } / {iter_n}\")\n",
    "    print(f\"fail_rate: {no_of_failures / iter_n * 100:.2f}%\")\n",
    "    print(f\"mean time: {total_t / (iter_n - no_of_failures)}\\ntotal time: {total_t}\")\n",
    "\n",
    "\n",
    "def fixer_check_sdvrp(\n",
    "    masked_dist_mx: np.ndarray, rng: np.random.Generator, iter_n: int = 1000\n",
    "):\n",
    "    no_of_failures = 0\n",
    "    total_t = 0\n",
    "    for i in range(iter_n):\n",
    "        initial_vx = 0\n",
    "        vx_pool = list(range(1, len(masked_dist_mx)))\n",
    "        to_exclude = 3\n",
    "        rand_ixs = (\n",
    "            [3]\n",
    "            + list(\n",
    "                rng.choice(\n",
    "                    [x for x in vx_pool if x != to_exclude],\n",
    "                    size=len(masked_dist_mx) - 1,\n",
    "                )\n",
    "            )\n",
    "            + [initial_vx]\n",
    "        )\n",
    "        try:\n",
    "            t0 = perf_counter()\n",
    "            fixed_ch, fix_status = fix_sdvrp(\n",
    "                rand_ixs,\n",
    "                masked_dist_mx,\n",
    "                initial_vx,\n",
    "                forbidden_val,\n",
    "                fix_max_add_iters,\n",
    "                fix_max_retries,\n",
    "            )\n",
    "            total_t += perf_counter() - t0\n",
    "        except Exception as e:\n",
    "            print(f\"exception at iteration {i}/{iter_n}\")\n",
    "            raise e\n",
    "        if not fix_status:\n",
    "            no_of_failures += 1\n",
    "\n",
    "    print(f\"{no_of_failures = } / {iter_n}\")\n",
    "    print(f\"fail_rate: {no_of_failures / iter_n * 100:.2f}%\")\n",
    "    print(f\"mean time: {total_t / (iter_n - no_of_failures)}\\ntotal time: {total_t}\")\n",
    "\n",
    "\n",
    "def fixer_check_irp(\n",
    "    masked_dist_mx: np.ndarray, rng: np.random.Generator, iter_n: int = 1000\n",
    "):\n",
    "    no_of_failures = 0\n",
    "    total_t = 0\n",
    "    for i in range(iter_n):\n",
    "        initial_vx = 0\n",
    "        vx_pool = list(range(1, len(masked_dist_mx)))\n",
    "        to_exclude = 3\n",
    "        rand_ixs = (\n",
    "            [3]\n",
    "            + list(\n",
    "                rng.choice(\n",
    "                    [x for x in vx_pool if x != to_exclude],\n",
    "                    size=len(masked_dist_mx) - 1,\n",
    "                )\n",
    "            )\n",
    "            + [initial_vx]\n",
    "        )\n",
    "        rand_qs = rng.random(size=len(rand_ixs)).tolist()\n",
    "        try:\n",
    "            t0 = perf_counter()\n",
    "            fixed_seq, fixed_qs, fix_status = fix_irp(\n",
    "                rand_ixs,\n",
    "                masked_dist_mx,\n",
    "                initial_vx,\n",
    "                forbidden_val,\n",
    "                fix_max_add_iters,\n",
    "                fix_max_retries,\n",
    "                default_quantity=default_quantity,\n",
    "                quantities=rand_qs,\n",
    "            )\n",
    "            total_t += perf_counter() - t0\n",
    "        except Exception as e:\n",
    "            print(f\"exception at iteration {i}/{iter_n}\")\n",
    "            raise e\n",
    "        if not fix_status:\n",
    "            no_of_failures += 1\n",
    "\n",
    "    print(f\"{no_of_failures = } / {iter_n}\")\n",
    "    print(f\"fail_rate: {no_of_failures / iter_n * 100:.2f}%\")\n",
    "    print(f\"mean time: {total_t / (iter_n - no_of_failures)}\\ntotal time: {total_t}\")"
   ]
  },
  {
   "cell_type": "code",
   "execution_count": 14,
   "id": "89dae111-8aa6-4640-ad87-d9b2f20332d6",
   "metadata": {},
   "outputs": [],
   "source": [
    "ITER_N = 10000"
   ]
  },
  {
   "cell_type": "code",
   "execution_count": 15,
   "id": "f7553cfb-d6c0-495d-911b-8d97b8d4dd62",
   "metadata": {},
   "outputs": [
    {
     "name": "stdout",
     "output_type": "stream",
     "text": [
      "no_of_failures = 3 / 10000\n",
      "fail_rate: 0.03%\n",
      "mean time: 0.00010660908272481866\n",
      "total time: 1.0657710000000122\n"
     ]
    }
   ],
   "source": [
    "fixer_check_tsp(masked_dist_mx, rng, iter_n=ITER_N)"
   ]
  },
  {
   "cell_type": "code",
   "execution_count": 16,
   "id": "48a02686-69eb-4bd8-9835-3c16dfce2e4f",
   "metadata": {},
   "outputs": [
    {
     "name": "stdout",
     "output_type": "stream",
     "text": [
      "no_of_failures = 29 / 10000\n",
      "fail_rate: 0.29%\n",
      "mean time: 0.00015629544679573667\n",
      "total time: 1.5584219000002903\n"
     ]
    }
   ],
   "source": [
    "# for vrp the same fixer is appropriate\n",
    "fixer_check_tsp(masked_ext_dist_mx, rng, iter_n=ITER_N)"
   ]
  },
  {
   "cell_type": "code",
   "execution_count": 17,
   "id": "164b6a8c-81c2-49c3-a5c7-a3538f0b86fe",
   "metadata": {},
   "outputs": [
    {
     "name": "stdout",
     "output_type": "stream",
     "text": [
      "no_of_failures = 13 / 10000\n",
      "fail_rate: 0.13%\n",
      "mean time: 7.197362571338849e-05\n",
      "total time: 0.7188005999996108\n"
     ]
    }
   ],
   "source": [
    "fixer_check_sdvrp(masked_ext_dist_mx, rng, iter_n=ITER_N)"
   ]
  },
  {
   "cell_type": "code",
   "execution_count": 18,
   "id": "d674f5c9-c5a3-468d-8c3e-2e45373ed2b9",
   "metadata": {},
   "outputs": [
    {
     "name": "stdout",
     "output_type": "stream",
     "text": [
      "no_of_failures = 12 / 10000\n",
      "fail_rate: 0.12%\n",
      "mean time: 7.08948338005616e-05\n",
      "total time: 0.7080976000000092\n"
     ]
    }
   ],
   "source": [
    "fixer_check_irp(masked_ext_dist_mx, rng, iter_n=ITER_N)\n",
    "\n",
    "# print(f\"seq: {fvxs}\")\n",
    "# print(\",\".join(f\"({x}:{y:.2f})\" for x, y in zip(fvxs, fqs)))\n",
    "# print([masked_ext_dist_mx[a, b] for a, b in mit.windowed(fvxs, n=2)])\n",
    "# print(f\"doubles? [{set(fvxs) == set(range(masked_ext_dist_mx.shape[0]))}]\")"
   ]
  },
  {
   "cell_type": "markdown",
   "id": "04b12036-3ee4-42c1-958a-837141e8a0f2",
   "metadata": {},
   "source": [
    "## Mutations"
   ]
  },
  {
   "cell_type": "code",
   "execution_count": 19,
   "id": "0dc61693-0847-4f74-a628-f1ea28cf0b76",
   "metadata": {},
   "outputs": [
    {
     "data": {
      "text/plain": [
       "array([ 0,  1,  2,  3,  4,  5,  6,  7,  8,  9, 10,  0])"
      ]
     },
     "execution_count": 19,
     "metadata": {},
     "output_type": "execute_result"
    }
   ],
   "source": [
    "c_mid = np.arange(1, 11)\n",
    "c = np.array([0] + c_mid.tolist() + [0])\n",
    "c"
   ]
  },
  {
   "cell_type": "code",
   "execution_count": 20,
   "id": "ed61743d-ee88-43ad-9834-58a4570b9df7",
   "metadata": {},
   "outputs": [
    {
     "data": {
      "text/plain": [
       "(array([ 5,  6,  2,  3,  4,  8,  1,  7,  0,  9, 10,  0]),\n",
       " Generator(PCG64) at 0x1A4D18C62E0)"
      ]
     },
     "execution_count": 20,
     "metadata": {},
     "output_type": "execute_result"
    }
   ],
   "source": [
    "mutate_swap(c.copy(), p=0.2, rng=rng)"
   ]
  },
  {
   "cell_type": "code",
   "execution_count": 21,
   "id": "2cd19913-8feb-4d01-bd74-ab997b1d84db",
   "metadata": {},
   "outputs": [
    {
     "data": {
      "text/plain": [
       "(array([ 0,  1,  2,  3,  4,  5, -1,  7, -1, -1, 10, -1]),\n",
       " Generator(PCG64) at 0x1A4D18C62E0)"
      ]
     },
     "execution_count": 21,
     "metadata": {},
     "output_type": "execute_result"
    }
   ],
   "source": [
    "mutate_del(c.copy(), p=0.2, rng=rng, fillval=-1)"
   ]
  },
  {
   "cell_type": "code",
   "execution_count": 22,
   "id": "9a5cf40f-1eb2-45dd-a3c9-7731133f5da6",
   "metadata": {},
   "outputs": [
    {
     "data": {
      "text/plain": [
       "(array([ 6,  0,  6,  1,  2,  3,  4,  5,  9,  6,  7,  8,  9, 10,  0]),\n",
       " Generator(PCG64) at 0x1A4D18C62E0)"
      ]
     },
     "execution_count": 22,
     "metadata": {},
     "output_type": "execute_result"
    }
   ],
   "source": [
    "mutate_insert(\n",
    "    c.copy(),\n",
    "    p=0.2,\n",
    "    rng=rng,\n",
    "    rand_range=(1, c.max()),\n",
    "    ini_and_dummy_vxs={0, 1},\n",
    "    fillval=-1,\n",
    ")"
   ]
  },
  {
   "cell_type": "code",
   "execution_count": 23,
   "id": "f4da17a6-750d-4c6b-86e9-f3ca974819d6",
   "metadata": {},
   "outputs": [
    {
     "data": {
      "text/plain": [
       "array([0.56803724, 0.74589111, 0.53721028, 0.22209232, 0.67269851,\n",
       "       0.25584406, 0.59085444, 0.25153294, 0.42900116, 0.86131097,\n",
       "       0.75848044, 0.77020519])"
      ]
     },
     "execution_count": 23,
     "metadata": {},
     "output_type": "execute_result"
    }
   ],
   "source": [
    "qs = rng.random(size=c.shape)\n",
    "qs"
   ]
  },
  {
   "cell_type": "code",
   "execution_count": 24,
   "id": "f5d7bd00-106c-465a-ba4d-9daf478765d7",
   "metadata": {},
   "outputs": [
    {
     "data": {
      "text/plain": [
       "(array([ 0,  1,  2,  3,  4,  5,  6,  7,  8,  0, 10,  9]),\n",
       " array([0.56803724, 0.74589111, 0.53721028, 0.22209232, 0.67269851,\n",
       "        0.25584406, 0.59085444, 0.25153294, 0.42900116, 0.77020519,\n",
       "        0.75848044, 0.86131097]),\n",
       " Generator(PCG64) at 0x1A4D18C62E0)"
      ]
     },
     "execution_count": 24,
     "metadata": {},
     "output_type": "execute_result"
    }
   ],
   "source": [
    "mutate_swap_irp(c.copy(), p=0.2, rng=rng, quantities=qs.copy())"
   ]
  },
  {
   "cell_type": "code",
   "execution_count": 25,
   "id": "3da07131-6357-4c7b-b874-76b38794a168",
   "metadata": {},
   "outputs": [
    {
     "data": {
      "text/plain": [
       "(array([ 0,  1,  2,  3,  4,  5,  6,  7,  8,  9, -1, -1]),\n",
       " Generator(PCG64) at 0x1A4D18C62E0)"
      ]
     },
     "execution_count": 25,
     "metadata": {},
     "output_type": "execute_result"
    }
   ],
   "source": [
    "mutate_del_irp(c.copy(), p=0.2, rng=rng, quantities=qs.copy(), fillval=-1)"
   ]
  },
  {
   "cell_type": "code",
   "execution_count": 26,
   "id": "39d17784-cdd3-480e-96e8-f88b028d2fcd",
   "metadata": {},
   "outputs": [
    {
     "data": {
      "text/plain": [
       "(array([-1.,  8., -1., -1., -1.,  9., -1., -1., -1.,  8., -1., -1.]),\n",
       " array([-1.,  8., -1., -1., -1.,  9., -1., -1., -1.,  8., -1., -1.]),\n",
       " Generator(PCG64) at 0x1A4D18C62E0)"
      ]
     },
     "execution_count": 26,
     "metadata": {},
     "output_type": "execute_result"
    }
   ],
   "source": [
    "mutate_insert_irp(\n",
    "    # c.copy(),\n",
    "    -np.ones(shape=c.shape),\n",
    "    p=0.2,\n",
    "    rng=rng,\n",
    "    quantities=qs,\n",
    "    fillval=-1,\n",
    "    rand_vx_range=(1, c.shape[0] - 2),\n",
    "    ini_and_dummy_vxs={0, 1},\n",
    "    rand_quantity_range=(0.1, 0.5),\n",
    ")"
   ]
  },
  {
   "cell_type": "markdown",
   "id": "15852307-10bc-4b7b-a8e4-95afb708335d",
   "metadata": {},
   "source": [
    "## Crossovers"
   ]
  },
  {
   "cell_type": "code",
   "execution_count": 27,
   "id": "ec025dbc-e43b-4312-9c06-5418a94585a7",
   "metadata": {},
   "outputs": [
    {
     "data": {
      "text/plain": [
       "array([0, 1, 2, 3, 4, 5, 6, 7, 8, 9, 0], dtype=int64)"
      ]
     },
     "execution_count": 27,
     "metadata": {},
     "output_type": "execute_result"
    }
   ],
   "source": [
    "p1 = np.fromiter((0, *range(1, 10), 0), dtype=np.int64)\n",
    "p2 = np.fromiter(reversed(p1), dtype=np.int64)\n",
    "p1"
   ]
  },
  {
   "cell_type": "code",
   "execution_count": 28,
   "id": "be84fbc5-608f-4233-aae2-2452684f7947",
   "metadata": {},
   "outputs": [
    {
     "data": {
      "text/plain": [
       "array([0, 9, 8, 7, 6, 5, 4, 3, 2, 1, 0], dtype=int64)"
      ]
     },
     "execution_count": 28,
     "metadata": {},
     "output_type": "execute_result"
    }
   ],
   "source": [
    "p2"
   ]
  },
  {
   "cell_type": "code",
   "execution_count": 29,
   "id": "4286c98f-0f30-4bb1-9111-ab1a9d1a7b39",
   "metadata": {},
   "outputs": [
    {
     "data": {
      "text/plain": [
       "(array([0, 1, 2, 3, 4, 5, 4, 3, 2, 1, 0], dtype=int64),\n",
       " array([0, 9, 8, 7, 6, 5, 6, 7, 8, 9, 0], dtype=int64))"
      ]
     },
     "execution_count": 29,
     "metadata": {},
     "output_type": "execute_result"
    }
   ],
   "source": [
    "c1, c2, rng = crossover_ndarray(p1, p2, rng)\n",
    "c1, c2"
   ]
  },
  {
   "cell_type": "code",
   "execution_count": 30,
   "id": "763bc166-73fb-4bdd-977f-3226e6598504",
   "metadata": {},
   "outputs": [
    {
     "data": {
      "text/plain": [
       "(array([0, 1, 8, 7, 6, 5, 4, 7, 8, 1, 0], dtype=int64),\n",
       " array([0, 9, 2, 3, 4, 5, 6, 3, 2, 9, 0], dtype=int64))"
      ]
     },
     "execution_count": 30,
     "metadata": {},
     "output_type": "execute_result"
    }
   ],
   "source": [
    "c1, c2, rng = crossover_k_loci_ndarray(p1, p2, rng, k=3)\n",
    "c1, c2"
   ]
  },
  {
   "cell_type": "code",
   "execution_count": 31,
   "id": "4259cce9-8c7f-430f-b103-95a918644ce0",
   "metadata": {},
   "outputs": [
    {
     "data": {
      "text/plain": [
       "(array([0, 1, 2, 3, 4, 5, 4, 3, 2, 1, 0], dtype=int64),\n",
       " array([0, 9, 8, 7, 6, 5, 6, 7, 8, 9, 0], dtype=int64))"
      ]
     },
     "execution_count": 31,
     "metadata": {},
     "output_type": "execute_result"
    }
   ],
   "source": [
    "c1, c2, rng = crossover_k_loci_poisson_ndarray(p1, p2, rng, lam=1)\n",
    "c1, c2"
   ]
  },
  {
   "cell_type": "code",
   "execution_count": 32,
   "id": "fa9bce3f-cd54-425c-bdc4-520ac0949ec2",
   "metadata": {},
   "outputs": [
    {
     "data": {
      "text/plain": [
       "(array([ 0,  1,  2,  3, -6, -5,  6,  7, -2, -1,  0], dtype=int64),\n",
       " array([ 0, -9, -8, -7,  5,  4, -4, -3,  0,  9,  8], dtype=int64))"
      ]
     },
     "execution_count": 32,
     "metadata": {},
     "output_type": "execute_result"
    }
   ],
   "source": [
    "c1, c2, rng = crossover_k_loci_with_inversion_ndarray(\n",
    "    p1, -p2, rng, k=3, inversion_p=0.5\n",
    ")\n",
    "c1, c2"
   ]
  },
  {
   "cell_type": "code",
   "execution_count": 33,
   "id": "8b8ec142-3372-452e-9378-09c4b16011c9",
   "metadata": {},
   "outputs": [
    {
     "data": {
      "text/plain": [
       "(array([ 0,  1,  2, -6, -7,  7,  6,  5, -2, -1,  0], dtype=int64),\n",
       " array([-8, -9,  0,  4,  3, -3, -4, -5,  8,  9,  0], dtype=int64))"
      ]
     },
     "execution_count": 33,
     "metadata": {},
     "output_type": "execute_result"
    }
   ],
   "source": [
    "c1, c2, rng = crossover_k_loci_poisson_with_inversion_ndarray(\n",
    "    p1, -p2, rng, lam=1, inversion_p=0.5\n",
    ")\n",
    "c1, c2"
   ]
  },
  {
   "cell_type": "markdown",
   "id": "2a29f077-2f36-4111-b559-e0e27e70dac5",
   "metadata": {},
   "source": [
    "### IRP"
   ]
  },
  {
   "cell_type": "code",
   "execution_count": 34,
   "id": "a924167d-5791-4236-95ff-8233ecda8411",
   "metadata": {},
   "outputs": [
    {
     "data": {
      "text/plain": [
       "array([[0. , 1. , 2. , 3. , 4. , 5. , 6. , 7. , 8. , 9. , 0. ],\n",
       "       [0. , 0.1, 0.2, 0.3, 0.4, 0.5, 0.6, 0.7, 0.8, 0.9, 1. ]])"
      ]
     },
     "execution_count": 34,
     "metadata": {},
     "output_type": "execute_result"
    }
   ],
   "source": [
    "s1 = np.fromiter((0, *range(1, 10), 0), dtype=np.int64)\n",
    "s2 = np.fromiter(reversed(s1), dtype=np.int64)\n",
    "qs1 = np.linspace(0, 1, s1.shape[0])\n",
    "qs2 = -qs1.copy()\n",
    "p1 = np.stack((s1, qs1), axis=1)\n",
    "p2 = np.stack((s2, qs2), axis=1)\n",
    "p1.T"
   ]
  },
  {
   "cell_type": "code",
   "execution_count": 35,
   "id": "e0415a48-aa8d-42d9-8c36-270cad27b134",
   "metadata": {},
   "outputs": [
    {
     "data": {
      "text/plain": [
       "array([[ 0. ,  9. ,  8. ,  7. ,  6. ,  5. ,  4. ,  3. ,  2. ,  1. ,  0. ],\n",
       "       [-0. , -0.1, -0.2, -0.3, -0.4, -0.5, -0.6, -0.7, -0.8, -0.9, -1. ]])"
      ]
     },
     "execution_count": 35,
     "metadata": {},
     "output_type": "execute_result"
    }
   ],
   "source": [
    "p2.T"
   ]
  },
  {
   "cell_type": "code",
   "execution_count": 36,
   "id": "429b3dee-e6e8-4745-93ca-9806535b0675",
   "metadata": {},
   "outputs": [
    {
     "data": {
      "text/plain": [
       "(array([[ 0. ,  1. ,  2. ,  3. ,  4. ,  5. ,  6. ,  3. ,  2. ,  1. ,  0. ],\n",
       "        [ 0. ,  0.1,  0.2,  0.3,  0.4,  0.5,  0.6, -0.7, -0.8, -0.9, -1. ]]),\n",
       " array([[ 0. ,  9. ,  8. ,  7. ,  6. ,  5. ,  4. ,  7. ,  8. ,  9. ,  0. ],\n",
       "        [-0. , -0.1, -0.2, -0.3, -0.4, -0.5, -0.6,  0.7,  0.8,  0.9,  1. ]]))"
      ]
     },
     "execution_count": 36,
     "metadata": {},
     "output_type": "execute_result"
    }
   ],
   "source": [
    "c1, c2, rng = crossover_ndarray(p1, p2, rng)\n",
    "c1.T, c2.T"
   ]
  },
  {
   "cell_type": "code",
   "execution_count": 37,
   "id": "b5a64385-d7dc-4102-b845-1dadee3aab5a",
   "metadata": {},
   "outputs": [
    {
     "data": {
      "text/plain": [
       "(array([[ 0. ,  1. ,  8. ,  7. ,  6. ,  5. ,  6. ,  7. ,  8. ,  1. ,  0. ],\n",
       "        [ 0. ,  0.1, -0.2, -0.3, -0.4,  0.5,  0.6,  0.7,  0.8, -0.9, -1. ]]),\n",
       " array([[ 0. ,  9. ,  2. ,  3. ,  4. ,  5. ,  4. ,  3. ,  2. ,  9. ,  0. ],\n",
       "        [-0. , -0.1,  0.2,  0.3,  0.4, -0.5, -0.6, -0.7, -0.8,  0.9,  1. ]]))"
      ]
     },
     "execution_count": 37,
     "metadata": {},
     "output_type": "execute_result"
    }
   ],
   "source": [
    "c1, c2, rng = crossover_k_loci_ndarray(p1, p2, rng, k=3)\n",
    "c1.T, c2.T"
   ]
  },
  {
   "cell_type": "code",
   "execution_count": 38,
   "id": "3124a875-7bac-4117-8129-151b63656a2e",
   "metadata": {},
   "outputs": [
    {
     "data": {
      "text/plain": [
       "(array([[ 0. ,  1. ,  8. ,  7. ,  6. ,  5. ,  6. ,  7. ,  8. ,  1. ,  0. ],\n",
       "        [ 0. ,  0.1, -0.2, -0.3, -0.4, -0.5,  0.6,  0.7,  0.8, -0.9, -1. ]]),\n",
       " array([[ 0. ,  9. ,  2. ,  3. ,  4. ,  5. ,  4. ,  3. ,  2. ,  9. ,  0. ],\n",
       "        [-0. , -0.1,  0.2,  0.3,  0.4,  0.5, -0.6, -0.7, -0.8,  0.9,  1. ]]))"
      ]
     },
     "execution_count": 38,
     "metadata": {},
     "output_type": "execute_result"
    }
   ],
   "source": [
    "c1, c2, rng = crossover_k_loci_poisson_ndarray(p1, p2, rng, lam=1)\n",
    "c1.T, c2.T"
   ]
  },
  {
   "cell_type": "code",
   "execution_count": 39,
   "id": "d84b55dd-6a5c-4934-a990-67fecbe2ac53",
   "metadata": {},
   "outputs": [
    {
     "data": {
      "text/plain": [
       "(array([[ 0. , -9. , -8. ,  4. ,  3. , -0. , -1. , -2. , -3. , -4. , -5. ],\n",
       "        [ 0. ,  0.1,  0.2,  0.4,  0.3,  1. ,  0.9,  0.8,  0.7,  0.6,  0.5]]),\n",
       " array([[-0. ,  1. ,  2. , -6. , -7. ,  5. ,  6. ,  7. ,  8. ,  9. ,  0. ],\n",
       "        [ 0. ,  0.1,  0.2,  0.4,  0.3,  0.5,  0.6,  0.7,  0.8,  0.9,  1. ]]))"
      ]
     },
     "execution_count": 39,
     "metadata": {},
     "output_type": "execute_result"
    }
   ],
   "source": [
    "c1, c2, rng = crossover_k_loci_with_inversion_ndarray(\n",
    "    p1, -p2, rng, k=3, inversion_p=0.5\n",
    ")\n",
    "c1.T, c2.T"
   ]
  },
  {
   "cell_type": "code",
   "execution_count": 40,
   "id": "3528a050-5c97-48c0-b36c-79dd75cf7f8a",
   "metadata": {},
   "outputs": [
    {
     "data": {
      "text/plain": [
       "(array([[ 0. , -7. , -8. , -9. ,  6. ,  5. ,  4. , -3. , -2. ,  9. ,  0. ],\n",
       "        [ 0. ,  0.3,  0.2,  0.1,  0.6,  0.5,  0.4,  0.7,  0.8,  0.9,  1. ]]),\n",
       " array([[-0. ,  3. ,  2. ,  1. , -6. , -5. , -4. ,  7. ,  8. , -0. , -1. ],\n",
       "        [ 0. ,  0.3,  0.2,  0.1,  0.4,  0.5,  0.6,  0.7,  0.8,  1. ,  0.9]]))"
      ]
     },
     "execution_count": 40,
     "metadata": {},
     "output_type": "execute_result"
    }
   ],
   "source": [
    "c1, c2, rng = crossover_k_loci_poisson_with_inversion_ndarray(\n",
    "    p1, -p2, rng, lam=1, inversion_p=0.5\n",
    ")\n",
    "c1.T, c2.T"
   ]
  },
  {
   "cell_type": "markdown",
   "id": "0b326019-0409-43c1-8211-012a60369539",
   "metadata": {},
   "source": [
    "## Costs"
   ]
  },
  {
   "cell_type": "code",
   "execution_count": 6,
   "id": "9f21aabd-aa48-457f-b49b-f52691922e5e",
   "metadata": {},
   "outputs": [],
   "source": [
    "N = 10\n",
    "fv = -1\n",
    "speed = 2.5\n",
    "max_wind_speed = 2\n",
    "T = 100\n",
    "window_n = 10\n",
    "win_span = T / window_n\n",
    "dist_mx = rng.uniform(0.1, 10, size=(N, N))\n",
    "np.fill_diagonal(dist_mx, fv)\n",
    "dyn_costs = []\n",
    "exp_t = win_span\n",
    "while exp_t < T:\n",
    "    wind_mx = rng.uniform(-max_wind_speed, max_wind_speed, size=dist_mx.shape)\n",
    "    eff_speed = wind_mx + speed\n",
    "    eff_speed[eff_speed < 0] = 0\n",
    "    np.fill_diagonal(wind_mx, fv)\n",
    "    dyn_costs.append((eff_speed, exp_t))\n",
    "    exp_t += win_span"
   ]
  },
  {
   "cell_type": "code",
   "execution_count": 7,
   "id": "5c1cc2fd-5a4c-4fce-a868-07b6a62bc2bc",
   "metadata": {},
   "outputs": [
    {
     "data": {
      "text/plain": [
       "[0, 5, 1, 2, 4, 9, 6, 7, 3, 8, 0]"
      ]
     },
     "execution_count": 7,
     "metadata": {},
     "output_type": "execute_result"
    }
   ],
   "source": [
    "seq_tsp = [\n",
    "    0,\n",
    "    *rng.choice(range(1, dist_mx.shape[0]), size=dist_mx.shape[0] - 1, replace=False),\n",
    "    0,\n",
    "]\n",
    "seq_tsp"
   ]
  },
  {
   "cell_type": "code",
   "execution_count": 8,
   "id": "282728a5-ba9d-40d0-95ef-1fd4943d8dfb",
   "metadata": {},
   "outputs": [
    {
     "data": {
      "text/plain": [
       "27.35068344366533"
      ]
     },
     "execution_count": 8,
     "metadata": {},
     "output_type": "execute_result"
    }
   ],
   "source": [
    "cost_calc_tsp(seq_tsp, dyn_costs, dist_mx, initial_vx=0, forbidden_val=fv)"
   ]
  },
  {
   "cell_type": "code",
   "execution_count": 9,
   "id": "44c2d12a-0a39-4a36-98df-34c91c1597a3",
   "metadata": {},
   "outputs": [
    {
     "data": {
      "text/plain": [
       "[0, 5, 7, 8, 1, 9, 4, 6, 2, 10, 3, 0]"
      ]
     },
     "execution_count": 9,
     "metadata": {},
     "output_type": "execute_result"
    },
    {
     "data": {
      "image/png": "[encoded data removed]",
      "text/plain": [
       "<Figure size 432x288 with 2 Axes>"
      ]
     },
     "metadata": {
      "needs_background": "light"
     },
     "output_type": "display_data"
    }
   ],
   "source": [
    "ext_dist_mx = extend_cost_mx(dist_mx, copy_n=1, to_copy_ix=0)\n",
    "seq_vrp = list(range(1, ext_dist_mx.shape[0]))\n",
    "rng.shuffle(seq_vrp)\n",
    "seq_vrp = [0] + seq_vrp + [0]\n",
    "seq_vrp\n",
    "import seaborn as sns\n",
    "\n",
    "sns.heatmap(ext_dist_mx)\n",
    "seq_vrp"
   ]
  },
  {
   "cell_type": "code",
   "execution_count": 14,
   "id": "db30f9a6-4e62-411e-8951-b09ed1d15a8c",
   "metadata": {},
   "outputs": [],
   "source": [
    "dyn_costs = []\n",
    "exp_t = win_span\n",
    "while exp_t < T:\n",
    "    wind_mx = rng.uniform(-max_wind_speed, max_wind_speed, size=ext_dist_mx.shape)\n",
    "    eff_speed = wind_mx + speed\n",
    "    eff_speed[eff_speed < 0] = 0\n",
    "    np.fill_diagonal(wind_mx, fv)\n",
    "    dyn_costs.append((eff_speed, exp_t))\n",
    "    exp_t += win_span"
   ]
  },
  {
   "cell_type": "code",
   "execution_count": 15,
   "id": "b78f3463-abe8-4ba0-aaac-675783055bd1",
   "metadata": {},
   "outputs": [
    {
     "data": {
      "text/plain": [
       "17.864888681750497"
      ]
     },
     "execution_count": 15,
     "metadata": {},
     "output_type": "execute_result"
    }
   ],
   "source": [
    "cost_calc_vrp(\n",
    "    seq_vrp,\n",
    "    dyn_costs,\n",
    "    ext_dist_mx,\n",
    "    initial_vx=0,\n",
    "    forbidden_val=-1,\n",
    "    ini_and_dummy_vxs={0, 1},\n",
    ")"
   ]
  },
  {
   "cell_type": "code",
   "execution_count": null,
   "id": "60015d0d-de91-4eb8-a9a6-e2e07663ab53",
   "metadata": {},
   "outputs": [],
   "source": [
    "cost_calc_sdvrp(seq_vrp, dyn_costs, ext_dist_mx, fv, initial_vx, ini_and_dummy_vxs={0, 1}, demands=demands, w1)"
   ]
  }
 ],
 "metadata": {
  "kernelspec": {
   "display_name": "Python 3 (ipykernel)",
   "language": "python",
   "name": "python3"
  },
  "language_info": {
   "codemirror_mode": {
    "name": "ipython",
    "version": 3
   },
   "file_extension": ".py",
   "mimetype": "text/x-python",
   "name": "python",
   "nbconvert_exporter": "python",
   "pygments_lexer": "ipython3",
   "version": "3.9.9"
  }
 },
 "nbformat": 4,
 "nbformat_minor": 5
}
