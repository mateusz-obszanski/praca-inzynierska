{
 "cells": [
  {
   "cell_type": "code",
   "execution_count": 20,
   "id": "1594fab7-ea32-49ce-ac42-7712f63ceb26",
   "metadata": {},
   "outputs": [],
   "source": [
    "import numpy as np\n",
    "import itertools as it\n",
    "import more_itertools as mit"
   ]
  },
  {
   "cell_type": "code",
   "execution_count": 4,
   "id": "cec93753-fb51-437c-b552-cbefd25feb3f",
   "metadata": {},
   "outputs": [
    {
     "data": {
      "text/plain": [
       "array([[15, 65, 40, 12, 56],\n",
       "       [97, 38, 65,  2, 83],\n",
       "       [46, 72, 63, 76, 35],\n",
       "       [39, 81, 88,  1, 66],\n",
       "       [26, 54, 40, 81, 66]])"
      ]
     },
     "execution_count": 4,
     "metadata": {},
     "output_type": "execute_result"
    }
   ],
   "source": [
    "m = np.random.randint(0, 100, size=(5, 5))\n",
    "m"
   ]
  },
  {
   "cell_type": "code",
   "execution_count": 7,
   "id": "5a1f67ce-f216-4533-965b-91c0c6423258",
   "metadata": {},
   "outputs": [
    {
     "data": {
      "text/plain": [
       "65"
      ]
     },
     "execution_count": 7,
     "metadata": {},
     "output_type": "execute_result"
    }
   ],
   "source": [
    "m[1, 2]"
   ]
  },
  {
   "cell_type": "code",
   "execution_count": 10,
   "id": "59fb969d-fcef-4761-8894-04dfcf83a0bb",
   "metadata": {},
   "outputs": [
    {
     "data": {
      "text/plain": [
       "array([0., 0., 0.])"
      ]
     },
     "execution_count": 10,
     "metadata": {},
     "output_type": "execute_result"
    }
   ],
   "source": [
    "np.zeros(3)"
   ]
  },
  {
   "cell_type": "code",
   "execution_count": 12,
   "id": "1d78f814-3906-45aa-af29-b06d005f1dcd",
   "metadata": {},
   "outputs": [
    {
     "data": {
      "text/plain": [
       "<zip at 0x1f78df1ff40>"
      ]
     },
     "execution_count": 13,
     "metadata": {},
     "output_type": "execute_result"
    }
   ],
   "source": [
    "list(zip(*[(1, 2), (3, 4)]))"
   ]
  },
  {
   "cell_type": "code",
   "execution_count": 19,
   "id": "112179b5-b8b6-48bc-bf97-e7601fc3bdee",
   "metadata": {},
   "outputs": [
    {
     "data": {
      "text/plain": [
       "[(True, False), (False, True)]"
      ]
     },
     "execution_count": 19,
     "metadata": {},
     "output_type": "execute_result"
    }
   ],
   "source": [
    "list(itt.permutations([True, False], 2))"
   ]
  },
  {
   "cell_type": "code",
   "execution_count": 23,
   "id": "b4e7a8aa-60af-45d6-b486-abe931809559",
   "metadata": {},
   "outputs": [
    {
     "data": {
      "text/plain": [
       "array([[ 0,  1,  2,  3],\n",
       "       [ 4,  5,  6,  7],\n",
       "       [ 8,  9, 10, 11],\n",
       "       [12, 13, 14, 15]])"
      ]
     },
     "execution_count": 23,
     "metadata": {},
     "output_type": "execute_result"
    }
   ],
   "source": [
    "m = np.array(list(mit.chunked(range(16), 4)))\n",
    "m"
   ]
  },
  {
   "cell_type": "code",
   "execution_count": 25,
   "id": "68de464f-0085-4238-acf9-e06213d4ea3f",
   "metadata": {},
   "outputs": [
    {
     "data": {
      "text/plain": [
       "array([[ 0,  1,  2,  3],\n",
       "       [ 0,  0,  6,  7],\n",
       "       [ 0,  0,  0, 11],\n",
       "       [ 0,  0,  0,  0]])"
      ]
     },
     "execution_count": 25,
     "metadata": {},
     "output_type": "execute_result"
    }
   ],
   "source": [
    "np.triu(m, 1)"
   ]
  },
  {
   "cell_type": "code",
   "execution_count": 31,
   "id": "a61f95ba-c8ec-4fc4-bd12-60af6bc18095",
   "metadata": {},
   "outputs": [
    {
     "data": {
      "text/plain": [
       "array([[ True, False, False],\n",
       "       [False,  True, False],\n",
       "       [False, False,  True]])"
      ]
     },
     "execution_count": 31,
     "metadata": {},
     "output_type": "execute_result"
    }
   ],
   "source": [
    "np.diag([True, True, True])"
   ]
  },
  {
   "cell_type": "code",
   "execution_count": null,
   "id": "8738ba6d-841e-4e84-aa28-048e7d13015a",
   "metadata": {},
   "outputs": [],
   "source": []
  }
 ],
 "metadata": {
  "kernelspec": {
   "display_name": "Python 3 (ipykernel)",
   "language": "python",
   "name": "python3"
  },
  "language_info": {
   "codemirror_mode": {
    "name": "ipython",
    "version": 3
   },
   "file_extension": ".py",
   "mimetype": "text/x-python",
   "name": "python",
   "nbconvert_exporter": "python",
   "pygments_lexer": "ipython3",
   "version": "3.9.7"
  }
 },
 "nbformat": 4,
 "nbformat_minor": 5
}
